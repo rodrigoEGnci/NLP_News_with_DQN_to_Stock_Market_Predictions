{
 "cells": [
  {
   "cell_type": "markdown",
   "id": "8d72ceba-7624-42b4-907d-a01aa46eccde",
   "metadata": {},
   "source": [
    "# Preprocess of New York Times News DataSet"
   ]
  },
  {
   "cell_type": "code",
   "execution_count": 1,
   "id": "26206892-4de4-49b8-ac2e-b5b38cfdc70d",
   "metadata": {},
   "outputs": [],
   "source": [
    "import yfinance as yf\n",
    "import pandas as pd\n",
    "import numpy as np\n",
    "from datetime import datetime, timedelta\n",
    "import ast"
   ]
  },
  {
   "cell_type": "code",
   "execution_count": 2,
   "id": "3229182e-f0b4-4222-be6e-64d6b6d3e69e",
   "metadata": {},
   "outputs": [],
   "source": [
    "# expand the column width to see the full sentences\n",
    "pd.set_option('display.max_colwidth', None)"
   ]
  },
  {
   "cell_type": "code",
   "execution_count": 3,
   "id": "b50746a2-6d52-446b-9c66-b88e4fd3c28d",
   "metadata": {
    "scrolled": true
   },
   "outputs": [
    {
     "name": "stderr",
     "output_type": "stream",
     "text": [
      "/var/folders/gt/_n6gk0zn66v7tnqb9xpcyk_c0000gn/T/ipykernel_39199/511978975.py:1: DtypeWarning: Columns (5) have mixed types. Specify dtype option on import or set low_memory=False.\n",
      "  nyt_df = pd.read_csv('../Data/Original/nyt-metadata.csv')\n"
     ]
    },
    {
     "data": {
      "text/html": [
       "<div>\n",
       "<style scoped>\n",
       "    .dataframe tbody tr th:only-of-type {\n",
       "        vertical-align: middle;\n",
       "    }\n",
       "\n",
       "    .dataframe tbody tr th {\n",
       "        vertical-align: top;\n",
       "    }\n",
       "\n",
       "    .dataframe thead th {\n",
       "        text-align: right;\n",
       "    }\n",
       "</style>\n",
       "<table border=\"1\" class=\"dataframe\">\n",
       "  <thead>\n",
       "    <tr style=\"text-align: right;\">\n",
       "      <th></th>\n",
       "      <th>abstract</th>\n",
       "      <th>web_url</th>\n",
       "      <th>snippet</th>\n",
       "      <th>lead_paragraph</th>\n",
       "      <th>print_section</th>\n",
       "      <th>print_page</th>\n",
       "      <th>source</th>\n",
       "      <th>multimedia</th>\n",
       "      <th>headline</th>\n",
       "      <th>keywords</th>\n",
       "      <th>pub_date</th>\n",
       "      <th>document_type</th>\n",
       "      <th>news_desk</th>\n",
       "      <th>section_name</th>\n",
       "      <th>byline</th>\n",
       "      <th>type_of_material</th>\n",
       "      <th>_id</th>\n",
       "      <th>word_count</th>\n",
       "      <th>uri</th>\n",
       "      <th>subsection_name</th>\n",
       "    </tr>\n",
       "  </thead>\n",
       "  <tbody>\n",
       "    <tr>\n",
       "      <th>0</th>\n",
       "      <td>Article on upcoming New York Giants-Dallas Cowboys game; photo (M)</td>\n",
       "      <td>https://www.nytimes.com/2000/01/01/sports/pro-football-playoffs-or-no-dallas-provides-the-motivation.html</td>\n",
       "      <td>Article on upcoming New York Giants-Dallas Cowboys game; photo (M)</td>\n",
       "      <td>Waiting in the visiting locker room at Texas Stadium late tomorrow afternoon, the Giants will know whether the Green Bay Packers, who play earlier against Arizona, have won or are comfortably ahead.</td>\n",
       "      <td>D</td>\n",
       "      <td>2.0</td>\n",
       "      <td>The New York Times</td>\n",
       "      <td>[]</td>\n",
       "      <td>{'main': 'Playoffs or No, Dallas Provides The Motivation', 'kicker': 'PRO FOOTBALL', 'content_kicker': None, 'print_headline': 'PRO FOOTBALL; Playoffs or No, Dallas Provides The Motivation', 'name': None, 'seo': None, 'sub': None}</td>\n",
       "      <td>[{'name': 'organizations', 'value': 'New York Giants', 'rank': 1, 'major': 'N'}, {'name': 'organizations', 'value': 'Dallas Cowboys', 'rank': 2, 'major': 'N'}, {'name': 'subject', 'value': 'Football', 'rank': 3, 'major': 'N'}]</td>\n",
       "      <td>2000-01-01 05:00:00+00:00</td>\n",
       "      <td>article</td>\n",
       "      <td>Sports Desk</td>\n",
       "      <td>Sports</td>\n",
       "      <td>{'original': 'By Bill Pennington', 'person': [{'firstname': 'Bill', 'middlename': None, 'lastname': 'Pennington', 'qualifier': None, 'title': None, 'role': 'reported', 'organization': '', 'rank': 1}], 'organization': None}</td>\n",
       "      <td>News</td>\n",
       "      <td>nyt://article/01111a48-3502-5021-8096-bc9293797d54</td>\n",
       "      <td>819.0</td>\n",
       "      <td>nyt://article/01111a48-3502-5021-8096-bc9293797d54</td>\n",
       "      <td>NaN</td>\n",
       "    </tr>\n",
       "    <tr>\n",
       "      <th>1</th>\n",
       "      <td>Jeanne C Pond letter expresses hope that spiritual development, artistic knowledge and skills and self-esteem flourish in new century; drawing</td>\n",
       "      <td>https://www.nytimes.com/2000/01/01/opinion/l-on-this-first-day-a-fanfare-for-the-new-era-knowing-the-world-165590.html</td>\n",
       "      <td>Jeanne C Pond letter expresses hope that spiritual development, artistic knowledge and skills and self-esteem flourish in new century; drawing</td>\n",
       "      <td>To the Editor:</td>\n",
       "      <td>A</td>\n",
       "      <td>30.0</td>\n",
       "      <td>The New York Times</td>\n",
       "      <td>[]</td>\n",
       "      <td>{'main': 'On This First Day, a Fanfare for the New Era; Knowing the World', 'kicker': None, 'content_kicker': None, 'print_headline': 'On This First Day, a Fanfare for the New Era; Knowing the World', 'name': None, 'seo': None, 'sub': None}</td>\n",
       "      <td>[{'name': 'persons', 'value': 'Pond, Jeanne C', 'rank': 1, 'major': 'N'}, {'name': 'subject', 'value': 'TWO THOUSAND (YEAR)', 'rank': 2, 'major': 'N'}]</td>\n",
       "      <td>2000-01-01 05:00:00+00:00</td>\n",
       "      <td>article</td>\n",
       "      <td>Editorial Desk</td>\n",
       "      <td>Opinion</td>\n",
       "      <td>{'original': '', 'person': [], 'organization': None}</td>\n",
       "      <td>Letter</td>\n",
       "      <td>nyt://article/02328edc-dad1-5eb0-900e-917162e46dcd</td>\n",
       "      <td>122.0</td>\n",
       "      <td>nyt://article/02328edc-dad1-5eb0-900e-917162e46dcd</td>\n",
       "      <td>NaN</td>\n",
       "    </tr>\n",
       "    <tr>\n",
       "      <th>2</th>\n",
       "      <td>Many experts on Y2K computer problem report that Internet performed impressively through rollover from 1999 to 2000 even if it did sag at times in isolated sites as users turned to e-mail messages, Web sites, newsgroups and electronic chat rooms to track arrival of Year 2000 in more and more time zones (M)</td>\n",
       "      <td>https://www.nytimes.com/2000/01/01/us/1-1-00-technology-2000-momentous-relief-internet-s-cheering-squad-nervously.html</td>\n",
       "      <td>Many experts on Y2K computer problem report that Internet performed impressively through rollover from 1999 to 2000 even if it did sag at times in isolated sites as users turned to e-mail messages, Web sites, newsgroups and electronic chat rooms t...</td>\n",
       "      <td>As the world slid nervously yesterday through the shadow of its first global technology challenge, many year 2000 experts took special comfort in the relatively stable behavior of one of their principal tools in dealing with the problem: the not-always-reliable Internet.</td>\n",
       "      <td>A</td>\n",
       "      <td>10.0</td>\n",
       "      <td>The New York Times</td>\n",
       "      <td>[]</td>\n",
       "      <td>{'main': \"Internet's Cheering Squad Nervously Watches Clock\", 'kicker': '1/1/00: TECHNOLOGY AND 2000 -- MOMENTOUS RELIEF', 'content_kicker': None, 'print_headline': \"1/1/00: TECHNOLOGY AND 2000 -- MOMENTOUS RELIEF; Internet's Cheering Squad Nervously Watches Clock\", 'name': None, 'seo': None, 'sub': None}</td>\n",
       "      <td>[{'name': 'subject', 'value': 'Electronic Mail', 'rank': 1, 'major': 'N'}, {'name': 'subject', 'value': 'COMPUTER SOFTWARE', 'rank': 2, 'major': 'N'}, {'name': 'subject', 'value': 'TWO THOUSAND (YEAR)', 'rank': 3, 'major': 'N'}, {'name': 'subject', 'value': 'Computers and the Internet', 'rank': 4, 'major': 'N'}]</td>\n",
       "      <td>2000-01-01 05:00:00+00:00</td>\n",
       "      <td>article</td>\n",
       "      <td>National Desk</td>\n",
       "      <td>U.S.</td>\n",
       "      <td>{'original': 'By Barnaby J. Feder', 'person': [{'firstname': 'Barnaby', 'middlename': 'J.', 'lastname': 'Feder', 'qualifier': None, 'title': None, 'role': 'reported', 'organization': '', 'rank': 1}], 'organization': None}</td>\n",
       "      <td>News</td>\n",
       "      <td>nyt://article/02a8f89b-153f-5b84-983c-e328de5bf811</td>\n",
       "      <td>761.0</td>\n",
       "      <td>nyt://article/02a8f89b-153f-5b84-983c-e328de5bf811</td>\n",
       "      <td>NaN</td>\n",
       "    </tr>\n",
       "    <tr>\n",
       "      <th>3</th>\n",
       "      <td>WILL the forces of globalism continue to push the world toward American-style capitalism?    As the 21st century begins, advocates of the free market have no doubt that they have won the economic argument. Socialism is dead. Moreover, as a means of creating wealth and material progress, American capitalism seems to be clearly superior to the Asian variety, with its greater level of government planning, or the European version, with its emphasis on social welfare and protection of workers from losing their jobs.</td>\n",
       "      <td>https://www.nytimes.com/2000/01/01/news/visions-power-economic-thinking-finds-a-free-market.html</td>\n",
       "      <td>NaN</td>\n",
       "      <td>WILL the forces of globalism continue to push the world toward American-style capitalism?</td>\n",
       "      <td>E</td>\n",
       "      <td>4.0</td>\n",
       "      <td>The New York Times</td>\n",
       "      <td>[]</td>\n",
       "      <td>{'main': 'Economic Thinking Finds a Free Market', 'kicker': 'VISIONS: POWER', 'content_kicker': None, 'print_headline': 'VISIONS: POWER; Economic Thinking Finds a Free Market', 'name': None, 'seo': None, 'sub': None}</td>\n",
       "      <td>[]</td>\n",
       "      <td>2000-01-01 05:00:00+00:00</td>\n",
       "      <td>article</td>\n",
       "      <td>The Millennium</td>\n",
       "      <td>Archives</td>\n",
       "      <td>{'original': 'By Floyd Norris', 'person': [{'firstname': 'Floyd', 'middlename': None, 'lastname': 'Norris', 'qualifier': None, 'title': None, 'role': 'reported', 'organization': '', 'rank': 1}], 'organization': None}</td>\n",
       "      <td>News</td>\n",
       "      <td>nyt://article/0634d837-97b8-59b5-aa17-f90d1a8996b1</td>\n",
       "      <td>916.0</td>\n",
       "      <td>nyt://article/0634d837-97b8-59b5-aa17-f90d1a8996b1</td>\n",
       "      <td>NaN</td>\n",
       "    </tr>\n",
       "    <tr>\n",
       "      <th>4</th>\n",
       "      <td>SPECIAL TODAY  The Millennium  Envisioning the future of politics, people, cities and machines -- even the front page of The Times -- and reflecting on the past.  SECTION E</td>\n",
       "      <td>https://www.nytimes.com/2000/01/01/nyregion/inside-164895.html</td>\n",
       "      <td>NaN</td>\n",
       "      <td>SPECIAL TODAY</td>\n",
       "      <td>A</td>\n",
       "      <td>1.0</td>\n",
       "      <td>The New York Times</td>\n",
       "      <td>[]</td>\n",
       "      <td>{'main': 'INSIDE', 'kicker': None, 'content_kicker': None, 'print_headline': 'INSIDE', 'name': None, 'seo': None, 'sub': None}</td>\n",
       "      <td>[]</td>\n",
       "      <td>2000-01-01 05:00:00+00:00</td>\n",
       "      <td>article</td>\n",
       "      <td>Metropolitan Desk</td>\n",
       "      <td>New York</td>\n",
       "      <td>{'original': '', 'person': [], 'organization': None}</td>\n",
       "      <td>Summary</td>\n",
       "      <td>nyt://article/0654cc64-c37f-594d-9290-1ce578cd9c7a</td>\n",
       "      <td>102.0</td>\n",
       "      <td>nyt://article/0654cc64-c37f-594d-9290-1ce578cd9c7a</td>\n",
       "      <td>NaN</td>\n",
       "    </tr>\n",
       "  </tbody>\n",
       "</table>\n",
       "</div>"
      ],
      "text/plain": [
       "                                                                                                                                                                                                                                                                                                                                                                                                                                                                                                                                 abstract  \\\n",
       "0                                                                                                                                                                                                                                                                                                                                                                                                                                                                      Article on upcoming New York Giants-Dallas Cowboys game; photo (M)   \n",
       "1                                                                                                                                                                                                                                                                                                                                                                                          Jeanne C Pond letter expresses hope that spiritual development, artistic knowledge and skills and self-esteem flourish in new century; drawing   \n",
       "2                                                                                                                                                                                                                     Many experts on Y2K computer problem report that Internet performed impressively through rollover from 1999 to 2000 even if it did sag at times in isolated sites as users turned to e-mail messages, Web sites, newsgroups and electronic chat rooms to track arrival of Year 2000 in more and more time zones (M)   \n",
       "3  WILL the forces of globalism continue to push the world toward American-style capitalism?    As the 21st century begins, advocates of the free market have no doubt that they have won the economic argument. Socialism is dead. Moreover, as a means of creating wealth and material progress, American capitalism seems to be clearly superior to the Asian variety, with its greater level of government planning, or the European version, with its emphasis on social welfare and protection of workers from losing their jobs.     \n",
       "4                                                                                                                                                                                                                                                                                                                                                            SPECIAL TODAY  The Millennium  Envisioning the future of politics, people, cities and machines -- even the front page of The Times -- and reflecting on the past.  SECTION E   \n",
       "\n",
       "                                                                                                                  web_url  \\\n",
       "0               https://www.nytimes.com/2000/01/01/sports/pro-football-playoffs-or-no-dallas-provides-the-motivation.html   \n",
       "1  https://www.nytimes.com/2000/01/01/opinion/l-on-this-first-day-a-fanfare-for-the-new-era-knowing-the-world-165590.html   \n",
       "2  https://www.nytimes.com/2000/01/01/us/1-1-00-technology-2000-momentous-relief-internet-s-cheering-squad-nervously.html   \n",
       "3                        https://www.nytimes.com/2000/01/01/news/visions-power-economic-thinking-finds-a-free-market.html   \n",
       "4                                                          https://www.nytimes.com/2000/01/01/nyregion/inside-164895.html   \n",
       "\n",
       "                                                                                                                                                                                                                                                      snippet  \\\n",
       "0                                                                                                                                                                                          Article on upcoming New York Giants-Dallas Cowboys game; photo (M)   \n",
       "1                                                                                                              Jeanne C Pond letter expresses hope that spiritual development, artistic knowledge and skills and self-esteem flourish in new century; drawing   \n",
       "2  Many experts on Y2K computer problem report that Internet performed impressively through rollover from 1999 to 2000 even if it did sag at times in isolated sites as users turned to e-mail messages, Web sites, newsgroups and electronic chat rooms t...   \n",
       "3                                                                                                                                                                                                                                                         NaN   \n",
       "4                                                                                                                                                                                                                                                         NaN   \n",
       "\n",
       "                                                                                                                                                                                                                                                                    lead_paragraph  \\\n",
       "0                                                                           Waiting in the visiting locker room at Texas Stadium late tomorrow afternoon, the Giants will know whether the Green Bay Packers, who play earlier against Arizona, have won or are comfortably ahead.   \n",
       "1                                                                                                                                                                                                                                                                   To the Editor:   \n",
       "2  As the world slid nervously yesterday through the shadow of its first global technology challenge, many year 2000 experts took special comfort in the relatively stable behavior of one of their principal tools in dealing with the problem: the not-always-reliable Internet.   \n",
       "3                                                                                                                                                                                        WILL the forces of globalism continue to push the world toward American-style capitalism?   \n",
       "4                                                                                                                                                                                                                                                                    SPECIAL TODAY   \n",
       "\n",
       "  print_section print_page              source multimedia  \\\n",
       "0             D        2.0  The New York Times         []   \n",
       "1             A       30.0  The New York Times         []   \n",
       "2             A       10.0  The New York Times         []   \n",
       "3             E        4.0  The New York Times         []   \n",
       "4             A        1.0  The New York Times         []   \n",
       "\n",
       "                                                                                                                                                                                                                                                                                                             headline  \\\n",
       "0                                                                              {'main': 'Playoffs or No, Dallas Provides The Motivation', 'kicker': 'PRO FOOTBALL', 'content_kicker': None, 'print_headline': 'PRO FOOTBALL; Playoffs or No, Dallas Provides The Motivation', 'name': None, 'seo': None, 'sub': None}   \n",
       "1                                                                    {'main': 'On This First Day, a Fanfare for the New Era; Knowing the World', 'kicker': None, 'content_kicker': None, 'print_headline': 'On This First Day, a Fanfare for the New Era; Knowing the World', 'name': None, 'seo': None, 'sub': None}   \n",
       "2  {'main': \"Internet's Cheering Squad Nervously Watches Clock\", 'kicker': '1/1/00: TECHNOLOGY AND 2000 -- MOMENTOUS RELIEF', 'content_kicker': None, 'print_headline': \"1/1/00: TECHNOLOGY AND 2000 -- MOMENTOUS RELIEF; Internet's Cheering Squad Nervously Watches Clock\", 'name': None, 'seo': None, 'sub': None}   \n",
       "3                                                                                            {'main': 'Economic Thinking Finds a Free Market', 'kicker': 'VISIONS: POWER', 'content_kicker': None, 'print_headline': 'VISIONS: POWER; Economic Thinking Finds a Free Market', 'name': None, 'seo': None, 'sub': None}   \n",
       "4                                                                                                                                                                                      {'main': 'INSIDE', 'kicker': None, 'content_kicker': None, 'print_headline': 'INSIDE', 'name': None, 'seo': None, 'sub': None}   \n",
       "\n",
       "                                                                                                                                                                                                                                                                                                                    keywords  \\\n",
       "0                                                                                         [{'name': 'organizations', 'value': 'New York Giants', 'rank': 1, 'major': 'N'}, {'name': 'organizations', 'value': 'Dallas Cowboys', 'rank': 2, 'major': 'N'}, {'name': 'subject', 'value': 'Football', 'rank': 3, 'major': 'N'}]   \n",
       "1                                                                                                                                                                    [{'name': 'persons', 'value': 'Pond, Jeanne C', 'rank': 1, 'major': 'N'}, {'name': 'subject', 'value': 'TWO THOUSAND (YEAR)', 'rank': 2, 'major': 'N'}]   \n",
       "2  [{'name': 'subject', 'value': 'Electronic Mail', 'rank': 1, 'major': 'N'}, {'name': 'subject', 'value': 'COMPUTER SOFTWARE', 'rank': 2, 'major': 'N'}, {'name': 'subject', 'value': 'TWO THOUSAND (YEAR)', 'rank': 3, 'major': 'N'}, {'name': 'subject', 'value': 'Computers and the Internet', 'rank': 4, 'major': 'N'}]   \n",
       "3                                                                                                                                                                                                                                                                                                                         []   \n",
       "4                                                                                                                                                                                                                                                                                                                         []   \n",
       "\n",
       "                    pub_date document_type          news_desk section_name  \\\n",
       "0  2000-01-01 05:00:00+00:00       article        Sports Desk       Sports   \n",
       "1  2000-01-01 05:00:00+00:00       article     Editorial Desk      Opinion   \n",
       "2  2000-01-01 05:00:00+00:00       article      National Desk         U.S.   \n",
       "3  2000-01-01 05:00:00+00:00       article     The Millennium     Archives   \n",
       "4  2000-01-01 05:00:00+00:00       article  Metropolitan Desk     New York   \n",
       "\n",
       "                                                                                                                                                                                                                           byline  \\\n",
       "0  {'original': 'By Bill Pennington', 'person': [{'firstname': 'Bill', 'middlename': None, 'lastname': 'Pennington', 'qualifier': None, 'title': None, 'role': 'reported', 'organization': '', 'rank': 1}], 'organization': None}   \n",
       "1                                                                                                                                                                            {'original': '', 'person': [], 'organization': None}   \n",
       "2   {'original': 'By Barnaby J. Feder', 'person': [{'firstname': 'Barnaby', 'middlename': 'J.', 'lastname': 'Feder', 'qualifier': None, 'title': None, 'role': 'reported', 'organization': '', 'rank': 1}], 'organization': None}   \n",
       "3        {'original': 'By Floyd Norris', 'person': [{'firstname': 'Floyd', 'middlename': None, 'lastname': 'Norris', 'qualifier': None, 'title': None, 'role': 'reported', 'organization': '', 'rank': 1}], 'organization': None}   \n",
       "4                                                                                                                                                                            {'original': '', 'person': [], 'organization': None}   \n",
       "\n",
       "  type_of_material                                                 _id  \\\n",
       "0             News  nyt://article/01111a48-3502-5021-8096-bc9293797d54   \n",
       "1           Letter  nyt://article/02328edc-dad1-5eb0-900e-917162e46dcd   \n",
       "2             News  nyt://article/02a8f89b-153f-5b84-983c-e328de5bf811   \n",
       "3             News  nyt://article/0634d837-97b8-59b5-aa17-f90d1a8996b1   \n",
       "4          Summary  nyt://article/0654cc64-c37f-594d-9290-1ce578cd9c7a   \n",
       "\n",
       "   word_count                                                 uri  \\\n",
       "0       819.0  nyt://article/01111a48-3502-5021-8096-bc9293797d54   \n",
       "1       122.0  nyt://article/02328edc-dad1-5eb0-900e-917162e46dcd   \n",
       "2       761.0  nyt://article/02a8f89b-153f-5b84-983c-e328de5bf811   \n",
       "3       916.0  nyt://article/0634d837-97b8-59b5-aa17-f90d1a8996b1   \n",
       "4       102.0  nyt://article/0654cc64-c37f-594d-9290-1ce578cd9c7a   \n",
       "\n",
       "  subsection_name  \n",
       "0             NaN  \n",
       "1             NaN  \n",
       "2             NaN  \n",
       "3             NaN  \n",
       "4             NaN  "
      ]
     },
     "execution_count": 3,
     "metadata": {},
     "output_type": "execute_result"
    }
   ],
   "source": [
    "nyt_df = pd.read_csv('../Data/Original/nyt-metadata.csv')\n",
    "nyt_df.head()"
   ]
  },
  {
   "cell_type": "markdown",
   "id": "4a5b453c-fa54-40f4-993a-408c54b4c307",
   "metadata": {},
   "source": [
    "### Clean Dataset"
   ]
  },
  {
   "cell_type": "markdown",
   "id": "b62691b5-ce8a-43dc-a7bd-3d1e48f12236",
   "metadata": {},
   "source": [
    "Let's choose the \"date\", \"abstract\", \"lead_paragraph\", and \"headline\" columns because these are the columns that contain relevant information for our project."
   ]
  },
  {
   "cell_type": "code",
   "execution_count": 4,
   "id": "c280a2e9-8733-4707-84dc-ef14390bf429",
   "metadata": {},
   "outputs": [
    {
     "data": {
      "text/html": [
       "<div>\n",
       "<style scoped>\n",
       "    .dataframe tbody tr th:only-of-type {\n",
       "        vertical-align: middle;\n",
       "    }\n",
       "\n",
       "    .dataframe tbody tr th {\n",
       "        vertical-align: top;\n",
       "    }\n",
       "\n",
       "    .dataframe thead th {\n",
       "        text-align: right;\n",
       "    }\n",
       "</style>\n",
       "<table border=\"1\" class=\"dataframe\">\n",
       "  <thead>\n",
       "    <tr style=\"text-align: right;\">\n",
       "      <th></th>\n",
       "      <th>date</th>\n",
       "      <th>abstract</th>\n",
       "      <th>lead_paragraph</th>\n",
       "      <th>headline</th>\n",
       "    </tr>\n",
       "  </thead>\n",
       "  <tbody>\n",
       "    <tr>\n",
       "      <th>0</th>\n",
       "      <td>2000-01-01 05:00:00+00:00</td>\n",
       "      <td>Article on upcoming New York Giants-Dallas Cowboys game; photo (M)</td>\n",
       "      <td>Waiting in the visiting locker room at Texas Stadium late tomorrow afternoon, the Giants will know whether the Green Bay Packers, who play earlier against Arizona, have won or are comfortably ahead.</td>\n",
       "      <td>{'main': 'Playoffs or No, Dallas Provides The Motivation', 'kicker': 'PRO FOOTBALL', 'content_kicker': None, 'print_headline': 'PRO FOOTBALL; Playoffs or No, Dallas Provides The Motivation', 'name': None, 'seo': None, 'sub': None}</td>\n",
       "    </tr>\n",
       "    <tr>\n",
       "      <th>1</th>\n",
       "      <td>2000-01-01 05:00:00+00:00</td>\n",
       "      <td>Jeanne C Pond letter expresses hope that spiritual development, artistic knowledge and skills and self-esteem flourish in new century; drawing</td>\n",
       "      <td>To the Editor:</td>\n",
       "      <td>{'main': 'On This First Day, a Fanfare for the New Era; Knowing the World', 'kicker': None, 'content_kicker': None, 'print_headline': 'On This First Day, a Fanfare for the New Era; Knowing the World', 'name': None, 'seo': None, 'sub': None}</td>\n",
       "    </tr>\n",
       "    <tr>\n",
       "      <th>2</th>\n",
       "      <td>2000-01-01 05:00:00+00:00</td>\n",
       "      <td>Many experts on Y2K computer problem report that Internet performed impressively through rollover from 1999 to 2000 even if it did sag at times in isolated sites as users turned to e-mail messages, Web sites, newsgroups and electronic chat rooms to track arrival of Year 2000 in more and more time zones (M)</td>\n",
       "      <td>As the world slid nervously yesterday through the shadow of its first global technology challenge, many year 2000 experts took special comfort in the relatively stable behavior of one of their principal tools in dealing with the problem: the not-always-reliable Internet.</td>\n",
       "      <td>{'main': \"Internet's Cheering Squad Nervously Watches Clock\", 'kicker': '1/1/00: TECHNOLOGY AND 2000 -- MOMENTOUS RELIEF', 'content_kicker': None, 'print_headline': \"1/1/00: TECHNOLOGY AND 2000 -- MOMENTOUS RELIEF; Internet's Cheering Squad Nervously Watches Clock\", 'name': None, 'seo': None, 'sub': None}</td>\n",
       "    </tr>\n",
       "    <tr>\n",
       "      <th>3</th>\n",
       "      <td>2000-01-01 05:00:00+00:00</td>\n",
       "      <td>WILL the forces of globalism continue to push the world toward American-style capitalism?    As the 21st century begins, advocates of the free market have no doubt that they have won the economic argument. Socialism is dead. Moreover, as a means of creating wealth and material progress, American capitalism seems to be clearly superior to the Asian variety, with its greater level of government planning, or the European version, with its emphasis on social welfare and protection of workers from losing their jobs.</td>\n",
       "      <td>WILL the forces of globalism continue to push the world toward American-style capitalism?</td>\n",
       "      <td>{'main': 'Economic Thinking Finds a Free Market', 'kicker': 'VISIONS: POWER', 'content_kicker': None, 'print_headline': 'VISIONS: POWER; Economic Thinking Finds a Free Market', 'name': None, 'seo': None, 'sub': None}</td>\n",
       "    </tr>\n",
       "    <tr>\n",
       "      <th>4</th>\n",
       "      <td>2000-01-01 05:00:00+00:00</td>\n",
       "      <td>SPECIAL TODAY  The Millennium  Envisioning the future of politics, people, cities and machines -- even the front page of The Times -- and reflecting on the past.  SECTION E</td>\n",
       "      <td>SPECIAL TODAY</td>\n",
       "      <td>{'main': 'INSIDE', 'kicker': None, 'content_kicker': None, 'print_headline': 'INSIDE', 'name': None, 'seo': None, 'sub': None}</td>\n",
       "    </tr>\n",
       "  </tbody>\n",
       "</table>\n",
       "</div>"
      ],
      "text/plain": [
       "                        date  \\\n",
       "0  2000-01-01 05:00:00+00:00   \n",
       "1  2000-01-01 05:00:00+00:00   \n",
       "2  2000-01-01 05:00:00+00:00   \n",
       "3  2000-01-01 05:00:00+00:00   \n",
       "4  2000-01-01 05:00:00+00:00   \n",
       "\n",
       "                                                                                                                                                                                                                                                                                                                                                                                                                                                                                                                                 abstract  \\\n",
       "0                                                                                                                                                                                                                                                                                                                                                                                                                                                                      Article on upcoming New York Giants-Dallas Cowboys game; photo (M)   \n",
       "1                                                                                                                                                                                                                                                                                                                                                                                          Jeanne C Pond letter expresses hope that spiritual development, artistic knowledge and skills and self-esteem flourish in new century; drawing   \n",
       "2                                                                                                                                                                                                                     Many experts on Y2K computer problem report that Internet performed impressively through rollover from 1999 to 2000 even if it did sag at times in isolated sites as users turned to e-mail messages, Web sites, newsgroups and electronic chat rooms to track arrival of Year 2000 in more and more time zones (M)   \n",
       "3  WILL the forces of globalism continue to push the world toward American-style capitalism?    As the 21st century begins, advocates of the free market have no doubt that they have won the economic argument. Socialism is dead. Moreover, as a means of creating wealth and material progress, American capitalism seems to be clearly superior to the Asian variety, with its greater level of government planning, or the European version, with its emphasis on social welfare and protection of workers from losing their jobs.     \n",
       "4                                                                                                                                                                                                                                                                                                                                                            SPECIAL TODAY  The Millennium  Envisioning the future of politics, people, cities and machines -- even the front page of The Times -- and reflecting on the past.  SECTION E   \n",
       "\n",
       "                                                                                                                                                                                                                                                                    lead_paragraph  \\\n",
       "0                                                                           Waiting in the visiting locker room at Texas Stadium late tomorrow afternoon, the Giants will know whether the Green Bay Packers, who play earlier against Arizona, have won or are comfortably ahead.   \n",
       "1                                                                                                                                                                                                                                                                   To the Editor:   \n",
       "2  As the world slid nervously yesterday through the shadow of its first global technology challenge, many year 2000 experts took special comfort in the relatively stable behavior of one of their principal tools in dealing with the problem: the not-always-reliable Internet.   \n",
       "3                                                                                                                                                                                        WILL the forces of globalism continue to push the world toward American-style capitalism?   \n",
       "4                                                                                                                                                                                                                                                                    SPECIAL TODAY   \n",
       "\n",
       "                                                                                                                                                                                                                                                                                                             headline  \n",
       "0                                                                              {'main': 'Playoffs or No, Dallas Provides The Motivation', 'kicker': 'PRO FOOTBALL', 'content_kicker': None, 'print_headline': 'PRO FOOTBALL; Playoffs or No, Dallas Provides The Motivation', 'name': None, 'seo': None, 'sub': None}  \n",
       "1                                                                    {'main': 'On This First Day, a Fanfare for the New Era; Knowing the World', 'kicker': None, 'content_kicker': None, 'print_headline': 'On This First Day, a Fanfare for the New Era; Knowing the World', 'name': None, 'seo': None, 'sub': None}  \n",
       "2  {'main': \"Internet's Cheering Squad Nervously Watches Clock\", 'kicker': '1/1/00: TECHNOLOGY AND 2000 -- MOMENTOUS RELIEF', 'content_kicker': None, 'print_headline': \"1/1/00: TECHNOLOGY AND 2000 -- MOMENTOUS RELIEF; Internet's Cheering Squad Nervously Watches Clock\", 'name': None, 'seo': None, 'sub': None}  \n",
       "3                                                                                            {'main': 'Economic Thinking Finds a Free Market', 'kicker': 'VISIONS: POWER', 'content_kicker': None, 'print_headline': 'VISIONS: POWER; Economic Thinking Finds a Free Market', 'name': None, 'seo': None, 'sub': None}  \n",
       "4                                                                                                                                                                                      {'main': 'INSIDE', 'kicker': None, 'content_kicker': None, 'print_headline': 'INSIDE', 'name': None, 'seo': None, 'sub': None}  "
      ]
     },
     "execution_count": 4,
     "metadata": {},
     "output_type": "execute_result"
    }
   ],
   "source": [
    "clean_nyt_df = pd.DataFrame()\n",
    "\n",
    "clean_nyt_df['date'] = nyt_df['pub_date']\n",
    "clean_nyt_df['abstract'] = nyt_df['abstract']\n",
    "clean_nyt_df['lead_paragraph'] = nyt_df['lead_paragraph']\n",
    "clean_nyt_df['headline'] = nyt_df['headline']\n",
    "\n",
    "clean_nyt_df.head()"
   ]
  },
  {
   "cell_type": "code",
   "execution_count": 5,
   "id": "c26e352e-5f53-4866-86af-ef8d8f1cf2d7",
   "metadata": {},
   "outputs": [],
   "source": [
    "#Get just with main sector of column headline\n",
    "import re\n",
    "\n",
    "pattern = r\"'main'\\s*:\\s*'((?:[^'\\\\]|\\\\.)*)'|\" + \\\n",
    "           r\"'main'\\s*:\\s*\\\"((?:[^\\\"\\\\]|\\\\.)*)\\\"\"\n",
    "\n",
    "clean_nyt_df['headline_clean'] = nyt_df['headline'].str.extract(pattern, flags=re.IGNORECASE)[0].fillna(\n",
    "    nyt_df['headline'].str.extract(pattern, flags=re.IGNORECASE)[1]\n",
    ")"
   ]
  },
  {
   "cell_type": "code",
   "execution_count": 6,
   "id": "df3a9ce4-895a-4fc1-81ec-5c991f8defce",
   "metadata": {},
   "outputs": [
    {
     "data": {
      "text/html": [
       "<div>\n",
       "<style scoped>\n",
       "    .dataframe tbody tr th:only-of-type {\n",
       "        vertical-align: middle;\n",
       "    }\n",
       "\n",
       "    .dataframe tbody tr th {\n",
       "        vertical-align: top;\n",
       "    }\n",
       "\n",
       "    .dataframe thead th {\n",
       "        text-align: right;\n",
       "    }\n",
       "</style>\n",
       "<table border=\"1\" class=\"dataframe\">\n",
       "  <thead>\n",
       "    <tr style=\"text-align: right;\">\n",
       "      <th></th>\n",
       "      <th>date</th>\n",
       "      <th>abstract</th>\n",
       "      <th>lead_paragraph</th>\n",
       "      <th>headline</th>\n",
       "      <th>headline_clean</th>\n",
       "    </tr>\n",
       "  </thead>\n",
       "  <tbody>\n",
       "    <tr>\n",
       "      <th>0</th>\n",
       "      <td>2000-01-01 05:00:00+00:00</td>\n",
       "      <td>Article on upcoming New York Giants-Dallas Cowboys game; photo (M)</td>\n",
       "      <td>Waiting in the visiting locker room at Texas Stadium late tomorrow afternoon, the Giants will know whether the Green Bay Packers, who play earlier against Arizona, have won or are comfortably ahead.</td>\n",
       "      <td>{'main': 'Playoffs or No, Dallas Provides The Motivation', 'kicker': 'PRO FOOTBALL', 'content_kicker': None, 'print_headline': 'PRO FOOTBALL; Playoffs or No, Dallas Provides The Motivation', 'name': None, 'seo': None, 'sub': None}</td>\n",
       "      <td>Playoffs or No, Dallas Provides The Motivation</td>\n",
       "    </tr>\n",
       "    <tr>\n",
       "      <th>1</th>\n",
       "      <td>2000-01-01 05:00:00+00:00</td>\n",
       "      <td>Jeanne C Pond letter expresses hope that spiritual development, artistic knowledge and skills and self-esteem flourish in new century; drawing</td>\n",
       "      <td>To the Editor:</td>\n",
       "      <td>{'main': 'On This First Day, a Fanfare for the New Era; Knowing the World', 'kicker': None, 'content_kicker': None, 'print_headline': 'On This First Day, a Fanfare for the New Era; Knowing the World', 'name': None, 'seo': None, 'sub': None}</td>\n",
       "      <td>On This First Day, a Fanfare for the New Era; Knowing the World</td>\n",
       "    </tr>\n",
       "    <tr>\n",
       "      <th>2</th>\n",
       "      <td>2000-01-01 05:00:00+00:00</td>\n",
       "      <td>Many experts on Y2K computer problem report that Internet performed impressively through rollover from 1999 to 2000 even if it did sag at times in isolated sites as users turned to e-mail messages, Web sites, newsgroups and electronic chat rooms to track arrival of Year 2000 in more and more time zones (M)</td>\n",
       "      <td>As the world slid nervously yesterday through the shadow of its first global technology challenge, many year 2000 experts took special comfort in the relatively stable behavior of one of their principal tools in dealing with the problem: the not-always-reliable Internet.</td>\n",
       "      <td>{'main': \"Internet's Cheering Squad Nervously Watches Clock\", 'kicker': '1/1/00: TECHNOLOGY AND 2000 -- MOMENTOUS RELIEF', 'content_kicker': None, 'print_headline': \"1/1/00: TECHNOLOGY AND 2000 -- MOMENTOUS RELIEF; Internet's Cheering Squad Nervously Watches Clock\", 'name': None, 'seo': None, 'sub': None}</td>\n",
       "      <td>Internet's Cheering Squad Nervously Watches Clock</td>\n",
       "    </tr>\n",
       "  </tbody>\n",
       "</table>\n",
       "</div>"
      ],
      "text/plain": [
       "                        date  \\\n",
       "0  2000-01-01 05:00:00+00:00   \n",
       "1  2000-01-01 05:00:00+00:00   \n",
       "2  2000-01-01 05:00:00+00:00   \n",
       "\n",
       "                                                                                                                                                                                                                                                                                                              abstract  \\\n",
       "0                                                                                                                                                                                                                                                   Article on upcoming New York Giants-Dallas Cowboys game; photo (M)   \n",
       "1                                                                                                                                                                       Jeanne C Pond letter expresses hope that spiritual development, artistic knowledge and skills and self-esteem flourish in new century; drawing   \n",
       "2  Many experts on Y2K computer problem report that Internet performed impressively through rollover from 1999 to 2000 even if it did sag at times in isolated sites as users turned to e-mail messages, Web sites, newsgroups and electronic chat rooms to track arrival of Year 2000 in more and more time zones (M)   \n",
       "\n",
       "                                                                                                                                                                                                                                                                    lead_paragraph  \\\n",
       "0                                                                           Waiting in the visiting locker room at Texas Stadium late tomorrow afternoon, the Giants will know whether the Green Bay Packers, who play earlier against Arizona, have won or are comfortably ahead.   \n",
       "1                                                                                                                                                                                                                                                                   To the Editor:   \n",
       "2  As the world slid nervously yesterday through the shadow of its first global technology challenge, many year 2000 experts took special comfort in the relatively stable behavior of one of their principal tools in dealing with the problem: the not-always-reliable Internet.   \n",
       "\n",
       "                                                                                                                                                                                                                                                                                                             headline  \\\n",
       "0                                                                              {'main': 'Playoffs or No, Dallas Provides The Motivation', 'kicker': 'PRO FOOTBALL', 'content_kicker': None, 'print_headline': 'PRO FOOTBALL; Playoffs or No, Dallas Provides The Motivation', 'name': None, 'seo': None, 'sub': None}   \n",
       "1                                                                    {'main': 'On This First Day, a Fanfare for the New Era; Knowing the World', 'kicker': None, 'content_kicker': None, 'print_headline': 'On This First Day, a Fanfare for the New Era; Knowing the World', 'name': None, 'seo': None, 'sub': None}   \n",
       "2  {'main': \"Internet's Cheering Squad Nervously Watches Clock\", 'kicker': '1/1/00: TECHNOLOGY AND 2000 -- MOMENTOUS RELIEF', 'content_kicker': None, 'print_headline': \"1/1/00: TECHNOLOGY AND 2000 -- MOMENTOUS RELIEF; Internet's Cheering Squad Nervously Watches Clock\", 'name': None, 'seo': None, 'sub': None}   \n",
       "\n",
       "                                                    headline_clean  \n",
       "0                   Playoffs or No, Dallas Provides The Motivation  \n",
       "1  On This First Day, a Fanfare for the New Era; Knowing the World  \n",
       "2                Internet's Cheering Squad Nervously Watches Clock  "
      ]
     },
     "execution_count": 6,
     "metadata": {},
     "output_type": "execute_result"
    }
   ],
   "source": [
    "clean_nyt_df.head(3)"
   ]
  },
  {
   "cell_type": "code",
   "execution_count": 7,
   "id": "6de72cc0-c34d-4348-8859-5859665f6e9d",
   "metadata": {},
   "outputs": [
    {
     "data": {
      "text/html": [
       "<div>\n",
       "<style scoped>\n",
       "    .dataframe tbody tr th:only-of-type {\n",
       "        vertical-align: middle;\n",
       "    }\n",
       "\n",
       "    .dataframe tbody tr th {\n",
       "        vertical-align: top;\n",
       "    }\n",
       "\n",
       "    .dataframe thead th {\n",
       "        text-align: right;\n",
       "    }\n",
       "</style>\n",
       "<table border=\"1\" class=\"dataframe\">\n",
       "  <thead>\n",
       "    <tr style=\"text-align: right;\">\n",
       "      <th></th>\n",
       "      <th>date</th>\n",
       "      <th>abstract</th>\n",
       "      <th>lead_paragraph</th>\n",
       "      <th>headline</th>\n",
       "      <th>headline_clean</th>\n",
       "      <th>clean_text</th>\n",
       "    </tr>\n",
       "  </thead>\n",
       "  <tbody>\n",
       "    <tr>\n",
       "      <th>0</th>\n",
       "      <td>2000-01-01 05:00:00+00:00</td>\n",
       "      <td>Article on upcoming New York Giants-Dallas Cowboys game; photo (M)</td>\n",
       "      <td>Waiting in the visiting locker room at Texas Stadium late tomorrow afternoon, the Giants will know whether the Green Bay Packers, who play earlier against Arizona, have won or are comfortably ahead.</td>\n",
       "      <td>{'main': 'Playoffs or No, Dallas Provides The Motivation', 'kicker': 'PRO FOOTBALL', 'content_kicker': None, 'print_headline': 'PRO FOOTBALL; Playoffs or No, Dallas Provides The Motivation', 'name': None, 'seo': None, 'sub': None}</td>\n",
       "      <td>Playoffs or No, Dallas Provides The Motivation</td>\n",
       "      <td>Playoffs or No, Dallas Provides The Motivation Waiting in the visiting locker room at Texas Stadium late tomorrow afternoon, the Giants will know whether the Green Bay Packers, who play earlier against Arizona, have won or are comfortably ahead. Article on upcoming New York Giants-Dallas Cowboys game; photo (M)</td>\n",
       "    </tr>\n",
       "    <tr>\n",
       "      <th>1</th>\n",
       "      <td>2000-01-01 05:00:00+00:00</td>\n",
       "      <td>Jeanne C Pond letter expresses hope that spiritual development, artistic knowledge and skills and self-esteem flourish in new century; drawing</td>\n",
       "      <td>To the Editor:</td>\n",
       "      <td>{'main': 'On This First Day, a Fanfare for the New Era; Knowing the World', 'kicker': None, 'content_kicker': None, 'print_headline': 'On This First Day, a Fanfare for the New Era; Knowing the World', 'name': None, 'seo': None, 'sub': None}</td>\n",
       "      <td>On This First Day, a Fanfare for the New Era; Knowing the World</td>\n",
       "      <td>On This First Day, a Fanfare for the New Era; Knowing the World To the Editor: Jeanne C Pond letter expresses hope that spiritual development, artistic knowledge and skills and self-esteem flourish in new century; drawing</td>\n",
       "    </tr>\n",
       "    <tr>\n",
       "      <th>2</th>\n",
       "      <td>2000-01-01 05:00:00+00:00</td>\n",
       "      <td>Many experts on Y2K computer problem report that Internet performed impressively through rollover from 1999 to 2000 even if it did sag at times in isolated sites as users turned to e-mail messages, Web sites, newsgroups and electronic chat rooms to track arrival of Year 2000 in more and more time zones (M)</td>\n",
       "      <td>As the world slid nervously yesterday through the shadow of its first global technology challenge, many year 2000 experts took special comfort in the relatively stable behavior of one of their principal tools in dealing with the problem: the not-always-reliable Internet.</td>\n",
       "      <td>{'main': \"Internet's Cheering Squad Nervously Watches Clock\", 'kicker': '1/1/00: TECHNOLOGY AND 2000 -- MOMENTOUS RELIEF', 'content_kicker': None, 'print_headline': \"1/1/00: TECHNOLOGY AND 2000 -- MOMENTOUS RELIEF; Internet's Cheering Squad Nervously Watches Clock\", 'name': None, 'seo': None, 'sub': None}</td>\n",
       "      <td>Internet's Cheering Squad Nervously Watches Clock</td>\n",
       "      <td>Internet's Cheering Squad Nervously Watches Clock As the world slid nervously yesterday through the shadow of its first global technology challenge, many year 2000 experts took special comfort in the relatively stable behavior of one of their principal tools in dealing with the problem: the not-always-reliable Internet. Many experts on Y2K computer problem report that Internet performed impressively through rollover from 1999 to 2000 even if it did sag at times in isolated sites as users turned to e-mail messages, Web sites, newsgroups and electronic chat rooms to track arrival of Year 2000 in more and more time zones (M)</td>\n",
       "    </tr>\n",
       "  </tbody>\n",
       "</table>\n",
       "</div>"
      ],
      "text/plain": [
       "                        date  \\\n",
       "0  2000-01-01 05:00:00+00:00   \n",
       "1  2000-01-01 05:00:00+00:00   \n",
       "2  2000-01-01 05:00:00+00:00   \n",
       "\n",
       "                                                                                                                                                                                                                                                                                                              abstract  \\\n",
       "0                                                                                                                                                                                                                                                   Article on upcoming New York Giants-Dallas Cowboys game; photo (M)   \n",
       "1                                                                                                                                                                       Jeanne C Pond letter expresses hope that spiritual development, artistic knowledge and skills and self-esteem flourish in new century; drawing   \n",
       "2  Many experts on Y2K computer problem report that Internet performed impressively through rollover from 1999 to 2000 even if it did sag at times in isolated sites as users turned to e-mail messages, Web sites, newsgroups and electronic chat rooms to track arrival of Year 2000 in more and more time zones (M)   \n",
       "\n",
       "                                                                                                                                                                                                                                                                    lead_paragraph  \\\n",
       "0                                                                           Waiting in the visiting locker room at Texas Stadium late tomorrow afternoon, the Giants will know whether the Green Bay Packers, who play earlier against Arizona, have won or are comfortably ahead.   \n",
       "1                                                                                                                                                                                                                                                                   To the Editor:   \n",
       "2  As the world slid nervously yesterday through the shadow of its first global technology challenge, many year 2000 experts took special comfort in the relatively stable behavior of one of their principal tools in dealing with the problem: the not-always-reliable Internet.   \n",
       "\n",
       "                                                                                                                                                                                                                                                                                                             headline  \\\n",
       "0                                                                              {'main': 'Playoffs or No, Dallas Provides The Motivation', 'kicker': 'PRO FOOTBALL', 'content_kicker': None, 'print_headline': 'PRO FOOTBALL; Playoffs or No, Dallas Provides The Motivation', 'name': None, 'seo': None, 'sub': None}   \n",
       "1                                                                    {'main': 'On This First Day, a Fanfare for the New Era; Knowing the World', 'kicker': None, 'content_kicker': None, 'print_headline': 'On This First Day, a Fanfare for the New Era; Knowing the World', 'name': None, 'seo': None, 'sub': None}   \n",
       "2  {'main': \"Internet's Cheering Squad Nervously Watches Clock\", 'kicker': '1/1/00: TECHNOLOGY AND 2000 -- MOMENTOUS RELIEF', 'content_kicker': None, 'print_headline': \"1/1/00: TECHNOLOGY AND 2000 -- MOMENTOUS RELIEF; Internet's Cheering Squad Nervously Watches Clock\", 'name': None, 'seo': None, 'sub': None}   \n",
       "\n",
       "                                                    headline_clean  \\\n",
       "0                   Playoffs or No, Dallas Provides The Motivation   \n",
       "1  On This First Day, a Fanfare for the New Era; Knowing the World   \n",
       "2                Internet's Cheering Squad Nervously Watches Clock   \n",
       "\n",
       "                                                                                                                                                                                                                                                                                                                                                                                                                                                                                                                                                                                                                                              clean_text  \n",
       "0                                                                                                                                                                                                                                                                                                                               Playoffs or No, Dallas Provides The Motivation Waiting in the visiting locker room at Texas Stadium late tomorrow afternoon, the Giants will know whether the Green Bay Packers, who play earlier against Arizona, have won or are comfortably ahead. Article on upcoming New York Giants-Dallas Cowboys game; photo (M)  \n",
       "1                                                                                                                                                                                                                                                                                                                                                                                                                          On This First Day, a Fanfare for the New Era; Knowing the World To the Editor: Jeanne C Pond letter expresses hope that spiritual development, artistic knowledge and skills and self-esteem flourish in new century; drawing  \n",
       "2  Internet's Cheering Squad Nervously Watches Clock As the world slid nervously yesterday through the shadow of its first global technology challenge, many year 2000 experts took special comfort in the relatively stable behavior of one of their principal tools in dealing with the problem: the not-always-reliable Internet. Many experts on Y2K computer problem report that Internet performed impressively through rollover from 1999 to 2000 even if it did sag at times in isolated sites as users turned to e-mail messages, Web sites, newsgroups and electronic chat rooms to track arrival of Year 2000 in more and more time zones (M)  "
      ]
     },
     "execution_count": 7,
     "metadata": {},
     "output_type": "execute_result"
    }
   ],
   "source": [
    "#Put all important text togheter\n",
    "clean_nyt_df['clean_text'] = (clean_nyt_df['headline_clean'] + \n",
    "                              \" \" + clean_nyt_df['lead_paragraph'] + \n",
    "                              \" \" + clean_nyt_df['abstract']\n",
    "                             ).str.strip()\n",
    "\n",
    "clean_nyt_df.head(3)"
   ]
  },
  {
   "cell_type": "code",
   "execution_count": 8,
   "id": "5f8c9950-eebb-4988-a151-9616d652f7ed",
   "metadata": {},
   "outputs": [
    {
     "data": {
      "text/html": [
       "<div>\n",
       "<style scoped>\n",
       "    .dataframe tbody tr th:only-of-type {\n",
       "        vertical-align: middle;\n",
       "    }\n",
       "\n",
       "    .dataframe tbody tr th {\n",
       "        vertical-align: top;\n",
       "    }\n",
       "\n",
       "    .dataframe thead th {\n",
       "        text-align: right;\n",
       "    }\n",
       "</style>\n",
       "<table border=\"1\" class=\"dataframe\">\n",
       "  <thead>\n",
       "    <tr style=\"text-align: right;\">\n",
       "      <th></th>\n",
       "      <th>date</th>\n",
       "      <th>abstract</th>\n",
       "      <th>lead_paragraph</th>\n",
       "      <th>headline</th>\n",
       "      <th>headline_clean</th>\n",
       "      <th>clean_text</th>\n",
       "    </tr>\n",
       "  </thead>\n",
       "  <tbody>\n",
       "    <tr>\n",
       "      <th>0</th>\n",
       "      <td>2000-01-01</td>\n",
       "      <td>Article on upcoming New York Giants-Dallas Cowboys game; photo (M)</td>\n",
       "      <td>Waiting in the visiting locker room at Texas Stadium late tomorrow afternoon, the Giants will know whether the Green Bay Packers, who play earlier against Arizona, have won or are comfortably ahead.</td>\n",
       "      <td>{'main': 'Playoffs or No, Dallas Provides The Motivation', 'kicker': 'PRO FOOTBALL', 'content_kicker': None, 'print_headline': 'PRO FOOTBALL; Playoffs or No, Dallas Provides The Motivation', 'name': None, 'seo': None, 'sub': None}</td>\n",
       "      <td>Playoffs or No, Dallas Provides The Motivation</td>\n",
       "      <td>Playoffs or No, Dallas Provides The Motivation Waiting in the visiting locker room at Texas Stadium late tomorrow afternoon, the Giants will know whether the Green Bay Packers, who play earlier against Arizona, have won or are comfortably ahead. Article on upcoming New York Giants-Dallas Cowboys game; photo (M)</td>\n",
       "    </tr>\n",
       "    <tr>\n",
       "      <th>1</th>\n",
       "      <td>2000-01-01</td>\n",
       "      <td>Jeanne C Pond letter expresses hope that spiritual development, artistic knowledge and skills and self-esteem flourish in new century; drawing</td>\n",
       "      <td>To the Editor:</td>\n",
       "      <td>{'main': 'On This First Day, a Fanfare for the New Era; Knowing the World', 'kicker': None, 'content_kicker': None, 'print_headline': 'On This First Day, a Fanfare for the New Era; Knowing the World', 'name': None, 'seo': None, 'sub': None}</td>\n",
       "      <td>On This First Day, a Fanfare for the New Era; Knowing the World</td>\n",
       "      <td>On This First Day, a Fanfare for the New Era; Knowing the World To the Editor: Jeanne C Pond letter expresses hope that spiritual development, artistic knowledge and skills and self-esteem flourish in new century; drawing</td>\n",
       "    </tr>\n",
       "    <tr>\n",
       "      <th>2</th>\n",
       "      <td>2000-01-01</td>\n",
       "      <td>Many experts on Y2K computer problem report that Internet performed impressively through rollover from 1999 to 2000 even if it did sag at times in isolated sites as users turned to e-mail messages, Web sites, newsgroups and electronic chat rooms to track arrival of Year 2000 in more and more time zones (M)</td>\n",
       "      <td>As the world slid nervously yesterday through the shadow of its first global technology challenge, many year 2000 experts took special comfort in the relatively stable behavior of one of their principal tools in dealing with the problem: the not-always-reliable Internet.</td>\n",
       "      <td>{'main': \"Internet's Cheering Squad Nervously Watches Clock\", 'kicker': '1/1/00: TECHNOLOGY AND 2000 -- MOMENTOUS RELIEF', 'content_kicker': None, 'print_headline': \"1/1/00: TECHNOLOGY AND 2000 -- MOMENTOUS RELIEF; Internet's Cheering Squad Nervously Watches Clock\", 'name': None, 'seo': None, 'sub': None}</td>\n",
       "      <td>Internet's Cheering Squad Nervously Watches Clock</td>\n",
       "      <td>Internet's Cheering Squad Nervously Watches Clock As the world slid nervously yesterday through the shadow of its first global technology challenge, many year 2000 experts took special comfort in the relatively stable behavior of one of their principal tools in dealing with the problem: the not-always-reliable Internet. Many experts on Y2K computer problem report that Internet performed impressively through rollover from 1999 to 2000 even if it did sag at times in isolated sites as users turned to e-mail messages, Web sites, newsgroups and electronic chat rooms to track arrival of Year 2000 in more and more time zones (M)</td>\n",
       "    </tr>\n",
       "  </tbody>\n",
       "</table>\n",
       "</div>"
      ],
      "text/plain": [
       "         date  \\\n",
       "0  2000-01-01   \n",
       "1  2000-01-01   \n",
       "2  2000-01-01   \n",
       "\n",
       "                                                                                                                                                                                                                                                                                                              abstract  \\\n",
       "0                                                                                                                                                                                                                                                   Article on upcoming New York Giants-Dallas Cowboys game; photo (M)   \n",
       "1                                                                                                                                                                       Jeanne C Pond letter expresses hope that spiritual development, artistic knowledge and skills and self-esteem flourish in new century; drawing   \n",
       "2  Many experts on Y2K computer problem report that Internet performed impressively through rollover from 1999 to 2000 even if it did sag at times in isolated sites as users turned to e-mail messages, Web sites, newsgroups and electronic chat rooms to track arrival of Year 2000 in more and more time zones (M)   \n",
       "\n",
       "                                                                                                                                                                                                                                                                    lead_paragraph  \\\n",
       "0                                                                           Waiting in the visiting locker room at Texas Stadium late tomorrow afternoon, the Giants will know whether the Green Bay Packers, who play earlier against Arizona, have won or are comfortably ahead.   \n",
       "1                                                                                                                                                                                                                                                                   To the Editor:   \n",
       "2  As the world slid nervously yesterday through the shadow of its first global technology challenge, many year 2000 experts took special comfort in the relatively stable behavior of one of their principal tools in dealing with the problem: the not-always-reliable Internet.   \n",
       "\n",
       "                                                                                                                                                                                                                                                                                                             headline  \\\n",
       "0                                                                              {'main': 'Playoffs or No, Dallas Provides The Motivation', 'kicker': 'PRO FOOTBALL', 'content_kicker': None, 'print_headline': 'PRO FOOTBALL; Playoffs or No, Dallas Provides The Motivation', 'name': None, 'seo': None, 'sub': None}   \n",
       "1                                                                    {'main': 'On This First Day, a Fanfare for the New Era; Knowing the World', 'kicker': None, 'content_kicker': None, 'print_headline': 'On This First Day, a Fanfare for the New Era; Knowing the World', 'name': None, 'seo': None, 'sub': None}   \n",
       "2  {'main': \"Internet's Cheering Squad Nervously Watches Clock\", 'kicker': '1/1/00: TECHNOLOGY AND 2000 -- MOMENTOUS RELIEF', 'content_kicker': None, 'print_headline': \"1/1/00: TECHNOLOGY AND 2000 -- MOMENTOUS RELIEF; Internet's Cheering Squad Nervously Watches Clock\", 'name': None, 'seo': None, 'sub': None}   \n",
       "\n",
       "                                                    headline_clean  \\\n",
       "0                   Playoffs or No, Dallas Provides The Motivation   \n",
       "1  On This First Day, a Fanfare for the New Era; Knowing the World   \n",
       "2                Internet's Cheering Squad Nervously Watches Clock   \n",
       "\n",
       "                                                                                                                                                                                                                                                                                                                                                                                                                                                                                                                                                                                                                                              clean_text  \n",
       "0                                                                                                                                                                                                                                                                                                                               Playoffs or No, Dallas Provides The Motivation Waiting in the visiting locker room at Texas Stadium late tomorrow afternoon, the Giants will know whether the Green Bay Packers, who play earlier against Arizona, have won or are comfortably ahead. Article on upcoming New York Giants-Dallas Cowboys game; photo (M)  \n",
       "1                                                                                                                                                                                                                                                                                                                                                                                                                          On This First Day, a Fanfare for the New Era; Knowing the World To the Editor: Jeanne C Pond letter expresses hope that spiritual development, artistic knowledge and skills and self-esteem flourish in new century; drawing  \n",
       "2  Internet's Cheering Squad Nervously Watches Clock As the world slid nervously yesterday through the shadow of its first global technology challenge, many year 2000 experts took special comfort in the relatively stable behavior of one of their principal tools in dealing with the problem: the not-always-reliable Internet. Many experts on Y2K computer problem report that Internet performed impressively through rollover from 1999 to 2000 even if it did sag at times in isolated sites as users turned to e-mail messages, Web sites, newsgroups and electronic chat rooms to track arrival of Year 2000 in more and more time zones (M)  "
      ]
     },
     "execution_count": 8,
     "metadata": {},
     "output_type": "execute_result"
    }
   ],
   "source": [
    "#Clean Date format\n",
    "clean_nyt_df['date'] = clean_nyt_df['date'].apply(\n",
    "                            lambda x: str(x).split()[0] if pd.notnull(x) else None\n",
    "                        )\n",
    "\n",
    "clean_nyt_df.head(3)"
   ]
  },
  {
   "cell_type": "code",
   "execution_count": 9,
   "id": "1b41f3e2-0251-4288-b1a6-51ae90570f2a",
   "metadata": {},
   "outputs": [
    {
     "data": {
      "text/html": [
       "<div>\n",
       "<style scoped>\n",
       "    .dataframe tbody tr th:only-of-type {\n",
       "        vertical-align: middle;\n",
       "    }\n",
       "\n",
       "    .dataframe tbody tr th {\n",
       "        vertical-align: top;\n",
       "    }\n",
       "\n",
       "    .dataframe thead th {\n",
       "        text-align: right;\n",
       "    }\n",
       "</style>\n",
       "<table border=\"1\" class=\"dataframe\">\n",
       "  <thead>\n",
       "    <tr style=\"text-align: right;\">\n",
       "      <th></th>\n",
       "      <th>date</th>\n",
       "      <th>clean_text</th>\n",
       "    </tr>\n",
       "  </thead>\n",
       "  <tbody>\n",
       "    <tr>\n",
       "      <th>0</th>\n",
       "      <td>2000-01-01</td>\n",
       "      <td>Playoffs or No, Dallas Provides The Motivation Waiting in the visiting locker room at Texas Stadium late tomorrow afternoon, the Giants will know whether the Green Bay Packers, who play earlier against Arizona, have won or are comfortably ahead. Article on upcoming New York Giants-Dallas Cowboys game; photo (M)</td>\n",
       "    </tr>\n",
       "    <tr>\n",
       "      <th>1</th>\n",
       "      <td>2000-01-01</td>\n",
       "      <td>On This First Day, a Fanfare for the New Era; Knowing the World To the Editor: Jeanne C Pond letter expresses hope that spiritual development, artistic knowledge and skills and self-esteem flourish in new century; drawing</td>\n",
       "    </tr>\n",
       "    <tr>\n",
       "      <th>2</th>\n",
       "      <td>2000-01-01</td>\n",
       "      <td>Internet's Cheering Squad Nervously Watches Clock As the world slid nervously yesterday through the shadow of its first global technology challenge, many year 2000 experts took special comfort in the relatively stable behavior of one of their principal tools in dealing with the problem: the not-always-reliable Internet. Many experts on Y2K computer problem report that Internet performed impressively through rollover from 1999 to 2000 even if it did sag at times in isolated sites as users turned to e-mail messages, Web sites, newsgroups and electronic chat rooms to track arrival of Year 2000 in more and more time zones (M)</td>\n",
       "    </tr>\n",
       "    <tr>\n",
       "      <th>3</th>\n",
       "      <td>2000-01-01</td>\n",
       "      <td>Economic Thinking Finds a Free Market WILL the forces of globalism continue to push the world toward American-style capitalism? WILL the forces of globalism continue to push the world toward American-style capitalism?    As the 21st century begins, advocates of the free market have no doubt that they have won the economic argument. Socialism is dead. Moreover, as a means of creating wealth and material progress, American capitalism seems to be clearly superior to the Asian variety, with its greater level of government planning, or the European version, with its emphasis on social welfare and protection of workers from losing their jobs.</td>\n",
       "    </tr>\n",
       "    <tr>\n",
       "      <th>4</th>\n",
       "      <td>2000-01-01</td>\n",
       "      <td>INSIDE SPECIAL TODAY  SPECIAL TODAY  The Millennium  Envisioning the future of politics, people, cities and machines -- even the front page of The Times -- and reflecting on the past.  SECTION E</td>\n",
       "    </tr>\n",
       "  </tbody>\n",
       "</table>\n",
       "</div>"
      ],
      "text/plain": [
       "         date  \\\n",
       "0  2000-01-01   \n",
       "1  2000-01-01   \n",
       "2  2000-01-01   \n",
       "3  2000-01-01   \n",
       "4  2000-01-01   \n",
       "\n",
       "                                                                                                                                                                                                                                                                                                                                                                                                                                                                                                                                                                                                                                                             clean_text  \n",
       "0                                                                                                                                                                                                                                                                                                                                              Playoffs or No, Dallas Provides The Motivation Waiting in the visiting locker room at Texas Stadium late tomorrow afternoon, the Giants will know whether the Green Bay Packers, who play earlier against Arizona, have won or are comfortably ahead. Article on upcoming New York Giants-Dallas Cowboys game; photo (M)  \n",
       "1                                                                                                                                                                                                                                                                                                                                                                                                                                         On This First Day, a Fanfare for the New Era; Knowing the World To the Editor: Jeanne C Pond letter expresses hope that spiritual development, artistic knowledge and skills and self-esteem flourish in new century; drawing  \n",
       "2                 Internet's Cheering Squad Nervously Watches Clock As the world slid nervously yesterday through the shadow of its first global technology challenge, many year 2000 experts took special comfort in the relatively stable behavior of one of their principal tools in dealing with the problem: the not-always-reliable Internet. Many experts on Y2K computer problem report that Internet performed impressively through rollover from 1999 to 2000 even if it did sag at times in isolated sites as users turned to e-mail messages, Web sites, newsgroups and electronic chat rooms to track arrival of Year 2000 in more and more time zones (M)  \n",
       "3  Economic Thinking Finds a Free Market WILL the forces of globalism continue to push the world toward American-style capitalism? WILL the forces of globalism continue to push the world toward American-style capitalism?    As the 21st century begins, advocates of the free market have no doubt that they have won the economic argument. Socialism is dead. Moreover, as a means of creating wealth and material progress, American capitalism seems to be clearly superior to the Asian variety, with its greater level of government planning, or the European version, with its emphasis on social welfare and protection of workers from losing their jobs.  \n",
       "4                                                                                                                                                                                                                                                                                                                                                                                                                                                                    INSIDE SPECIAL TODAY  SPECIAL TODAY  The Millennium  Envisioning the future of politics, people, cities and machines -- even the front page of The Times -- and reflecting on the past.  SECTION E  "
      ]
     },
     "execution_count": 9,
     "metadata": {},
     "output_type": "execute_result"
    }
   ],
   "source": [
    "#Get just relevant columns\n",
    "nyt_news = clean_nyt_df[['date', 'clean_text']].copy()\n",
    "nyt_news.head()"
   ]
  },
  {
   "cell_type": "markdown",
   "id": "9f0995d2-0a82-4d9e-88e5-a29b351b9cae",
   "metadata": {},
   "source": [
    "### NLP Cleaning"
   ]
  },
  {
   "cell_type": "code",
   "execution_count": 10,
   "id": "4be04d9d-ee2d-4c6a-a088-50b2b639ea22",
   "metadata": {},
   "outputs": [
    {
     "data": {
      "text/html": [
       "<div>\n",
       "<style scoped>\n",
       "    .dataframe tbody tr th:only-of-type {\n",
       "        vertical-align: middle;\n",
       "    }\n",
       "\n",
       "    .dataframe tbody tr th {\n",
       "        vertical-align: top;\n",
       "    }\n",
       "\n",
       "    .dataframe thead th {\n",
       "        text-align: right;\n",
       "    }\n",
       "</style>\n",
       "<table border=\"1\" class=\"dataframe\">\n",
       "  <thead>\n",
       "    <tr style=\"text-align: right;\">\n",
       "      <th></th>\n",
       "      <th>date</th>\n",
       "      <th>clean_text</th>\n",
       "      <th>nlp_clean_text</th>\n",
       "    </tr>\n",
       "  </thead>\n",
       "  <tbody>\n",
       "    <tr>\n",
       "      <th>0</th>\n",
       "      <td>2000-01-01</td>\n",
       "      <td>Playoffs or No, Dallas Provides The Motivation Waiting in the visiting locker room at Texas Stadium late tomorrow afternoon, the Giants will know whether the Green Bay Packers, who play earlier against Arizona, have won or are comfortably ahead. Article on upcoming New York Giants-Dallas Cowboys game; photo (M)</td>\n",
       "      <td>playoffs or no, dallas provides the motivation waiting in the visiting locker room at texas stadium late tomorrow afternoon, the giants will know whether the green bay packers, who play earlier against arizona, have won or are comfortably ahead. article on upcoming new york giants-dallas cowboys game; photo (m)</td>\n",
       "    </tr>\n",
       "    <tr>\n",
       "      <th>1</th>\n",
       "      <td>2000-01-01</td>\n",
       "      <td>On This First Day, a Fanfare for the New Era; Knowing the World To the Editor: Jeanne C Pond letter expresses hope that spiritual development, artistic knowledge and skills and self-esteem flourish in new century; drawing</td>\n",
       "      <td>on this first day, a fanfare for the new era; knowing the world to the editor: jeanne c pond letter expresses hope that spiritual development, artistic knowledge and skills and self-esteem flourish in new century; drawing</td>\n",
       "    </tr>\n",
       "  </tbody>\n",
       "</table>\n",
       "</div>"
      ],
      "text/plain": [
       "         date  \\\n",
       "0  2000-01-01   \n",
       "1  2000-01-01   \n",
       "\n",
       "                                                                                                                                                                                                                                                                                                                 clean_text  \\\n",
       "0  Playoffs or No, Dallas Provides The Motivation Waiting in the visiting locker room at Texas Stadium late tomorrow afternoon, the Giants will know whether the Green Bay Packers, who play earlier against Arizona, have won or are comfortably ahead. Article on upcoming New York Giants-Dallas Cowboys game; photo (M)   \n",
       "1                                                                                             On This First Day, a Fanfare for the New Era; Knowing the World To the Editor: Jeanne C Pond letter expresses hope that spiritual development, artistic knowledge and skills and self-esteem flourish in new century; drawing   \n",
       "\n",
       "                                                                                                                                                                                                                                                                                                             nlp_clean_text  \n",
       "0  playoffs or no, dallas provides the motivation waiting in the visiting locker room at texas stadium late tomorrow afternoon, the giants will know whether the green bay packers, who play earlier against arizona, have won or are comfortably ahead. article on upcoming new york giants-dallas cowboys game; photo (m)  \n",
       "1                                                                                             on this first day, a fanfare for the new era; knowing the world to the editor: jeanne c pond letter expresses hope that spiritual development, artistic knowledge and skills and self-esteem flourish in new century; drawing  "
      ]
     },
     "execution_count": 10,
     "metadata": {},
     "output_type": "execute_result"
    }
   ],
   "source": [
    "#Get lowercase\n",
    "nyt_news['nlp_clean_text'] = nyt_news['clean_text'].str.lower()\n",
    "nyt_news.head(2)"
   ]
  },
  {
   "cell_type": "code",
   "execution_count": 11,
   "id": "d8972422-4edb-458c-8b69-15cdae1c2c9b",
   "metadata": {},
   "outputs": [
    {
     "data": {
      "text/html": [
       "<div>\n",
       "<style scoped>\n",
       "    .dataframe tbody tr th:only-of-type {\n",
       "        vertical-align: middle;\n",
       "    }\n",
       "\n",
       "    .dataframe tbody tr th {\n",
       "        vertical-align: top;\n",
       "    }\n",
       "\n",
       "    .dataframe thead th {\n",
       "        text-align: right;\n",
       "    }\n",
       "</style>\n",
       "<table border=\"1\" class=\"dataframe\">\n",
       "  <thead>\n",
       "    <tr style=\"text-align: right;\">\n",
       "      <th></th>\n",
       "      <th>date</th>\n",
       "      <th>clean_text</th>\n",
       "      <th>nlp_clean_text</th>\n",
       "    </tr>\n",
       "  </thead>\n",
       "  <tbody>\n",
       "    <tr>\n",
       "      <th>0</th>\n",
       "      <td>2000-01-01</td>\n",
       "      <td>Playoffs or No, Dallas Provides The Motivation Waiting in the visiting locker room at Texas Stadium late tomorrow afternoon, the Giants will know whether the Green Bay Packers, who play earlier against Arizona, have won or are comfortably ahead. Article on upcoming New York Giants-Dallas Cowboys game; photo (M)</td>\n",
       "      <td>playoffs or no  dallas provides the motivation waiting in the visiting locker room at texas stadium late tomorrow afternoon  the giants will know whether the green bay packers  who play earlier against arizona  have won or are comfortably ahead  article on upcoming new york giants dallas cowboys game  photo  m</td>\n",
       "    </tr>\n",
       "    <tr>\n",
       "      <th>1</th>\n",
       "      <td>2000-01-01</td>\n",
       "      <td>On This First Day, a Fanfare for the New Era; Knowing the World To the Editor: Jeanne C Pond letter expresses hope that spiritual development, artistic knowledge and skills and self-esteem flourish in new century; drawing</td>\n",
       "      <td>on this first day  a fanfare for the new era  knowing the world to the editor  jeanne c pond letter expresses hope that spiritual development  artistic knowledge and skills and self esteem flourish in new century  drawing</td>\n",
       "    </tr>\n",
       "  </tbody>\n",
       "</table>\n",
       "</div>"
      ],
      "text/plain": [
       "         date  \\\n",
       "0  2000-01-01   \n",
       "1  2000-01-01   \n",
       "\n",
       "                                                                                                                                                                                                                                                                                                                 clean_text  \\\n",
       "0  Playoffs or No, Dallas Provides The Motivation Waiting in the visiting locker room at Texas Stadium late tomorrow afternoon, the Giants will know whether the Green Bay Packers, who play earlier against Arizona, have won or are comfortably ahead. Article on upcoming New York Giants-Dallas Cowboys game; photo (M)   \n",
       "1                                                                                             On This First Day, a Fanfare for the New Era; Knowing the World To the Editor: Jeanne C Pond letter expresses hope that spiritual development, artistic knowledge and skills and self-esteem flourish in new century; drawing   \n",
       "\n",
       "                                                                                                                                                                                                                                                                                                             nlp_clean_text  \n",
       "0  playoffs or no  dallas provides the motivation waiting in the visiting locker room at texas stadium late tomorrow afternoon  the giants will know whether the green bay packers  who play earlier against arizona  have won or are comfortably ahead  article on upcoming new york giants dallas cowboys game  photo  m   \n",
       "1                                                                                             on this first day  a fanfare for the new era  knowing the world to the editor  jeanne c pond letter expresses hope that spiritual development  artistic knowledge and skills and self esteem flourish in new century  drawing  "
      ]
     },
     "execution_count": 11,
     "metadata": {},
     "output_type": "execute_result"
    }
   ],
   "source": [
    "#Remove special characters\n",
    "nyt_news['nlp_clean_text'] = nyt_news['nlp_clean_text'].str.replace(r'[^\\w]', ' ', regex=True)\n",
    "nyt_news.head(2)"
   ]
  },
  {
   "cell_type": "code",
   "execution_count": 14,
   "id": "7aaa338d-a105-4fda-b8bb-bafc116c1803",
   "metadata": {
    "scrolled": true
   },
   "outputs": [
    {
     "name": "stderr",
     "output_type": "stream",
     "text": [
      "Python(13983) MallocStackLogging: can't turn off malloc stack logging because it was not enabled.\n"
     ]
    },
    {
     "name": "stdout",
     "output_type": "stream",
     "text": [
      "Requirement already satisfied: spacy in /Users/rodrigoesparza/Documents/NCI/Tesis/nci_tesis/lib/python3.13/site-packages (3.8.7)\n",
      "Requirement already satisfied: spacy-legacy<3.1.0,>=3.0.11 in /Users/rodrigoesparza/Documents/NCI/Tesis/nci_tesis/lib/python3.13/site-packages (from spacy) (3.0.12)\n",
      "Requirement already satisfied: spacy-loggers<2.0.0,>=1.0.0 in /Users/rodrigoesparza/Documents/NCI/Tesis/nci_tesis/lib/python3.13/site-packages (from spacy) (1.0.5)\n",
      "Requirement already satisfied: murmurhash<1.1.0,>=0.28.0 in /Users/rodrigoesparza/Documents/NCI/Tesis/nci_tesis/lib/python3.13/site-packages (from spacy) (1.0.13)\n",
      "Requirement already satisfied: cymem<2.1.0,>=2.0.2 in /Users/rodrigoesparza/Documents/NCI/Tesis/nci_tesis/lib/python3.13/site-packages (from spacy) (2.0.11)\n",
      "Requirement already satisfied: preshed<3.1.0,>=3.0.2 in /Users/rodrigoesparza/Documents/NCI/Tesis/nci_tesis/lib/python3.13/site-packages (from spacy) (3.0.10)\n",
      "Requirement already satisfied: thinc<8.4.0,>=8.3.4 in /Users/rodrigoesparza/Documents/NCI/Tesis/nci_tesis/lib/python3.13/site-packages (from spacy) (8.3.6)\n",
      "Requirement already satisfied: wasabi<1.2.0,>=0.9.1 in /Users/rodrigoesparza/Documents/NCI/Tesis/nci_tesis/lib/python3.13/site-packages (from spacy) (1.1.3)\n",
      "Requirement already satisfied: srsly<3.0.0,>=2.4.3 in /Users/rodrigoesparza/Documents/NCI/Tesis/nci_tesis/lib/python3.13/site-packages (from spacy) (2.5.1)\n",
      "Requirement already satisfied: catalogue<2.1.0,>=2.0.6 in /Users/rodrigoesparza/Documents/NCI/Tesis/nci_tesis/lib/python3.13/site-packages (from spacy) (2.0.10)\n",
      "Requirement already satisfied: weasel<0.5.0,>=0.1.0 in /Users/rodrigoesparza/Documents/NCI/Tesis/nci_tesis/lib/python3.13/site-packages (from spacy) (0.4.1)\n",
      "Requirement already satisfied: typer<1.0.0,>=0.3.0 in /Users/rodrigoesparza/Documents/NCI/Tesis/nci_tesis/lib/python3.13/site-packages (from spacy) (0.16.0)\n",
      "Requirement already satisfied: tqdm<5.0.0,>=4.38.0 in /Users/rodrigoesparza/Documents/NCI/Tesis/nci_tesis/lib/python3.13/site-packages (from spacy) (4.67.1)\n",
      "Requirement already satisfied: numpy>=1.19.0 in /Users/rodrigoesparza/Documents/NCI/Tesis/nci_tesis/lib/python3.13/site-packages (from spacy) (2.2.6)\n",
      "Requirement already satisfied: requests<3.0.0,>=2.13.0 in /Users/rodrigoesparza/Documents/NCI/Tesis/nci_tesis/lib/python3.13/site-packages (from spacy) (2.32.3)\n",
      "Requirement already satisfied: pydantic!=1.8,!=1.8.1,<3.0.0,>=1.7.4 in /Users/rodrigoesparza/Documents/NCI/Tesis/nci_tesis/lib/python3.13/site-packages (from spacy) (2.11.5)\n",
      "Requirement already satisfied: jinja2 in /Users/rodrigoesparza/Documents/NCI/Tesis/nci_tesis/lib/python3.13/site-packages (from spacy) (3.1.6)\n",
      "Requirement already satisfied: setuptools in /Users/rodrigoesparza/Documents/NCI/Tesis/nci_tesis/lib/python3.13/site-packages (from spacy) (80.9.0)\n",
      "Requirement already satisfied: packaging>=20.0 in /Users/rodrigoesparza/Documents/NCI/Tesis/nci_tesis/lib/python3.13/site-packages (from spacy) (25.0)\n",
      "Requirement already satisfied: langcodes<4.0.0,>=3.2.0 in /Users/rodrigoesparza/Documents/NCI/Tesis/nci_tesis/lib/python3.13/site-packages (from spacy) (3.5.0)\n",
      "Requirement already satisfied: language-data>=1.2 in /Users/rodrigoesparza/Documents/NCI/Tesis/nci_tesis/lib/python3.13/site-packages (from langcodes<4.0.0,>=3.2.0->spacy) (1.3.0)\n",
      "Requirement already satisfied: annotated-types>=0.6.0 in /Users/rodrigoesparza/Documents/NCI/Tesis/nci_tesis/lib/python3.13/site-packages (from pydantic!=1.8,!=1.8.1,<3.0.0,>=1.7.4->spacy) (0.7.0)\n",
      "Requirement already satisfied: pydantic-core==2.33.2 in /Users/rodrigoesparza/Documents/NCI/Tesis/nci_tesis/lib/python3.13/site-packages (from pydantic!=1.8,!=1.8.1,<3.0.0,>=1.7.4->spacy) (2.33.2)\n",
      "Requirement already satisfied: typing-extensions>=4.12.2 in /Users/rodrigoesparza/Documents/NCI/Tesis/nci_tesis/lib/python3.13/site-packages (from pydantic!=1.8,!=1.8.1,<3.0.0,>=1.7.4->spacy) (4.14.0)\n",
      "Requirement already satisfied: typing-inspection>=0.4.0 in /Users/rodrigoesparza/Documents/NCI/Tesis/nci_tesis/lib/python3.13/site-packages (from pydantic!=1.8,!=1.8.1,<3.0.0,>=1.7.4->spacy) (0.4.1)\n",
      "Requirement already satisfied: charset-normalizer<4,>=2 in /Users/rodrigoesparza/Documents/NCI/Tesis/nci_tesis/lib/python3.13/site-packages (from requests<3.0.0,>=2.13.0->spacy) (3.4.2)\n",
      "Requirement already satisfied: idna<4,>=2.5 in /Users/rodrigoesparza/Documents/NCI/Tesis/nci_tesis/lib/python3.13/site-packages (from requests<3.0.0,>=2.13.0->spacy) (3.10)\n",
      "Requirement already satisfied: urllib3<3,>=1.21.1 in /Users/rodrigoesparza/Documents/NCI/Tesis/nci_tesis/lib/python3.13/site-packages (from requests<3.0.0,>=2.13.0->spacy) (2.4.0)\n",
      "Requirement already satisfied: certifi>=2017.4.17 in /Users/rodrigoesparza/Documents/NCI/Tesis/nci_tesis/lib/python3.13/site-packages (from requests<3.0.0,>=2.13.0->spacy) (2025.4.26)\n",
      "Requirement already satisfied: blis<1.4.0,>=1.3.0 in /Users/rodrigoesparza/Documents/NCI/Tesis/nci_tesis/lib/python3.13/site-packages (from thinc<8.4.0,>=8.3.4->spacy) (1.3.0)\n",
      "Requirement already satisfied: confection<1.0.0,>=0.0.1 in /Users/rodrigoesparza/Documents/NCI/Tesis/nci_tesis/lib/python3.13/site-packages (from thinc<8.4.0,>=8.3.4->spacy) (0.1.5)\n",
      "Requirement already satisfied: click>=8.0.0 in /Users/rodrigoesparza/Documents/NCI/Tesis/nci_tesis/lib/python3.13/site-packages (from typer<1.0.0,>=0.3.0->spacy) (8.2.1)\n",
      "Requirement already satisfied: shellingham>=1.3.0 in /Users/rodrigoesparza/Documents/NCI/Tesis/nci_tesis/lib/python3.13/site-packages (from typer<1.0.0,>=0.3.0->spacy) (1.5.4)\n",
      "Requirement already satisfied: rich>=10.11.0 in /Users/rodrigoesparza/Documents/NCI/Tesis/nci_tesis/lib/python3.13/site-packages (from typer<1.0.0,>=0.3.0->spacy) (14.0.0)\n",
      "Requirement already satisfied: cloudpathlib<1.0.0,>=0.7.0 in /Users/rodrigoesparza/Documents/NCI/Tesis/nci_tesis/lib/python3.13/site-packages (from weasel<0.5.0,>=0.1.0->spacy) (0.21.1)\n",
      "Requirement already satisfied: smart-open<8.0.0,>=5.2.1 in /Users/rodrigoesparza/Documents/NCI/Tesis/nci_tesis/lib/python3.13/site-packages (from weasel<0.5.0,>=0.1.0->spacy) (7.1.0)\n",
      "Requirement already satisfied: MarkupSafe>=2.0 in /Users/rodrigoesparza/Documents/NCI/Tesis/nci_tesis/lib/python3.13/site-packages (from jinja2->spacy) (3.0.2)\n",
      "Requirement already satisfied: marisa-trie>=1.1.0 in /Users/rodrigoesparza/Documents/NCI/Tesis/nci_tesis/lib/python3.13/site-packages (from language-data>=1.2->langcodes<4.0.0,>=3.2.0->spacy) (1.2.1)\n",
      "Requirement already satisfied: markdown-it-py>=2.2.0 in /Users/rodrigoesparza/Documents/NCI/Tesis/nci_tesis/lib/python3.13/site-packages (from rich>=10.11.0->typer<1.0.0,>=0.3.0->spacy) (3.0.0)\n",
      "Requirement already satisfied: pygments<3.0.0,>=2.13.0 in /Users/rodrigoesparza/Documents/NCI/Tesis/nci_tesis/lib/python3.13/site-packages (from rich>=10.11.0->typer<1.0.0,>=0.3.0->spacy) (2.19.1)\n",
      "Requirement already satisfied: wrapt in /Users/rodrigoesparza/Documents/NCI/Tesis/nci_tesis/lib/python3.13/site-packages (from smart-open<8.0.0,>=5.2.1->weasel<0.5.0,>=0.1.0->spacy) (1.17.2)\n",
      "Requirement already satisfied: mdurl~=0.1 in /Users/rodrigoesparza/Documents/NCI/Tesis/nci_tesis/lib/python3.13/site-packages (from markdown-it-py>=2.2.0->rich>=10.11.0->typer<1.0.0,>=0.3.0->spacy) (0.1.2)\n",
      "\n",
      "\u001b[1m[\u001b[0m\u001b[34;49mnotice\u001b[0m\u001b[1;39;49m]\u001b[0m\u001b[39;49m A new release of pip is available: \u001b[0m\u001b[31;49m25.0\u001b[0m\u001b[39;49m -> \u001b[0m\u001b[32;49m25.1.1\u001b[0m\n",
      "\u001b[1m[\u001b[0m\u001b[34;49mnotice\u001b[0m\u001b[1;39;49m]\u001b[0m\u001b[39;49m To update, run: \u001b[0m\u001b[32;49m/Users/rodrigoesparza/Documents/NCI/Tesis/nci_tesis/bin/python -m pip install --upgrade pip\u001b[0m\n"
     ]
    },
    {
     "name": "stderr",
     "output_type": "stream",
     "text": [
      "Python(13989) MallocStackLogging: can't turn off malloc stack logging because it was not enabled.\n"
     ]
    },
    {
     "name": "stdout",
     "output_type": "stream",
     "text": [
      "Collecting en-core-web-sm==3.8.0\n",
      "  Downloading https://github.com/explosion/spacy-models/releases/download/en_core_web_sm-3.8.0/en_core_web_sm-3.8.0-py3-none-any.whl (12.8 MB)\n",
      "\u001b[2K     \u001b[90m━━━━━━━━━━━━━━━━━━━━━━━━━━━━━━━━━━━━━━━━\u001b[0m \u001b[32m12.8/12.8 MB\u001b[0m \u001b[31m1.1 MB/s\u001b[0m eta \u001b[36m0:00:00\u001b[0m00:01\u001b[0m00:01\u001b[0mm\n",
      "\u001b[?25h\n",
      "\u001b[1m[\u001b[0m\u001b[34;49mnotice\u001b[0m\u001b[1;39;49m]\u001b[0m\u001b[39;49m A new release of pip is available: \u001b[0m\u001b[31;49m25.0\u001b[0m\u001b[39;49m -> \u001b[0m\u001b[32;49m25.1.1\u001b[0m\n",
      "\u001b[1m[\u001b[0m\u001b[34;49mnotice\u001b[0m\u001b[1;39;49m]\u001b[0m\u001b[39;49m To update, run: \u001b[0m\u001b[32;49m/Users/rodrigoesparza/Documents/NCI/Tesis/nci_tesis/bin/python -m pip install --upgrade pip\u001b[0m\n",
      "\u001b[38;5;2m✔ Download and installation successful\u001b[0m\n",
      "You can now load the package via spacy.load('en_core_web_sm')\n"
     ]
    }
   ],
   "source": [
    "#tokenize, lemmatize and remove stop words\n",
    "import sys\n",
    "!{sys.executable} -m pip install spacy\n",
    "!{sys.executable} -m spacy download en_core_web_sm"
   ]
  },
  {
   "cell_type": "code",
   "execution_count": 21,
   "id": "855ef085-74ae-48e4-8350-0fc9d8aa3ea3",
   "metadata": {},
   "outputs": [],
   "source": [
    "import spacy\n",
    "nlp = spacy.load('en_core_web_sm')"
   ]
  },
  {
   "cell_type": "code",
   "execution_count": 12,
   "id": "3bfb947f-eae4-4c6f-9468-84cee8c75a21",
   "metadata": {},
   "outputs": [],
   "source": [
    "def token_lemma_nonstops(text):\n",
    "    doc = nlp(text)\n",
    "    output = [token.lemma_ for token in doc if not token.is_stop]\n",
    "    output = ' '.join(output)\n",
    "    return output"
   ]
  },
  {
   "cell_type": "code",
   "execution_count": 13,
   "id": "84b35c31-c2f3-4c3a-a6fb-27c7eb0b0662",
   "metadata": {},
   "outputs": [],
   "source": [
    "nyt_news['nlp_clean_text'] = nyt_news['nlp_clean_text'].astype(str)"
   ]
  },
  {
   "cell_type": "code",
   "execution_count": null,
   "id": "9e085724-b94b-48f2-b5dc-b511d008f699",
   "metadata": {},
   "outputs": [],
   "source": [
    "#nyt_news['nlp_clean_text'] = nyt_news['nlp_clean_text'].apply(token_lemma_nonstops)"
   ]
  },
  {
   "cell_type": "code",
   "execution_count": 14,
   "id": "470c1552-8cc4-41e1-8178-59985c40ec51",
   "metadata": {},
   "outputs": [
    {
     "name": "stderr",
     "output_type": "stream",
     "text": [
      "/Users/rodrigoesparza/Documents/NCI/Tesis/nci_tesis/lib/python3.13/site-packages/numpy/_core/fromnumeric.py:57: FutureWarning: 'DataFrame.swapaxes' is deprecated and will be removed in a future version. Please use 'DataFrame.transpose' instead.\n",
      "  return bound(*args, **kwds)\n"
     ]
    },
    {
     "name": "stdout",
     "output_type": "stream",
     "text": [
      "Processing chunk 1, rows: 2192\n",
      "Processing chunk 101, rows: 2192\n",
      "Processing chunk 201, rows: 2192\n",
      "Processing chunk 301, rows: 2192\n",
      "Processing chunk 401, rows: 2192\n",
      "Processing chunk 501, rows: 2192\n",
      "Processing chunk 601, rows: 2192\n",
      "Processing chunk 701, rows: 2192\n",
      "Processing chunk 801, rows: 2192\n",
      "Processing chunk 901, rows: 2191\n"
     ]
    }
   ],
   "source": [
    "import numpy as np\n",
    "\n",
    "# Split into 1000 chunks\n",
    "chunks = np.array_split(nyt_news, 1000)\n",
    "\n",
    "for i, chunk in enumerate(chunks):\n",
    "    if i % 100 == 0:\n",
    "        print(f\"Processing chunk {i + 1}, rows: {len(chunk)}\")"
   ]
  },
  {
   "cell_type": "code",
   "execution_count": 26,
   "id": "e5b0e1ff-c3a3-4764-8a45-e56e5f61ba27",
   "metadata": {},
   "outputs": [],
   "source": [
    "# test = chunks[:2].copy()\n",
    "# test2 = chunks[2:4].copy()\n",
    "# test3 = chunks[4:6].copy()"
   ]
  },
  {
   "cell_type": "code",
   "execution_count": 27,
   "id": "c5391024-27a5-4c4f-9d75-b054e568d5f7",
   "metadata": {},
   "outputs": [
    {
     "name": "stdout",
     "output_type": "stream",
     "text": [
      "Chunk 0 DONEEE!!!\n",
      "Chunk 1 DONEEE!!!\n"
     ]
    }
   ],
   "source": [
    "# for i, chunk in enumerate(test):\n",
    "#     chunk['nlp_clean_text'] = chunk['nlp_clean_text'].apply(token_lemma_nonstops)\n",
    "#     print(f\"Chunk {i} DONEEE!!!\")\n",
    "\n",
    "# chunk_test = pd.concat(test, ignore_index=True)"
   ]
  },
  {
   "cell_type": "code",
   "execution_count": 28,
   "id": "34e66ea1-8806-4237-9f81-d6ca8b98e2cd",
   "metadata": {},
   "outputs": [
    {
     "name": "stdout",
     "output_type": "stream",
     "text": [
      "Chunk 0 DONEEE!!!\n",
      "Chunk 1 DONEEE!!!\n"
     ]
    }
   ],
   "source": [
    "# for i, chunk in enumerate(test2):\n",
    "#     chunk['nlp_clean_text'] = chunk['nlp_clean_text'].apply(token_lemma_nonstops)\n",
    "#     print(f\"Chunk {i} DONEEE!!!\")\n",
    "\n",
    "# chunk_test2 = pd.concat(test, ignore_index=True)"
   ]
  },
  {
   "cell_type": "code",
   "execution_count": 29,
   "id": "53537c90-a820-4f89-80f5-493d147d8e83",
   "metadata": {},
   "outputs": [
    {
     "name": "stdout",
     "output_type": "stream",
     "text": [
      "Chunk 0 DONEEE!!!\n",
      "Chunk 1 DONEEE!!!\n"
     ]
    }
   ],
   "source": [
    "# for i, chunk in enumerate(test3):\n",
    "#     chunk['nlp_clean_text'] = chunk['nlp_clean_text'].apply(token_lemma_nonstops)\n",
    "#     print(f\"Chunk {i} DONEEE!!!\")\n",
    "\n",
    "# chunk_test3 = pd.concat(test, ignore_index=True)"
   ]
  },
  {
   "cell_type": "code",
   "execution_count": 30,
   "id": "c31d7331-c79a-4e19-addc-6a2f5a197c5d",
   "metadata": {},
   "outputs": [],
   "source": [
    "# result = pd.concat([chunk_test, chunk_test2, chunk_test3])"
   ]
  },
  {
   "cell_type": "code",
   "execution_count": 31,
   "id": "30059c51-aec8-4164-bba0-cc747b45f5f8",
   "metadata": {
    "scrolled": true
   },
   "outputs": [
    {
     "data": {
      "text/html": [
       "<div>\n",
       "<style scoped>\n",
       "    .dataframe tbody tr th:only-of-type {\n",
       "        vertical-align: middle;\n",
       "    }\n",
       "\n",
       "    .dataframe tbody tr th {\n",
       "        vertical-align: top;\n",
       "    }\n",
       "\n",
       "    .dataframe thead th {\n",
       "        text-align: right;\n",
       "    }\n",
       "</style>\n",
       "<table border=\"1\" class=\"dataframe\">\n",
       "  <thead>\n",
       "    <tr style=\"text-align: right;\">\n",
       "      <th></th>\n",
       "      <th>date</th>\n",
       "      <th>clean_text</th>\n",
       "      <th>nlp_clean_text</th>\n",
       "    </tr>\n",
       "  </thead>\n",
       "  <tbody>\n",
       "    <tr>\n",
       "      <th>0</th>\n",
       "      <td>2000-01-01</td>\n",
       "      <td>Playoffs or No, Dallas Provides The Motivation Waiting in the visiting locker room at Texas Stadium late tomorrow afternoon, the Giants will know whether the Green Bay Packers, who play earlier against Arizona, have won or are comfortably ahead. Article on upcoming New York Giants-Dallas Cowboys game; photo (M)</td>\n",
       "      <td>playoff    dallas provide motivation wait visit locker room texas stadium late tomorrow afternoon    giant know green bay packer    play early arizona    win comfortably ahead    article upcoming new york giants dallas cowboys game    photo    m</td>\n",
       "    </tr>\n",
       "    <tr>\n",
       "      <th>1</th>\n",
       "      <td>2000-01-01</td>\n",
       "      <td>On This First Day, a Fanfare for the New Era; Knowing the World To the Editor: Jeanne C Pond letter expresses hope that spiritual development, artistic knowledge and skills and self-esteem flourish in new century; drawing</td>\n",
       "      <td>day    fanfare new era    know world editor    jeanne c pond letter express hope spiritual development    artistic knowledge skill self esteem flourish new century    draw</td>\n",
       "    </tr>\n",
       "    <tr>\n",
       "      <th>2</th>\n",
       "      <td>2000-01-01</td>\n",
       "      <td>Internet's Cheering Squad Nervously Watches Clock As the world slid nervously yesterday through the shadow of its first global technology challenge, many year 2000 experts took special comfort in the relatively stable behavior of one of their principal tools in dealing with the problem: the not-always-reliable Internet. Many experts on Y2K computer problem report that Internet performed impressively through rollover from 1999 to 2000 even if it did sag at times in isolated sites as users turned to e-mail messages, Web sites, newsgroups and electronic chat rooms to track arrival of Year 2000 in more and more time zones (M)</td>\n",
       "      <td>internet s cheer squad nervously watch clock world slide nervously yesterday shadow global technology challenge    year 2000 expert special comfort relatively stable behavior principal tool deal problem    reliable internet    expert y2k computer problem report internet perform impressively rollover 1999 2000 sag time isolate site user turn e mail message    web site    newsgroup electronic chat room track arrival year 2000 time zone    m</td>\n",
       "    </tr>\n",
       "    <tr>\n",
       "      <th>3</th>\n",
       "      <td>2000-01-01</td>\n",
       "      <td>Economic Thinking Finds a Free Market WILL the forces of globalism continue to push the world toward American-style capitalism? WILL the forces of globalism continue to push the world toward American-style capitalism?    As the 21st century begins, advocates of the free market have no doubt that they have won the economic argument. Socialism is dead. Moreover, as a means of creating wealth and material progress, American capitalism seems to be clearly superior to the Asian variety, with its greater level of government planning, or the European version, with its emphasis on social welfare and protection of workers from losing their jobs.</td>\n",
       "      <td>economic thinking find free market force globalism continue push world american style capitalism    force globalism continue push world american style capitalism       21st century begin    advocate free market doubt win economic argument    socialism dead      mean create wealth material progress    american capitalism clearly superior asian variety    great level government planning    european version    emphasis social welfare protection worker lose job</td>\n",
       "    </tr>\n",
       "    <tr>\n",
       "      <th>4</th>\n",
       "      <td>2000-01-01</td>\n",
       "      <td>INSIDE SPECIAL TODAY  SPECIAL TODAY  The Millennium  Envisioning the future of politics, people, cities and machines -- even the front page of The Times -- and reflecting on the past.  SECTION E</td>\n",
       "      <td>inside special today    special today    millennium    envision future politic    people    city machine      page time      reflect past     section e</td>\n",
       "    </tr>\n",
       "    <tr>\n",
       "      <th>5</th>\n",
       "      <td>2000-01-01</td>\n",
       "      <td>Paid Notice: Deaths  BAUER, LILLIAN BAUER-Lillian. December 30, 1999. Beloved wife of the late Jules L. Bauer. Loving mother of Peter M. Bauer and his wife Emily Bauer. Cherished grandmother of David A. Bauer and Victoria Nadler and great-grandmother of Audrey and Stephen Nadler. Devoted sister of Alice G. Fish and Irene G. Berzon. Funeral private. BAUER-Lillian. December 30, 1999. Beloved wife of the late Jules L. Bauer. Loving mother of Peter M. Bauer and his wife Emily Bauer. Cherished grandmother of David A. Bauer and Victoria Nadler and great-grandmother of Audrey and Stephen Nadler. Devoted sister of Alice G. Fish and Irene G. Berzon. Funeral private.</td>\n",
       "      <td>pay notice    death    bauer    lillian bauer lillian    december 30    1999    beloved wife late jules l    bauer    love mother peter m    bauer wife emily bauer    cherish grandmother david    bauer victoria nadler great grandmother audrey stephen nadler    devoted sister alice g    fish irene g    berzon    funeral private    bauer lillian    december 30    1999    beloved wife late jules l    bauer    love mother peter m    bauer wife emily bauer    cherish grandmother david    bauer victoria nadler great grandmother audrey stephen nadler    devoted sister alice g    fish irene g    berzon    funeral private</td>\n",
       "    </tr>\n",
       "    <tr>\n",
       "      <th>6</th>\n",
       "      <td>2000-01-01</td>\n",
       "      <td>COLLEGE FOOTBALL; From Homeless to a Home at Florida State The former high school superstars thought they had it tough. One by one, the Florida State freshman football players vented their frustrations last year during their first meeting with the university's director of student development, Pam Overton: Article on Florida State offensive tackle Todd Williams notes that he earned football scholarship even though he was living on streets when he was 15; photo (M)</td>\n",
       "      <td>college football    homeless home florida state high school superstar think tough      florida state freshman football player vent frustration year meeting university s director student development    pam overton    article florida state offensive tackle todd williams note earn football scholarship live street 15    photo    m</td>\n",
       "    </tr>\n",
       "    <tr>\n",
       "      <th>7</th>\n",
       "      <td>2000-01-01</td>\n",
       "      <td>Science Invades the Pantry So far, most of the inventions of agricultural biotechnology have been new weapons for farmers in their fight against insects and weeds. A few make processes like making cheese more efficient. One big seller, a cow hormone produced in genetically altered bacteria, increases milk production. Rice, milk, produce, eggs and corn that have been improved through genetic engeering or more traditional tools of biotechnology will be available in early years of 21st century; photos (M)</td>\n",
       "      <td>science invade pantry far    invention agricultural biotechnology new weapon farmer fight insect weed    process like cheese efficient    big seller    cow hormone produce genetically alter bacteria    increase milk production    rice    milk    produce    egg corn improve genetic engeere traditional tool biotechnology available early year 21st century    photo    m</td>\n",
       "    </tr>\n",
       "    <tr>\n",
       "      <th>8</th>\n",
       "      <td>2000-01-01</td>\n",
       "      <td>Tax Lawyer Called Architect of a Tax-Evasion Scheme A Tax Court judge has ruled that one of the nation's most prominent tax lawyers, Burton W. Kanter of Chicago, was ''the architect'' of a long-running kickback and tax-evasion scheme in which money was siphoned from funds managed by the Prudential and Travelers insurance companies. Judge D Irvin Couvillion rules that Burton W Kanter, one of nation's most prominent tax lawyers, was 'architect' of long-running kickback and tax-evasion scheme in which money was siphoned from funds managed by Prudential and Travelers insurance companies; concludes that Internal Revenue Service overwhelmingly proved its civil fraud case against Kanter; Tax Court holds that $13 million in kickbacks were paid from 1972 through 1988 by four developers and another man to Claude Ballard and Robert Lisle, who were senior executives with Prudential overseeing its real estate investments; court says Ballard and Lisle then steered financing and contracts to developers, and gave 10 percent of kickbacks to Kanter; says kickbacks were funneled to 'sham' companies that Kanter controlled; Kanter denies any wrongdoing and says he will appeal; photos (M)</td>\n",
       "      <td>tax lawyer architect tax evasion scheme tax court judge rule nation s prominent tax lawyer    burton w    kanter chicago       architect     long run kickback tax evasion scheme money siphon fund manage prudential traveler insurance company    judge d irvin couvillion rule burton w kanter    nation s prominent tax lawyer      architect    long run kickback tax evasion scheme money siphon fund manage prudential traveler insurance company    conclude internal revenue service overwhelmingly prove civil fraud case kanter    tax court hold    13 million kickback pay 1972 1988 developer man claude ballard robert lisle    senior executive prudential oversee real estate investment    court ballard lisle steer financing contract developer    10 percent kickback kanter    kickback funnel    sham    company kanter control    kanter deny wrongdoing appeal    photo    m</td>\n",
       "    </tr>\n",
       "    <tr>\n",
       "      <th>9</th>\n",
       "      <td>2000-01-01</td>\n",
       "      <td>Paid Notice: Deaths  GLUCK, SAMUEL E. GLUCK-Samuel E.. At age 74. On December 31, 1999. Scientist and philosopher. Survived by wife Phyllis Gold Gluck, sons Josiah, Theodore and Sebastian; Zina and Ernest Stern and cousins. Services Sunday, January 2, at 11:30 AM, Plaza Memorial, 91st Street and Amsterdam Avenue. GLUCK-Samuel E.. At age 74. On December 31, 1999. Scientist and philosopher. Survived by wife Phyllis Gold Gluck, sons Josiah, Theodore and Sebastian; Zina and Ernest Stern and cousins. Services Sunday, January 2, at 11:30 AM, Plaza Memorial, 91st Street and Amsterdam Avenue.</td>\n",
       "      <td>pay notice    death    gluck    samuel e    gluck samuel e     age 74    december 31    1999    scientist philosopher    survive wife phyllis gold gluck    son josiah    theodore sebastian    zina ern stern cousin    service sunday    january 2    11 30    plaza memorial    91st street amsterdam avenue    gluck samuel e     age 74    december 31    1999    scientist philosopher    survive wife phyllis gold gluck    son josiah    theodore sebastian    zina ern stern cousin    service sunday    january 2    11 30    plaza memorial    91st street amsterdam avenue</td>\n",
       "    </tr>\n",
       "  </tbody>\n",
       "</table>\n",
       "</div>"
      ],
      "text/plain": [
       "         date  \\\n",
       "0  2000-01-01   \n",
       "1  2000-01-01   \n",
       "2  2000-01-01   \n",
       "3  2000-01-01   \n",
       "4  2000-01-01   \n",
       "5  2000-01-01   \n",
       "6  2000-01-01   \n",
       "7  2000-01-01   \n",
       "8  2000-01-01   \n",
       "9  2000-01-01   \n",
       "\n",
       "                                                                                                                                                                                                                                                                                                                                                                                                                                                                                                                                                                                                                                                                                                                                                                                                                                                                                                                                                                                                                                                                                                                                                                                                                          clean_text  \\\n",
       "0                                                                                                                                                                                                                                                                                                                                                                                                                                                                                                                                                                                                                                                                                                                                                                                                                                                                                                           Playoffs or No, Dallas Provides The Motivation Waiting in the visiting locker room at Texas Stadium late tomorrow afternoon, the Giants will know whether the Green Bay Packers, who play earlier against Arizona, have won or are comfortably ahead. Article on upcoming New York Giants-Dallas Cowboys game; photo (M)   \n",
       "1                                                                                                                                                                                                                                                                                                                                                                                                                                                                                                                                                                                                                                                                                                                                                                                                                                                                                                                                                                                                      On This First Day, a Fanfare for the New Era; Knowing the World To the Editor: Jeanne C Pond letter expresses hope that spiritual development, artistic knowledge and skills and self-esteem flourish in new century; drawing   \n",
       "2                                                                                                                                                                                                                                                                                                                                                                                                                                                                                                                                                                              Internet's Cheering Squad Nervously Watches Clock As the world slid nervously yesterday through the shadow of its first global technology challenge, many year 2000 experts took special comfort in the relatively stable behavior of one of their principal tools in dealing with the problem: the not-always-reliable Internet. Many experts on Y2K computer problem report that Internet performed impressively through rollover from 1999 to 2000 even if it did sag at times in isolated sites as users turned to e-mail messages, Web sites, newsgroups and electronic chat rooms to track arrival of Year 2000 in more and more time zones (M)   \n",
       "3                                                                                                                                                                                                                                                                                                                                                                                                                                                                                                                                                               Economic Thinking Finds a Free Market WILL the forces of globalism continue to push the world toward American-style capitalism? WILL the forces of globalism continue to push the world toward American-style capitalism?    As the 21st century begins, advocates of the free market have no doubt that they have won the economic argument. Socialism is dead. Moreover, as a means of creating wealth and material progress, American capitalism seems to be clearly superior to the Asian variety, with its greater level of government planning, or the European version, with its emphasis on social welfare and protection of workers from losing their jobs.   \n",
       "4                                                                                                                                                                                                                                                                                                                                                                                                                                                                                                                                                                                                                                                                                                                                                                                                                                                                                                                                                                                                                                 INSIDE SPECIAL TODAY  SPECIAL TODAY  The Millennium  Envisioning the future of politics, people, cities and machines -- even the front page of The Times -- and reflecting on the past.  SECTION E   \n",
       "5                                                                                                                                                                                                                                                                                                                                                                                                                                                                                                                                          Paid Notice: Deaths  BAUER, LILLIAN BAUER-Lillian. December 30, 1999. Beloved wife of the late Jules L. Bauer. Loving mother of Peter M. Bauer and his wife Emily Bauer. Cherished grandmother of David A. Bauer and Victoria Nadler and great-grandmother of Audrey and Stephen Nadler. Devoted sister of Alice G. Fish and Irene G. Berzon. Funeral private. BAUER-Lillian. December 30, 1999. Beloved wife of the late Jules L. Bauer. Loving mother of Peter M. Bauer and his wife Emily Bauer. Cherished grandmother of David A. Bauer and Victoria Nadler and great-grandmother of Audrey and Stephen Nadler. Devoted sister of Alice G. Fish and Irene G. Berzon. Funeral private.   \n",
       "6                                                                                                                                                                                                                                                                                                                                                                                                                                                                                                                                                                                                                                                                                                                                                COLLEGE FOOTBALL; From Homeless to a Home at Florida State The former high school superstars thought they had it tough. One by one, the Florida State freshman football players vented their frustrations last year during their first meeting with the university's director of student development, Pam Overton: Article on Florida State offensive tackle Todd Williams notes that he earned football scholarship even though he was living on streets when he was 15; photo (M)   \n",
       "7                                                                                                                                                                                                                                                                                                                                                                                                                                                                                                                                                                                                                                                                                                        Science Invades the Pantry So far, most of the inventions of agricultural biotechnology have been new weapons for farmers in their fight against insects and weeds. A few make processes like making cheese more efficient. One big seller, a cow hormone produced in genetically altered bacteria, increases milk production. Rice, milk, produce, eggs and corn that have been improved through genetic engeering or more traditional tools of biotechnology will be available in early years of 21st century; photos (M)   \n",
       "8  Tax Lawyer Called Architect of a Tax-Evasion Scheme A Tax Court judge has ruled that one of the nation's most prominent tax lawyers, Burton W. Kanter of Chicago, was ''the architect'' of a long-running kickback and tax-evasion scheme in which money was siphoned from funds managed by the Prudential and Travelers insurance companies. Judge D Irvin Couvillion rules that Burton W Kanter, one of nation's most prominent tax lawyers, was 'architect' of long-running kickback and tax-evasion scheme in which money was siphoned from funds managed by Prudential and Travelers insurance companies; concludes that Internal Revenue Service overwhelmingly proved its civil fraud case against Kanter; Tax Court holds that $13 million in kickbacks were paid from 1972 through 1988 by four developers and another man to Claude Ballard and Robert Lisle, who were senior executives with Prudential overseeing its real estate investments; court says Ballard and Lisle then steered financing and contracts to developers, and gave 10 percent of kickbacks to Kanter; says kickbacks were funneled to 'sham' companies that Kanter controlled; Kanter denies any wrongdoing and says he will appeal; photos (M)   \n",
       "9                                                                                                                                                                                                                                                                                                                                                                                                                                                                                                                                                                                                                    Paid Notice: Deaths  GLUCK, SAMUEL E. GLUCK-Samuel E.. At age 74. On December 31, 1999. Scientist and philosopher. Survived by wife Phyllis Gold Gluck, sons Josiah, Theodore and Sebastian; Zina and Ernest Stern and cousins. Services Sunday, January 2, at 11:30 AM, Plaza Memorial, 91st Street and Amsterdam Avenue. GLUCK-Samuel E.. At age 74. On December 31, 1999. Scientist and philosopher. Survived by wife Phyllis Gold Gluck, sons Josiah, Theodore and Sebastian; Zina and Ernest Stern and cousins. Services Sunday, January 2, at 11:30 AM, Plaza Memorial, 91st Street and Amsterdam Avenue.   \n",
       "\n",
       "                                                                                                                                                                                                                                                                                                                                                                                                                                                                                                                                                                                                                                                                                                                                                                                                                                                                                          nlp_clean_text  \n",
       "0                                                                                                                                                                                                                                                                                                                                                                                                                                                                                                                                                                                                                                                  playoff    dallas provide motivation wait visit locker room texas stadium late tomorrow afternoon    giant know green bay packer    play early arizona    win comfortably ahead    article upcoming new york giants dallas cowboys game    photo    m  \n",
       "1                                                                                                                                                                                                                                                                                                                                                                                                                                                                                                                                                                                                                                                                                                                            day    fanfare new era    know world editor    jeanne c pond letter express hope spiritual development    artistic knowledge skill self esteem flourish new century    draw  \n",
       "2                                                                                                                                                                                                                                                                                                                                                                                                                                             internet s cheer squad nervously watch clock world slide nervously yesterday shadow global technology challenge    year 2000 expert special comfort relatively stable behavior principal tool deal problem    reliable internet    expert y2k computer problem report internet perform impressively rollover 1999 2000 sag time isolate site user turn e mail message    web site    newsgroup electronic chat room track arrival year 2000 time zone    m  \n",
       "3                                                                                                                                                                                                                                                                                                                                                                                                                          economic thinking find free market force globalism continue push world american style capitalism    force globalism continue push world american style capitalism       21st century begin    advocate free market doubt win economic argument    socialism dead      mean create wealth material progress    american capitalism clearly superior asian variety    great level government planning    european version    emphasis social welfare protection worker lose job  \n",
       "4                                                                                                                                                                                                                                                                                                                                                                                                                                                                                                                                                                                                                                                                                                                                                inside special today    special today    millennium    envision future politic    people    city machine      page time      reflect past     section e  \n",
       "5                                                                                                                                                                                                                                                           pay notice    death    bauer    lillian bauer lillian    december 30    1999    beloved wife late jules l    bauer    love mother peter m    bauer wife emily bauer    cherish grandmother david    bauer victoria nadler great grandmother audrey stephen nadler    devoted sister alice g    fish irene g    berzon    funeral private    bauer lillian    december 30    1999    beloved wife late jules l    bauer    love mother peter m    bauer wife emily bauer    cherish grandmother david    bauer victoria nadler great grandmother audrey stephen nadler    devoted sister alice g    fish irene g    berzon    funeral private  \n",
       "6                                                                                                                                                                                                                                                                                                                                                                                                                                                                                                                                                               college football    homeless home florida state high school superstar think tough      florida state freshman football player vent frustration year meeting university s director student development    pam overton    article florida state offensive tackle todd williams note earn football scholarship live street 15    photo    m  \n",
       "7                                                                                                                                                                                                                                                                                                                                                                                                                                                                                                                       science invade pantry far    invention agricultural biotechnology new weapon farmer fight insect weed    process like cheese efficient    big seller    cow hormone produce genetically alter bacteria    increase milk production    rice    milk    produce    egg corn improve genetic engeere traditional tool biotechnology available early year 21st century    photo    m  \n",
       "8  tax lawyer architect tax evasion scheme tax court judge rule nation s prominent tax lawyer    burton w    kanter chicago       architect     long run kickback tax evasion scheme money siphon fund manage prudential traveler insurance company    judge d irvin couvillion rule burton w kanter    nation s prominent tax lawyer      architect    long run kickback tax evasion scheme money siphon fund manage prudential traveler insurance company    conclude internal revenue service overwhelmingly prove civil fraud case kanter    tax court hold    13 million kickback pay 1972 1988 developer man claude ballard robert lisle    senior executive prudential oversee real estate investment    court ballard lisle steer financing contract developer    10 percent kickback kanter    kickback funnel    sham    company kanter control    kanter deny wrongdoing appeal    photo    m  \n",
       "9                                                                                                                                                                                                                                                                                                                 pay notice    death    gluck    samuel e    gluck samuel e     age 74    december 31    1999    scientist philosopher    survive wife phyllis gold gluck    son josiah    theodore sebastian    zina ern stern cousin    service sunday    january 2    11 30    plaza memorial    91st street amsterdam avenue    gluck samuel e     age 74    december 31    1999    scientist philosopher    survive wife phyllis gold gluck    son josiah    theodore sebastian    zina ern stern cousin    service sunday    january 2    11 30    plaza memorial    91st street amsterdam avenue  "
      ]
     },
     "execution_count": 31,
     "metadata": {},
     "output_type": "execute_result"
    }
   ],
   "source": [
    "# result.head(10)"
   ]
  },
  {
   "cell_type": "code",
   "execution_count": null,
   "id": "0699205b-a1d2-4673-87c5-ec145a3a5972",
   "metadata": {},
   "outputs": [],
   "source": []
  },
  {
   "cell_type": "code",
   "execution_count": null,
   "id": "ba37fc23-ecfd-40db-8baa-f8e98ab2aee5",
   "metadata": {},
   "outputs": [],
   "source": []
  },
  {
   "cell_type": "code",
   "execution_count": null,
   "id": "aeb10753-758a-4e47-99fa-bef4c5a6707e",
   "metadata": {},
   "outputs": [],
   "source": []
  },
  {
   "cell_type": "code",
   "execution_count": 32,
   "id": "a8f5c71f-dc3f-4477-8d6a-24344fe13ec5",
   "metadata": {},
   "outputs": [
    {
     "name": "stdout",
     "output_type": "stream",
     "text": [
      "The history saving thread hit an unexpected error (OperationalError('attempt to write a readonly database')).History will not be written to the database.\n"
     ]
    }
   ],
   "source": [
    "chunks1 = chunks[:100].copy()\n",
    "chunks2 = chunks[100:200].copy()\n",
    "chunks3 = chunks[200:300].copy()\n",
    "chunks4 = chunks[300:400].copy()\n",
    "chunks5 = chunks[400:500].copy()\n",
    "chunks6 = chunks[500:600].copy()\n",
    "chunks7 = chunks[600:700].copy()\n",
    "chunks8 = chunks[700:800].copy()\n",
    "chunks9 = chunks[800:900].copy()\n",
    "chunks10 = chunks[900:999].copy()"
   ]
  },
  {
   "cell_type": "code",
   "execution_count": 33,
   "id": "5a1dda1e-e2a0-4335-a752-e9bf2b322a21",
   "metadata": {},
   "outputs": [
    {
     "name": "stdout",
     "output_type": "stream",
     "text": [
      "Chunk 0 DONEEE!!!\n",
      "Chunk 10 DONEEE!!!\n",
      "Chunk 20 DONEEE!!!\n",
      "Chunk 30 DONEEE!!!\n",
      "Chunk 40 DONEEE!!!\n",
      "Chunk 50 DONEEE!!!\n",
      "Chunk 60 DONEEE!!!\n",
      "Chunk 70 DONEEE!!!\n",
      "Chunk 80 DONEEE!!!\n",
      "Chunk 90 DONEEE!!!\n"
     ]
    }
   ],
   "source": [
    "for i, chunk in enumerate(chunks1):\n",
    "    chunk['nlp_clean_text'] = chunk['nlp_clean_text'].apply(token_lemma_nonstops)\n",
    "    if i % 10 == 0:\n",
    "        print(f\"Chunk {i} DONEEE!!!\")\n",
    "\n",
    "df_chunk1 = pd.concat(chunks1, ignore_index=True)"
   ]
  },
  {
   "cell_type": "code",
   "execution_count": 36,
   "id": "7326ac5a-5c23-4811-9e82-fbbf68728e70",
   "metadata": {},
   "outputs": [],
   "source": [
    "df_chunk1.to_csv('df_chunk1.csv')"
   ]
  },
  {
   "cell_type": "code",
   "execution_count": 34,
   "id": "ab3f531c-2118-4048-b26b-b30803a7e1ca",
   "metadata": {},
   "outputs": [
    {
     "name": "stdout",
     "output_type": "stream",
     "text": [
      "Chunk 0 DONEEE!!!\n",
      "Chunk 10 DONEEE!!!\n",
      "Chunk 20 DONEEE!!!\n",
      "Chunk 30 DONEEE!!!\n"
     ]
    },
    {
     "ename": "ValueError",
     "evalue": "[E088] Text of length 1008193 exceeds maximum of 1000000. The parser and NER models require roughly 1GB of temporary memory per 100,000 characters in the input. This means long texts may cause memory allocation errors. If you're not using the parser or NER, it's probably safe to increase the `nlp.max_length` limit. The limit is in number of characters, so you can check whether your inputs are too long by checking `len(text)`.",
     "output_type": "error",
     "traceback": [
      "\u001b[31m---------------------------------------------------------------------------\u001b[39m",
      "\u001b[31mValueError\u001b[39m                                Traceback (most recent call last)",
      "\u001b[36mCell\u001b[39m\u001b[36m \u001b[39m\u001b[32mIn[34]\u001b[39m\u001b[32m, line 2\u001b[39m\n\u001b[32m      1\u001b[39m \u001b[38;5;28;01mfor\u001b[39;00m i, chunk \u001b[38;5;129;01min\u001b[39;00m \u001b[38;5;28menumerate\u001b[39m(chunks2):\n\u001b[32m----> \u001b[39m\u001b[32m2\u001b[39m     chunk[\u001b[33m'\u001b[39m\u001b[33mnlp_clean_text\u001b[39m\u001b[33m'\u001b[39m] = \u001b[43mchunk\u001b[49m\u001b[43m[\u001b[49m\u001b[33;43m'\u001b[39;49m\u001b[33;43mnlp_clean_text\u001b[39;49m\u001b[33;43m'\u001b[39;49m\u001b[43m]\u001b[49m\u001b[43m.\u001b[49m\u001b[43mapply\u001b[49m\u001b[43m(\u001b[49m\u001b[43mtoken_lemma_nonstops\u001b[49m\u001b[43m)\u001b[49m\n\u001b[32m      3\u001b[39m     \u001b[38;5;28;01mif\u001b[39;00m i % \u001b[32m10\u001b[39m == \u001b[32m0\u001b[39m:\n\u001b[32m      4\u001b[39m         \u001b[38;5;28mprint\u001b[39m(\u001b[33mf\u001b[39m\u001b[33m\"\u001b[39m\u001b[33mChunk \u001b[39m\u001b[38;5;132;01m{\u001b[39;00mi\u001b[38;5;132;01m}\u001b[39;00m\u001b[33m DONEEE!!!\u001b[39m\u001b[33m\"\u001b[39m)\n",
      "\u001b[36mFile \u001b[39m\u001b[32m~/Documents/NCI/Tesis/nci_tesis/lib/python3.13/site-packages/pandas/core/series.py:4924\u001b[39m, in \u001b[36mSeries.apply\u001b[39m\u001b[34m(self, func, convert_dtype, args, by_row, **kwargs)\u001b[39m\n\u001b[32m   4789\u001b[39m \u001b[38;5;28;01mdef\u001b[39;00m\u001b[38;5;250m \u001b[39m\u001b[34mapply\u001b[39m(\n\u001b[32m   4790\u001b[39m     \u001b[38;5;28mself\u001b[39m,\n\u001b[32m   4791\u001b[39m     func: AggFuncType,\n\u001b[32m   (...)\u001b[39m\u001b[32m   4796\u001b[39m     **kwargs,\n\u001b[32m   4797\u001b[39m ) -> DataFrame | Series:\n\u001b[32m   4798\u001b[39m \u001b[38;5;250m    \u001b[39m\u001b[33;03m\"\"\"\u001b[39;00m\n\u001b[32m   4799\u001b[39m \u001b[33;03m    Invoke function on values of Series.\u001b[39;00m\n\u001b[32m   4800\u001b[39m \n\u001b[32m   (...)\u001b[39m\u001b[32m   4915\u001b[39m \u001b[33;03m    dtype: float64\u001b[39;00m\n\u001b[32m   4916\u001b[39m \u001b[33;03m    \"\"\"\u001b[39;00m\n\u001b[32m   4917\u001b[39m     \u001b[38;5;28;01mreturn\u001b[39;00m \u001b[43mSeriesApply\u001b[49m\u001b[43m(\u001b[49m\n\u001b[32m   4918\u001b[39m \u001b[43m        \u001b[49m\u001b[38;5;28;43mself\u001b[39;49m\u001b[43m,\u001b[49m\n\u001b[32m   4919\u001b[39m \u001b[43m        \u001b[49m\u001b[43mfunc\u001b[49m\u001b[43m,\u001b[49m\n\u001b[32m   4920\u001b[39m \u001b[43m        \u001b[49m\u001b[43mconvert_dtype\u001b[49m\u001b[43m=\u001b[49m\u001b[43mconvert_dtype\u001b[49m\u001b[43m,\u001b[49m\n\u001b[32m   4921\u001b[39m \u001b[43m        \u001b[49m\u001b[43mby_row\u001b[49m\u001b[43m=\u001b[49m\u001b[43mby_row\u001b[49m\u001b[43m,\u001b[49m\n\u001b[32m   4922\u001b[39m \u001b[43m        \u001b[49m\u001b[43margs\u001b[49m\u001b[43m=\u001b[49m\u001b[43margs\u001b[49m\u001b[43m,\u001b[49m\n\u001b[32m   4923\u001b[39m \u001b[43m        \u001b[49m\u001b[43mkwargs\u001b[49m\u001b[43m=\u001b[49m\u001b[43mkwargs\u001b[49m\u001b[43m,\u001b[49m\n\u001b[32m-> \u001b[39m\u001b[32m4924\u001b[39m \u001b[43m    \u001b[49m\u001b[43m)\u001b[49m\u001b[43m.\u001b[49m\u001b[43mapply\u001b[49m\u001b[43m(\u001b[49m\u001b[43m)\u001b[49m\n",
      "\u001b[36mFile \u001b[39m\u001b[32m~/Documents/NCI/Tesis/nci_tesis/lib/python3.13/site-packages/pandas/core/apply.py:1427\u001b[39m, in \u001b[36mSeriesApply.apply\u001b[39m\u001b[34m(self)\u001b[39m\n\u001b[32m   1424\u001b[39m     \u001b[38;5;28;01mreturn\u001b[39;00m \u001b[38;5;28mself\u001b[39m.apply_compat()\n\u001b[32m   1426\u001b[39m \u001b[38;5;66;03m# self.func is Callable\u001b[39;00m\n\u001b[32m-> \u001b[39m\u001b[32m1427\u001b[39m \u001b[38;5;28;01mreturn\u001b[39;00m \u001b[38;5;28;43mself\u001b[39;49m\u001b[43m.\u001b[49m\u001b[43mapply_standard\u001b[49m\u001b[43m(\u001b[49m\u001b[43m)\u001b[49m\n",
      "\u001b[36mFile \u001b[39m\u001b[32m~/Documents/NCI/Tesis/nci_tesis/lib/python3.13/site-packages/pandas/core/apply.py:1507\u001b[39m, in \u001b[36mSeriesApply.apply_standard\u001b[39m\u001b[34m(self)\u001b[39m\n\u001b[32m   1501\u001b[39m \u001b[38;5;66;03m# row-wise access\u001b[39;00m\n\u001b[32m   1502\u001b[39m \u001b[38;5;66;03m# apply doesn't have a `na_action` keyword and for backward compat reasons\u001b[39;00m\n\u001b[32m   1503\u001b[39m \u001b[38;5;66;03m# we need to give `na_action=\"ignore\"` for categorical data.\u001b[39;00m\n\u001b[32m   1504\u001b[39m \u001b[38;5;66;03m# TODO: remove the `na_action=\"ignore\"` when that default has been changed in\u001b[39;00m\n\u001b[32m   1505\u001b[39m \u001b[38;5;66;03m#  Categorical (GH51645).\u001b[39;00m\n\u001b[32m   1506\u001b[39m action = \u001b[33m\"\u001b[39m\u001b[33mignore\u001b[39m\u001b[33m\"\u001b[39m \u001b[38;5;28;01mif\u001b[39;00m \u001b[38;5;28misinstance\u001b[39m(obj.dtype, CategoricalDtype) \u001b[38;5;28;01melse\u001b[39;00m \u001b[38;5;28;01mNone\u001b[39;00m\n\u001b[32m-> \u001b[39m\u001b[32m1507\u001b[39m mapped = \u001b[43mobj\u001b[49m\u001b[43m.\u001b[49m\u001b[43m_map_values\u001b[49m\u001b[43m(\u001b[49m\n\u001b[32m   1508\u001b[39m \u001b[43m    \u001b[49m\u001b[43mmapper\u001b[49m\u001b[43m=\u001b[49m\u001b[43mcurried\u001b[49m\u001b[43m,\u001b[49m\u001b[43m \u001b[49m\u001b[43mna_action\u001b[49m\u001b[43m=\u001b[49m\u001b[43maction\u001b[49m\u001b[43m,\u001b[49m\u001b[43m \u001b[49m\u001b[43mconvert\u001b[49m\u001b[43m=\u001b[49m\u001b[38;5;28;43mself\u001b[39;49m\u001b[43m.\u001b[49m\u001b[43mconvert_dtype\u001b[49m\n\u001b[32m   1509\u001b[39m \u001b[43m\u001b[49m\u001b[43m)\u001b[49m\n\u001b[32m   1511\u001b[39m \u001b[38;5;28;01mif\u001b[39;00m \u001b[38;5;28mlen\u001b[39m(mapped) \u001b[38;5;129;01mand\u001b[39;00m \u001b[38;5;28misinstance\u001b[39m(mapped[\u001b[32m0\u001b[39m], ABCSeries):\n\u001b[32m   1512\u001b[39m     \u001b[38;5;66;03m# GH#43986 Need to do list(mapped) in order to get treated as nested\u001b[39;00m\n\u001b[32m   1513\u001b[39m     \u001b[38;5;66;03m#  See also GH#25959 regarding EA support\u001b[39;00m\n\u001b[32m   1514\u001b[39m     \u001b[38;5;28;01mreturn\u001b[39;00m obj._constructor_expanddim(\u001b[38;5;28mlist\u001b[39m(mapped), index=obj.index)\n",
      "\u001b[36mFile \u001b[39m\u001b[32m~/Documents/NCI/Tesis/nci_tesis/lib/python3.13/site-packages/pandas/core/base.py:921\u001b[39m, in \u001b[36mIndexOpsMixin._map_values\u001b[39m\u001b[34m(self, mapper, na_action, convert)\u001b[39m\n\u001b[32m    918\u001b[39m \u001b[38;5;28;01mif\u001b[39;00m \u001b[38;5;28misinstance\u001b[39m(arr, ExtensionArray):\n\u001b[32m    919\u001b[39m     \u001b[38;5;28;01mreturn\u001b[39;00m arr.map(mapper, na_action=na_action)\n\u001b[32m--> \u001b[39m\u001b[32m921\u001b[39m \u001b[38;5;28;01mreturn\u001b[39;00m \u001b[43malgorithms\u001b[49m\u001b[43m.\u001b[49m\u001b[43mmap_array\u001b[49m\u001b[43m(\u001b[49m\u001b[43marr\u001b[49m\u001b[43m,\u001b[49m\u001b[43m \u001b[49m\u001b[43mmapper\u001b[49m\u001b[43m,\u001b[49m\u001b[43m \u001b[49m\u001b[43mna_action\u001b[49m\u001b[43m=\u001b[49m\u001b[43mna_action\u001b[49m\u001b[43m,\u001b[49m\u001b[43m \u001b[49m\u001b[43mconvert\u001b[49m\u001b[43m=\u001b[49m\u001b[43mconvert\u001b[49m\u001b[43m)\u001b[49m\n",
      "\u001b[36mFile \u001b[39m\u001b[32m~/Documents/NCI/Tesis/nci_tesis/lib/python3.13/site-packages/pandas/core/algorithms.py:1743\u001b[39m, in \u001b[36mmap_array\u001b[39m\u001b[34m(arr, mapper, na_action, convert)\u001b[39m\n\u001b[32m   1741\u001b[39m values = arr.astype(\u001b[38;5;28mobject\u001b[39m, copy=\u001b[38;5;28;01mFalse\u001b[39;00m)\n\u001b[32m   1742\u001b[39m \u001b[38;5;28;01mif\u001b[39;00m na_action \u001b[38;5;129;01mis\u001b[39;00m \u001b[38;5;28;01mNone\u001b[39;00m:\n\u001b[32m-> \u001b[39m\u001b[32m1743\u001b[39m     \u001b[38;5;28;01mreturn\u001b[39;00m \u001b[43mlib\u001b[49m\u001b[43m.\u001b[49m\u001b[43mmap_infer\u001b[49m\u001b[43m(\u001b[49m\u001b[43mvalues\u001b[49m\u001b[43m,\u001b[49m\u001b[43m \u001b[49m\u001b[43mmapper\u001b[49m\u001b[43m,\u001b[49m\u001b[43m \u001b[49m\u001b[43mconvert\u001b[49m\u001b[43m=\u001b[49m\u001b[43mconvert\u001b[49m\u001b[43m)\u001b[49m\n\u001b[32m   1744\u001b[39m \u001b[38;5;28;01melse\u001b[39;00m:\n\u001b[32m   1745\u001b[39m     \u001b[38;5;28;01mreturn\u001b[39;00m lib.map_infer_mask(\n\u001b[32m   1746\u001b[39m         values, mapper, mask=isna(values).view(np.uint8), convert=convert\n\u001b[32m   1747\u001b[39m     )\n",
      "\u001b[36mFile \u001b[39m\u001b[32mlib.pyx:2972\u001b[39m, in \u001b[36mpandas._libs.lib.map_infer\u001b[39m\u001b[34m()\u001b[39m\n",
      "\u001b[36mCell\u001b[39m\u001b[36m \u001b[39m\u001b[32mIn[12]\u001b[39m\u001b[32m, line 2\u001b[39m, in \u001b[36mtoken_lemma_nonstops\u001b[39m\u001b[34m(text)\u001b[39m\n\u001b[32m      1\u001b[39m \u001b[38;5;28;01mdef\u001b[39;00m\u001b[38;5;250m \u001b[39m\u001b[34mtoken_lemma_nonstops\u001b[39m(text):\n\u001b[32m----> \u001b[39m\u001b[32m2\u001b[39m     doc = \u001b[43mnlp\u001b[49m\u001b[43m(\u001b[49m\u001b[43mtext\u001b[49m\u001b[43m)\u001b[49m\n\u001b[32m      3\u001b[39m     output = [token.lemma_ \u001b[38;5;28;01mfor\u001b[39;00m token \u001b[38;5;129;01min\u001b[39;00m doc \u001b[38;5;28;01mif\u001b[39;00m \u001b[38;5;129;01mnot\u001b[39;00m token.is_stop]\n\u001b[32m      4\u001b[39m     output = \u001b[33m'\u001b[39m\u001b[33m \u001b[39m\u001b[33m'\u001b[39m.join(output)\n",
      "\u001b[36mFile \u001b[39m\u001b[32m~/Documents/NCI/Tesis/nci_tesis/lib/python3.13/site-packages/spacy/language.py:1041\u001b[39m, in \u001b[36mLanguage.__call__\u001b[39m\u001b[34m(self, text, disable, component_cfg)\u001b[39m\n\u001b[32m   1020\u001b[39m \u001b[38;5;28;01mdef\u001b[39;00m\u001b[38;5;250m \u001b[39m\u001b[34m__call__\u001b[39m(\n\u001b[32m   1021\u001b[39m     \u001b[38;5;28mself\u001b[39m,\n\u001b[32m   1022\u001b[39m     text: Union[\u001b[38;5;28mstr\u001b[39m, Doc],\n\u001b[32m   (...)\u001b[39m\u001b[32m   1025\u001b[39m     component_cfg: Optional[Dict[\u001b[38;5;28mstr\u001b[39m, Dict[\u001b[38;5;28mstr\u001b[39m, Any]]] = \u001b[38;5;28;01mNone\u001b[39;00m,\n\u001b[32m   1026\u001b[39m ) -> Doc:\n\u001b[32m   1027\u001b[39m \u001b[38;5;250m    \u001b[39m\u001b[33;03m\"\"\"Apply the pipeline to some text. The text can span multiple sentences,\u001b[39;00m\n\u001b[32m   1028\u001b[39m \u001b[33;03m    and can contain arbitrary whitespace. Alignment into the original string\u001b[39;00m\n\u001b[32m   1029\u001b[39m \u001b[33;03m    is preserved.\u001b[39;00m\n\u001b[32m   (...)\u001b[39m\u001b[32m   1039\u001b[39m \u001b[33;03m    DOCS: https://spacy.io/api/language#call\u001b[39;00m\n\u001b[32m   1040\u001b[39m \u001b[33;03m    \"\"\"\u001b[39;00m\n\u001b[32m-> \u001b[39m\u001b[32m1041\u001b[39m     doc = \u001b[38;5;28;43mself\u001b[39;49m\u001b[43m.\u001b[49m\u001b[43m_ensure_doc\u001b[49m\u001b[43m(\u001b[49m\u001b[43mtext\u001b[49m\u001b[43m)\u001b[49m\n\u001b[32m   1042\u001b[39m     \u001b[38;5;28;01mif\u001b[39;00m component_cfg \u001b[38;5;129;01mis\u001b[39;00m \u001b[38;5;28;01mNone\u001b[39;00m:\n\u001b[32m   1043\u001b[39m         component_cfg = {}\n",
      "\u001b[36mFile \u001b[39m\u001b[32m~/Documents/NCI/Tesis/nci_tesis/lib/python3.13/site-packages/spacy/language.py:1132\u001b[39m, in \u001b[36mLanguage._ensure_doc\u001b[39m\u001b[34m(self, doc_like)\u001b[39m\n\u001b[32m   1130\u001b[39m     \u001b[38;5;28;01mreturn\u001b[39;00m doc_like\n\u001b[32m   1131\u001b[39m \u001b[38;5;28;01mif\u001b[39;00m \u001b[38;5;28misinstance\u001b[39m(doc_like, \u001b[38;5;28mstr\u001b[39m):\n\u001b[32m-> \u001b[39m\u001b[32m1132\u001b[39m     \u001b[38;5;28;01mreturn\u001b[39;00m \u001b[38;5;28;43mself\u001b[39;49m\u001b[43m.\u001b[49m\u001b[43mmake_doc\u001b[49m\u001b[43m(\u001b[49m\u001b[43mdoc_like\u001b[49m\u001b[43m)\u001b[49m\n\u001b[32m   1133\u001b[39m \u001b[38;5;28;01mif\u001b[39;00m \u001b[38;5;28misinstance\u001b[39m(doc_like, \u001b[38;5;28mbytes\u001b[39m):\n\u001b[32m   1134\u001b[39m     \u001b[38;5;28;01mreturn\u001b[39;00m Doc(\u001b[38;5;28mself\u001b[39m.vocab).from_bytes(doc_like)\n",
      "\u001b[36mFile \u001b[39m\u001b[32m~/Documents/NCI/Tesis/nci_tesis/lib/python3.13/site-packages/spacy/language.py:1121\u001b[39m, in \u001b[36mLanguage.make_doc\u001b[39m\u001b[34m(self, text)\u001b[39m\n\u001b[32m   1115\u001b[39m \u001b[38;5;250m\u001b[39m\u001b[33;03m\"\"\"Turn a text into a Doc object.\u001b[39;00m\n\u001b[32m   1116\u001b[39m \n\u001b[32m   1117\u001b[39m \u001b[33;03mtext (str): The text to process.\u001b[39;00m\n\u001b[32m   1118\u001b[39m \u001b[33;03mRETURNS (Doc): The processed doc.\u001b[39;00m\n\u001b[32m   1119\u001b[39m \u001b[33;03m\"\"\"\u001b[39;00m\n\u001b[32m   1120\u001b[39m \u001b[38;5;28;01mif\u001b[39;00m \u001b[38;5;28mlen\u001b[39m(text) > \u001b[38;5;28mself\u001b[39m.max_length:\n\u001b[32m-> \u001b[39m\u001b[32m1121\u001b[39m     \u001b[38;5;28;01mraise\u001b[39;00m \u001b[38;5;167;01mValueError\u001b[39;00m(\n\u001b[32m   1122\u001b[39m         Errors.E088.format(length=\u001b[38;5;28mlen\u001b[39m(text), max_length=\u001b[38;5;28mself\u001b[39m.max_length)\n\u001b[32m   1123\u001b[39m     )\n\u001b[32m   1124\u001b[39m \u001b[38;5;28;01mreturn\u001b[39;00m \u001b[38;5;28mself\u001b[39m.tokenizer(text)\n",
      "\u001b[31mValueError\u001b[39m: [E088] Text of length 1008193 exceeds maximum of 1000000. The parser and NER models require roughly 1GB of temporary memory per 100,000 characters in the input. This means long texts may cause memory allocation errors. If you're not using the parser or NER, it's probably safe to increase the `nlp.max_length` limit. The limit is in number of characters, so you can check whether your inputs are too long by checking `len(text)`."
     ]
    }
   ],
   "source": [
    "for i, chunk in enumerate(chunks2):\n",
    "    chunk['nlp_clean_text'] = chunk['nlp_clean_text'].apply(token_lemma_nonstops)\n",
    "    if i % 10 == 0:\n",
    "        print(f\"Chunk {i} DONEEE!!!\")\n",
    "\n",
    "df_chunk2 = pd.concat(chunks2, ignore_index=True)"
   ]
  },
  {
   "cell_type": "code",
   "execution_count": null,
   "id": "480b6135-7bfc-4f36-a5b1-6983de45f97c",
   "metadata": {},
   "outputs": [],
   "source": [
    "for i, chunk in enumerate(chunks3):\n",
    "    chunk['nlp_clean_text'] = chunk['nlp_clean_text'].apply(token_lemma_nonstops)\n",
    "    if i % 10 == 0:\n",
    "        print(f\"Chunk {i} DONEEE!!!\")\n",
    "\n",
    "df_chunk3 = pd.concat(chunks3, ignore_index=True)"
   ]
  },
  {
   "cell_type": "code",
   "execution_count": null,
   "id": "14a40503-1100-43b4-885e-6146ccebfdb2",
   "metadata": {},
   "outputs": [],
   "source": [
    "for i, chunk in enumerate(chunks4):\n",
    "    chunk['nlp_clean_text'] = chunk['nlp_clean_text'].apply(token_lemma_nonstops)\n",
    "    if i % 10 == 0:\n",
    "        print(f\"Chunk {i} DONEEE!!!\")\n",
    "\n",
    "df_chunk4 = pd.concat(chunks4, ignore_index=True)"
   ]
  },
  {
   "cell_type": "code",
   "execution_count": null,
   "id": "4c8a1535-8dfa-4371-ac80-3495169d2033",
   "metadata": {},
   "outputs": [],
   "source": [
    "for i, chunk in enumerate(chunks5):\n",
    "    chunk['nlp_clean_text'] = chunk['nlp_clean_text'].apply(token_lemma_nonstops)\n",
    "    if i % 10 == 0:\n",
    "        print(f\"Chunk {i} DONEEE!!!\")\n",
    "\n",
    "df_chunk5 = pd.concat(chunks5, ignore_index=True)"
   ]
  },
  {
   "cell_type": "code",
   "execution_count": null,
   "id": "3f1139bf-b7db-49d8-b519-764fddfe4cb1",
   "metadata": {},
   "outputs": [],
   "source": [
    "for i, chunk in enumerate(chunks6):\n",
    "    chunk['nlp_clean_text'] = chunk['nlp_clean_text'].apply(token_lemma_nonstops)\n",
    "    if i % 10 == 0:\n",
    "        print(f\"Chunk {i} DONEEE!!!\")\n",
    "\n",
    "df_chunk6 = pd.concat(chunks6, ignore_index=True)"
   ]
  },
  {
   "cell_type": "code",
   "execution_count": null,
   "id": "703f05cb-c9e9-436c-b6bd-7e7803aaca5e",
   "metadata": {},
   "outputs": [],
   "source": [
    "for i, chunk in enumerate(chunks7):\n",
    "    chunk['nlp_clean_text'] = chunk['nlp_clean_text'].apply(token_lemma_nonstops)\n",
    "    if i % 10 == 0:\n",
    "        print(f\"Chunk {i} DONEEE!!!\")\n",
    "\n",
    "df_chunk7 = pd.concat(chunks7, ignore_index=True)"
   ]
  },
  {
   "cell_type": "code",
   "execution_count": null,
   "id": "59458431-a06f-4d41-aee6-e6138e066d23",
   "metadata": {},
   "outputs": [],
   "source": [
    "for i, chunk in enumerate(chunks8):\n",
    "    chunk['nlp_clean_text'] = chunk['nlp_clean_text'].apply(token_lemma_nonstops)\n",
    "    if i % 10 == 0:\n",
    "        print(f\"Chunk {i} DONEEE!!!\")\n",
    "\n",
    "df_chunk8 = pd.concat(chunks8, ignore_index=True)"
   ]
  },
  {
   "cell_type": "code",
   "execution_count": null,
   "id": "3e27d544-1e71-4d4f-b01f-c843e1b01ffc",
   "metadata": {},
   "outputs": [],
   "source": [
    "for i, chunk in enumerate(chunks9):\n",
    "    chunk['nlp_clean_text'] = chunk['nlp_clean_text'].apply(token_lemma_nonstops)\n",
    "    if i % 10 == 0:\n",
    "        print(f\"Chunk {i} DONEEE!!!\")\n",
    "\n",
    "df_chunk9 = pd.concat(chunks9, ignore_index=True)"
   ]
  },
  {
   "cell_type": "code",
   "execution_count": null,
   "id": "5cf06bbb-8c0f-47dd-901a-6bd4e247353b",
   "metadata": {},
   "outputs": [],
   "source": [
    "for i, chunk in enumerate(chunks10):\n",
    "    chunk['nlp_clean_text'] = chunk['nlp_clean_text'].apply(token_lemma_nonstops)\n",
    "    if i % 10 == 0:\n",
    "        print(f\"Chunk {i} DONEEE!!!\")\n",
    "\n",
    "df_chunk10 = pd.concat(chunks10, ignore_index=True)"
   ]
  },
  {
   "cell_type": "code",
   "execution_count": null,
   "id": "6076afc1-927a-4de0-9af1-3fdbbe6bedc2",
   "metadata": {},
   "outputs": [],
   "source": [
    "nyt_news_clean = pd.concat([df_chunk1,df_chunk2,df_chunk3,df_chunk4,df_chunk5,df_chunk6,df_chunk7,df_chunk8,df_chunk9,df_chunk10])"
   ]
  },
  {
   "cell_type": "code",
   "execution_count": null,
   "id": "6312fd54-7081-4054-8d1e-8842f10d5b2d",
   "metadata": {},
   "outputs": [],
   "source": [
    "nyt_news_clean.to_csv('../Data/Preprocessed/clean-nyt-news.csv')"
   ]
  },
  {
   "cell_type": "code",
   "execution_count": null,
   "id": "f5a01ba4-a66a-4bb1-95e9-88d210c2fc6c",
   "metadata": {},
   "outputs": [],
   "source": []
  },
  {
   "cell_type": "code",
   "execution_count": null,
   "id": "393a0f7d-88d3-4804-b7ea-708a5ff255b1",
   "metadata": {},
   "outputs": [],
   "source": []
  },
  {
   "cell_type": "code",
   "execution_count": null,
   "id": "0aac61cb-07e2-4c32-b38a-4fcebcbc0572",
   "metadata": {},
   "outputs": [],
   "source": []
  }
 ],
 "metadata": {
  "kernelspec": {
   "display_name": "nci_tesis",
   "language": "python",
   "name": "nci_tesis"
  },
  "language_info": {
   "codemirror_mode": {
    "name": "ipython",
    "version": 3
   },
   "file_extension": ".py",
   "mimetype": "text/x-python",
   "name": "python",
   "nbconvert_exporter": "python",
   "pygments_lexer": "ipython3",
   "version": "3.13.5"
  }
 },
 "nbformat": 4,
 "nbformat_minor": 5
}
