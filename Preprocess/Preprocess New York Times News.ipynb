{
 "cells": [
  {
   "cell_type": "markdown",
   "id": "8d72ceba-7624-42b4-907d-a01aa46eccde",
   "metadata": {},
   "source": [
    "# Preprocess of New York Times News DataSet"
   ]
  },
  {
   "cell_type": "code",
   "execution_count": 2,
   "id": "26206892-4de4-49b8-ac2e-b5b38cfdc70d",
   "metadata": {},
   "outputs": [],
   "source": [
    "import yfinance as yf\n",
    "import pandas as pd\n",
    "import numpy as np\n",
    "from datetime import datetime, timedelta\n",
    "import ast"
   ]
  },
  {
   "cell_type": "code",
   "execution_count": 3,
   "id": "3229182e-f0b4-4222-be6e-64d6b6d3e69e",
   "metadata": {},
   "outputs": [],
   "source": [
    "# expand the column width to see the full sentences\n",
    "pd.set_option('display.max_colwidth', None)"
   ]
  },
  {
   "cell_type": "code",
   "execution_count": 4,
   "id": "b50746a2-6d52-446b-9c66-b88e4fd3c28d",
   "metadata": {
    "scrolled": true
   },
   "outputs": [
    {
     "name": "stderr",
     "output_type": "stream",
     "text": [
      "/var/folders/gt/_n6gk0zn66v7tnqb9xpcyk_c0000gn/T/ipykernel_22629/511978975.py:1: DtypeWarning: Columns (5) have mixed types. Specify dtype option on import or set low_memory=False.\n",
      "  nyt_df = pd.read_csv('../Data/Original/nyt-metadata.csv')\n"
     ]
    },
    {
     "data": {
      "text/html": [
       "<div>\n",
       "<style scoped>\n",
       "    .dataframe tbody tr th:only-of-type {\n",
       "        vertical-align: middle;\n",
       "    }\n",
       "\n",
       "    .dataframe tbody tr th {\n",
       "        vertical-align: top;\n",
       "    }\n",
       "\n",
       "    .dataframe thead th {\n",
       "        text-align: right;\n",
       "    }\n",
       "</style>\n",
       "<table border=\"1\" class=\"dataframe\">\n",
       "  <thead>\n",
       "    <tr style=\"text-align: right;\">\n",
       "      <th></th>\n",
       "      <th>abstract</th>\n",
       "      <th>web_url</th>\n",
       "      <th>snippet</th>\n",
       "      <th>lead_paragraph</th>\n",
       "      <th>print_section</th>\n",
       "      <th>print_page</th>\n",
       "      <th>source</th>\n",
       "      <th>multimedia</th>\n",
       "      <th>headline</th>\n",
       "      <th>keywords</th>\n",
       "      <th>pub_date</th>\n",
       "      <th>document_type</th>\n",
       "      <th>news_desk</th>\n",
       "      <th>section_name</th>\n",
       "      <th>byline</th>\n",
       "      <th>type_of_material</th>\n",
       "      <th>_id</th>\n",
       "      <th>word_count</th>\n",
       "      <th>uri</th>\n",
       "      <th>subsection_name</th>\n",
       "    </tr>\n",
       "  </thead>\n",
       "  <tbody>\n",
       "    <tr>\n",
       "      <th>0</th>\n",
       "      <td>Article on upcoming New York Giants-Dallas Cowboys game; photo (M)</td>\n",
       "      <td>https://www.nytimes.com/2000/01/01/sports/pro-football-playoffs-or-no-dallas-provides-the-motivation.html</td>\n",
       "      <td>Article on upcoming New York Giants-Dallas Cowboys game; photo (M)</td>\n",
       "      <td>Waiting in the visiting locker room at Texas Stadium late tomorrow afternoon, the Giants will know whether the Green Bay Packers, who play earlier against Arizona, have won or are comfortably ahead.</td>\n",
       "      <td>D</td>\n",
       "      <td>2.0</td>\n",
       "      <td>The New York Times</td>\n",
       "      <td>[]</td>\n",
       "      <td>{'main': 'Playoffs or No, Dallas Provides The Motivation', 'kicker': 'PRO FOOTBALL', 'content_kicker': None, 'print_headline': 'PRO FOOTBALL; Playoffs or No, Dallas Provides The Motivation', 'name': None, 'seo': None, 'sub': None}</td>\n",
       "      <td>[{'name': 'organizations', 'value': 'New York Giants', 'rank': 1, 'major': 'N'}, {'name': 'organizations', 'value': 'Dallas Cowboys', 'rank': 2, 'major': 'N'}, {'name': 'subject', 'value': 'Football', 'rank': 3, 'major': 'N'}]</td>\n",
       "      <td>2000-01-01 05:00:00+00:00</td>\n",
       "      <td>article</td>\n",
       "      <td>Sports Desk</td>\n",
       "      <td>Sports</td>\n",
       "      <td>{'original': 'By Bill Pennington', 'person': [{'firstname': 'Bill', 'middlename': None, 'lastname': 'Pennington', 'qualifier': None, 'title': None, 'role': 'reported', 'organization': '', 'rank': 1}], 'organization': None}</td>\n",
       "      <td>News</td>\n",
       "      <td>nyt://article/01111a48-3502-5021-8096-bc9293797d54</td>\n",
       "      <td>819.0</td>\n",
       "      <td>nyt://article/01111a48-3502-5021-8096-bc9293797d54</td>\n",
       "      <td>NaN</td>\n",
       "    </tr>\n",
       "    <tr>\n",
       "      <th>1</th>\n",
       "      <td>Jeanne C Pond letter expresses hope that spiritual development, artistic knowledge and skills and self-esteem flourish in new century; drawing</td>\n",
       "      <td>https://www.nytimes.com/2000/01/01/opinion/l-on-this-first-day-a-fanfare-for-the-new-era-knowing-the-world-165590.html</td>\n",
       "      <td>Jeanne C Pond letter expresses hope that spiritual development, artistic knowledge and skills and self-esteem flourish in new century; drawing</td>\n",
       "      <td>To the Editor:</td>\n",
       "      <td>A</td>\n",
       "      <td>30.0</td>\n",
       "      <td>The New York Times</td>\n",
       "      <td>[]</td>\n",
       "      <td>{'main': 'On This First Day, a Fanfare for the New Era; Knowing the World', 'kicker': None, 'content_kicker': None, 'print_headline': 'On This First Day, a Fanfare for the New Era; Knowing the World', 'name': None, 'seo': None, 'sub': None}</td>\n",
       "      <td>[{'name': 'persons', 'value': 'Pond, Jeanne C', 'rank': 1, 'major': 'N'}, {'name': 'subject', 'value': 'TWO THOUSAND (YEAR)', 'rank': 2, 'major': 'N'}]</td>\n",
       "      <td>2000-01-01 05:00:00+00:00</td>\n",
       "      <td>article</td>\n",
       "      <td>Editorial Desk</td>\n",
       "      <td>Opinion</td>\n",
       "      <td>{'original': '', 'person': [], 'organization': None}</td>\n",
       "      <td>Letter</td>\n",
       "      <td>nyt://article/02328edc-dad1-5eb0-900e-917162e46dcd</td>\n",
       "      <td>122.0</td>\n",
       "      <td>nyt://article/02328edc-dad1-5eb0-900e-917162e46dcd</td>\n",
       "      <td>NaN</td>\n",
       "    </tr>\n",
       "    <tr>\n",
       "      <th>2</th>\n",
       "      <td>Many experts on Y2K computer problem report that Internet performed impressively through rollover from 1999 to 2000 even if it did sag at times in isolated sites as users turned to e-mail messages, Web sites, newsgroups and electronic chat rooms to track arrival of Year 2000 in more and more time zones (M)</td>\n",
       "      <td>https://www.nytimes.com/2000/01/01/us/1-1-00-technology-2000-momentous-relief-internet-s-cheering-squad-nervously.html</td>\n",
       "      <td>Many experts on Y2K computer problem report that Internet performed impressively through rollover from 1999 to 2000 even if it did sag at times in isolated sites as users turned to e-mail messages, Web sites, newsgroups and electronic chat rooms t...</td>\n",
       "      <td>As the world slid nervously yesterday through the shadow of its first global technology challenge, many year 2000 experts took special comfort in the relatively stable behavior of one of their principal tools in dealing with the problem: the not-always-reliable Internet.</td>\n",
       "      <td>A</td>\n",
       "      <td>10.0</td>\n",
       "      <td>The New York Times</td>\n",
       "      <td>[]</td>\n",
       "      <td>{'main': \"Internet's Cheering Squad Nervously Watches Clock\", 'kicker': '1/1/00: TECHNOLOGY AND 2000 -- MOMENTOUS RELIEF', 'content_kicker': None, 'print_headline': \"1/1/00: TECHNOLOGY AND 2000 -- MOMENTOUS RELIEF; Internet's Cheering Squad Nervously Watches Clock\", 'name': None, 'seo': None, 'sub': None}</td>\n",
       "      <td>[{'name': 'subject', 'value': 'Electronic Mail', 'rank': 1, 'major': 'N'}, {'name': 'subject', 'value': 'COMPUTER SOFTWARE', 'rank': 2, 'major': 'N'}, {'name': 'subject', 'value': 'TWO THOUSAND (YEAR)', 'rank': 3, 'major': 'N'}, {'name': 'subject', 'value': 'Computers and the Internet', 'rank': 4, 'major': 'N'}]</td>\n",
       "      <td>2000-01-01 05:00:00+00:00</td>\n",
       "      <td>article</td>\n",
       "      <td>National Desk</td>\n",
       "      <td>U.S.</td>\n",
       "      <td>{'original': 'By Barnaby J. Feder', 'person': [{'firstname': 'Barnaby', 'middlename': 'J.', 'lastname': 'Feder', 'qualifier': None, 'title': None, 'role': 'reported', 'organization': '', 'rank': 1}], 'organization': None}</td>\n",
       "      <td>News</td>\n",
       "      <td>nyt://article/02a8f89b-153f-5b84-983c-e328de5bf811</td>\n",
       "      <td>761.0</td>\n",
       "      <td>nyt://article/02a8f89b-153f-5b84-983c-e328de5bf811</td>\n",
       "      <td>NaN</td>\n",
       "    </tr>\n",
       "    <tr>\n",
       "      <th>3</th>\n",
       "      <td>WILL the forces of globalism continue to push the world toward American-style capitalism?    As the 21st century begins, advocates of the free market have no doubt that they have won the economic argument. Socialism is dead. Moreover, as a means of creating wealth and material progress, American capitalism seems to be clearly superior to the Asian variety, with its greater level of government planning, or the European version, with its emphasis on social welfare and protection of workers from losing their jobs.</td>\n",
       "      <td>https://www.nytimes.com/2000/01/01/news/visions-power-economic-thinking-finds-a-free-market.html</td>\n",
       "      <td>NaN</td>\n",
       "      <td>WILL the forces of globalism continue to push the world toward American-style capitalism?</td>\n",
       "      <td>E</td>\n",
       "      <td>4.0</td>\n",
       "      <td>The New York Times</td>\n",
       "      <td>[]</td>\n",
       "      <td>{'main': 'Economic Thinking Finds a Free Market', 'kicker': 'VISIONS: POWER', 'content_kicker': None, 'print_headline': 'VISIONS: POWER; Economic Thinking Finds a Free Market', 'name': None, 'seo': None, 'sub': None}</td>\n",
       "      <td>[]</td>\n",
       "      <td>2000-01-01 05:00:00+00:00</td>\n",
       "      <td>article</td>\n",
       "      <td>The Millennium</td>\n",
       "      <td>Archives</td>\n",
       "      <td>{'original': 'By Floyd Norris', 'person': [{'firstname': 'Floyd', 'middlename': None, 'lastname': 'Norris', 'qualifier': None, 'title': None, 'role': 'reported', 'organization': '', 'rank': 1}], 'organization': None}</td>\n",
       "      <td>News</td>\n",
       "      <td>nyt://article/0634d837-97b8-59b5-aa17-f90d1a8996b1</td>\n",
       "      <td>916.0</td>\n",
       "      <td>nyt://article/0634d837-97b8-59b5-aa17-f90d1a8996b1</td>\n",
       "      <td>NaN</td>\n",
       "    </tr>\n",
       "    <tr>\n",
       "      <th>4</th>\n",
       "      <td>SPECIAL TODAY  The Millennium  Envisioning the future of politics, people, cities and machines -- even the front page of The Times -- and reflecting on the past.  SECTION E</td>\n",
       "      <td>https://www.nytimes.com/2000/01/01/nyregion/inside-164895.html</td>\n",
       "      <td>NaN</td>\n",
       "      <td>SPECIAL TODAY</td>\n",
       "      <td>A</td>\n",
       "      <td>1.0</td>\n",
       "      <td>The New York Times</td>\n",
       "      <td>[]</td>\n",
       "      <td>{'main': 'INSIDE', 'kicker': None, 'content_kicker': None, 'print_headline': 'INSIDE', 'name': None, 'seo': None, 'sub': None}</td>\n",
       "      <td>[]</td>\n",
       "      <td>2000-01-01 05:00:00+00:00</td>\n",
       "      <td>article</td>\n",
       "      <td>Metropolitan Desk</td>\n",
       "      <td>New York</td>\n",
       "      <td>{'original': '', 'person': [], 'organization': None}</td>\n",
       "      <td>Summary</td>\n",
       "      <td>nyt://article/0654cc64-c37f-594d-9290-1ce578cd9c7a</td>\n",
       "      <td>102.0</td>\n",
       "      <td>nyt://article/0654cc64-c37f-594d-9290-1ce578cd9c7a</td>\n",
       "      <td>NaN</td>\n",
       "    </tr>\n",
       "  </tbody>\n",
       "</table>\n",
       "</div>"
      ],
      "text/plain": [
       "                                                                                                                                                                                                                                                                                                                                                                                                                                                                                                                                 abstract  \\\n",
       "0                                                                                                                                                                                                                                                                                                                                                                                                                                                                      Article on upcoming New York Giants-Dallas Cowboys game; photo (M)   \n",
       "1                                                                                                                                                                                                                                                                                                                                                                                          Jeanne C Pond letter expresses hope that spiritual development, artistic knowledge and skills and self-esteem flourish in new century; drawing   \n",
       "2                                                                                                                                                                                                                     Many experts on Y2K computer problem report that Internet performed impressively through rollover from 1999 to 2000 even if it did sag at times in isolated sites as users turned to e-mail messages, Web sites, newsgroups and electronic chat rooms to track arrival of Year 2000 in more and more time zones (M)   \n",
       "3  WILL the forces of globalism continue to push the world toward American-style capitalism?    As the 21st century begins, advocates of the free market have no doubt that they have won the economic argument. Socialism is dead. Moreover, as a means of creating wealth and material progress, American capitalism seems to be clearly superior to the Asian variety, with its greater level of government planning, or the European version, with its emphasis on social welfare and protection of workers from losing their jobs.     \n",
       "4                                                                                                                                                                                                                                                                                                                                                            SPECIAL TODAY  The Millennium  Envisioning the future of politics, people, cities and machines -- even the front page of The Times -- and reflecting on the past.  SECTION E   \n",
       "\n",
       "                                                                                                                  web_url  \\\n",
       "0               https://www.nytimes.com/2000/01/01/sports/pro-football-playoffs-or-no-dallas-provides-the-motivation.html   \n",
       "1  https://www.nytimes.com/2000/01/01/opinion/l-on-this-first-day-a-fanfare-for-the-new-era-knowing-the-world-165590.html   \n",
       "2  https://www.nytimes.com/2000/01/01/us/1-1-00-technology-2000-momentous-relief-internet-s-cheering-squad-nervously.html   \n",
       "3                        https://www.nytimes.com/2000/01/01/news/visions-power-economic-thinking-finds-a-free-market.html   \n",
       "4                                                          https://www.nytimes.com/2000/01/01/nyregion/inside-164895.html   \n",
       "\n",
       "                                                                                                                                                                                                                                                      snippet  \\\n",
       "0                                                                                                                                                                                          Article on upcoming New York Giants-Dallas Cowboys game; photo (M)   \n",
       "1                                                                                                              Jeanne C Pond letter expresses hope that spiritual development, artistic knowledge and skills and self-esteem flourish in new century; drawing   \n",
       "2  Many experts on Y2K computer problem report that Internet performed impressively through rollover from 1999 to 2000 even if it did sag at times in isolated sites as users turned to e-mail messages, Web sites, newsgroups and electronic chat rooms t...   \n",
       "3                                                                                                                                                                                                                                                         NaN   \n",
       "4                                                                                                                                                                                                                                                         NaN   \n",
       "\n",
       "                                                                                                                                                                                                                                                                    lead_paragraph  \\\n",
       "0                                                                           Waiting in the visiting locker room at Texas Stadium late tomorrow afternoon, the Giants will know whether the Green Bay Packers, who play earlier against Arizona, have won or are comfortably ahead.   \n",
       "1                                                                                                                                                                                                                                                                   To the Editor:   \n",
       "2  As the world slid nervously yesterday through the shadow of its first global technology challenge, many year 2000 experts took special comfort in the relatively stable behavior of one of their principal tools in dealing with the problem: the not-always-reliable Internet.   \n",
       "3                                                                                                                                                                                        WILL the forces of globalism continue to push the world toward American-style capitalism?   \n",
       "4                                                                                                                                                                                                                                                                    SPECIAL TODAY   \n",
       "\n",
       "  print_section print_page              source multimedia  \\\n",
       "0             D        2.0  The New York Times         []   \n",
       "1             A       30.0  The New York Times         []   \n",
       "2             A       10.0  The New York Times         []   \n",
       "3             E        4.0  The New York Times         []   \n",
       "4             A        1.0  The New York Times         []   \n",
       "\n",
       "                                                                                                                                                                                                                                                                                                             headline  \\\n",
       "0                                                                              {'main': 'Playoffs or No, Dallas Provides The Motivation', 'kicker': 'PRO FOOTBALL', 'content_kicker': None, 'print_headline': 'PRO FOOTBALL; Playoffs or No, Dallas Provides The Motivation', 'name': None, 'seo': None, 'sub': None}   \n",
       "1                                                                    {'main': 'On This First Day, a Fanfare for the New Era; Knowing the World', 'kicker': None, 'content_kicker': None, 'print_headline': 'On This First Day, a Fanfare for the New Era; Knowing the World', 'name': None, 'seo': None, 'sub': None}   \n",
       "2  {'main': \"Internet's Cheering Squad Nervously Watches Clock\", 'kicker': '1/1/00: TECHNOLOGY AND 2000 -- MOMENTOUS RELIEF', 'content_kicker': None, 'print_headline': \"1/1/00: TECHNOLOGY AND 2000 -- MOMENTOUS RELIEF; Internet's Cheering Squad Nervously Watches Clock\", 'name': None, 'seo': None, 'sub': None}   \n",
       "3                                                                                            {'main': 'Economic Thinking Finds a Free Market', 'kicker': 'VISIONS: POWER', 'content_kicker': None, 'print_headline': 'VISIONS: POWER; Economic Thinking Finds a Free Market', 'name': None, 'seo': None, 'sub': None}   \n",
       "4                                                                                                                                                                                      {'main': 'INSIDE', 'kicker': None, 'content_kicker': None, 'print_headline': 'INSIDE', 'name': None, 'seo': None, 'sub': None}   \n",
       "\n",
       "                                                                                                                                                                                                                                                                                                                    keywords  \\\n",
       "0                                                                                         [{'name': 'organizations', 'value': 'New York Giants', 'rank': 1, 'major': 'N'}, {'name': 'organizations', 'value': 'Dallas Cowboys', 'rank': 2, 'major': 'N'}, {'name': 'subject', 'value': 'Football', 'rank': 3, 'major': 'N'}]   \n",
       "1                                                                                                                                                                    [{'name': 'persons', 'value': 'Pond, Jeanne C', 'rank': 1, 'major': 'N'}, {'name': 'subject', 'value': 'TWO THOUSAND (YEAR)', 'rank': 2, 'major': 'N'}]   \n",
       "2  [{'name': 'subject', 'value': 'Electronic Mail', 'rank': 1, 'major': 'N'}, {'name': 'subject', 'value': 'COMPUTER SOFTWARE', 'rank': 2, 'major': 'N'}, {'name': 'subject', 'value': 'TWO THOUSAND (YEAR)', 'rank': 3, 'major': 'N'}, {'name': 'subject', 'value': 'Computers and the Internet', 'rank': 4, 'major': 'N'}]   \n",
       "3                                                                                                                                                                                                                                                                                                                         []   \n",
       "4                                                                                                                                                                                                                                                                                                                         []   \n",
       "\n",
       "                    pub_date document_type          news_desk section_name  \\\n",
       "0  2000-01-01 05:00:00+00:00       article        Sports Desk       Sports   \n",
       "1  2000-01-01 05:00:00+00:00       article     Editorial Desk      Opinion   \n",
       "2  2000-01-01 05:00:00+00:00       article      National Desk         U.S.   \n",
       "3  2000-01-01 05:00:00+00:00       article     The Millennium     Archives   \n",
       "4  2000-01-01 05:00:00+00:00       article  Metropolitan Desk     New York   \n",
       "\n",
       "                                                                                                                                                                                                                           byline  \\\n",
       "0  {'original': 'By Bill Pennington', 'person': [{'firstname': 'Bill', 'middlename': None, 'lastname': 'Pennington', 'qualifier': None, 'title': None, 'role': 'reported', 'organization': '', 'rank': 1}], 'organization': None}   \n",
       "1                                                                                                                                                                            {'original': '', 'person': [], 'organization': None}   \n",
       "2   {'original': 'By Barnaby J. Feder', 'person': [{'firstname': 'Barnaby', 'middlename': 'J.', 'lastname': 'Feder', 'qualifier': None, 'title': None, 'role': 'reported', 'organization': '', 'rank': 1}], 'organization': None}   \n",
       "3        {'original': 'By Floyd Norris', 'person': [{'firstname': 'Floyd', 'middlename': None, 'lastname': 'Norris', 'qualifier': None, 'title': None, 'role': 'reported', 'organization': '', 'rank': 1}], 'organization': None}   \n",
       "4                                                                                                                                                                            {'original': '', 'person': [], 'organization': None}   \n",
       "\n",
       "  type_of_material                                                 _id  \\\n",
       "0             News  nyt://article/01111a48-3502-5021-8096-bc9293797d54   \n",
       "1           Letter  nyt://article/02328edc-dad1-5eb0-900e-917162e46dcd   \n",
       "2             News  nyt://article/02a8f89b-153f-5b84-983c-e328de5bf811   \n",
       "3             News  nyt://article/0634d837-97b8-59b5-aa17-f90d1a8996b1   \n",
       "4          Summary  nyt://article/0654cc64-c37f-594d-9290-1ce578cd9c7a   \n",
       "\n",
       "   word_count                                                 uri  \\\n",
       "0       819.0  nyt://article/01111a48-3502-5021-8096-bc9293797d54   \n",
       "1       122.0  nyt://article/02328edc-dad1-5eb0-900e-917162e46dcd   \n",
       "2       761.0  nyt://article/02a8f89b-153f-5b84-983c-e328de5bf811   \n",
       "3       916.0  nyt://article/0634d837-97b8-59b5-aa17-f90d1a8996b1   \n",
       "4       102.0  nyt://article/0654cc64-c37f-594d-9290-1ce578cd9c7a   \n",
       "\n",
       "  subsection_name  \n",
       "0             NaN  \n",
       "1             NaN  \n",
       "2             NaN  \n",
       "3             NaN  \n",
       "4             NaN  "
      ]
     },
     "execution_count": 4,
     "metadata": {},
     "output_type": "execute_result"
    }
   ],
   "source": [
    "nyt_df = pd.read_csv('../Data/Original/nyt-metadata.csv')\n",
    "nyt_df.head()"
   ]
  },
  {
   "cell_type": "markdown",
   "id": "4a5b453c-fa54-40f4-993a-408c54b4c307",
   "metadata": {},
   "source": [
    "### Clean Dataset"
   ]
  },
  {
   "cell_type": "markdown",
   "id": "b62691b5-ce8a-43dc-a7bd-3d1e48f12236",
   "metadata": {},
   "source": [
    "Let's choose the \"date\", \"abstract\", \"lead_paragraph\", and \"headline\" columns because these are the columns that contain relevant information for our project."
   ]
  },
  {
   "cell_type": "code",
   "execution_count": 5,
   "id": "c280a2e9-8733-4707-84dc-ef14390bf429",
   "metadata": {},
   "outputs": [
    {
     "data": {
      "text/html": [
       "<div>\n",
       "<style scoped>\n",
       "    .dataframe tbody tr th:only-of-type {\n",
       "        vertical-align: middle;\n",
       "    }\n",
       "\n",
       "    .dataframe tbody tr th {\n",
       "        vertical-align: top;\n",
       "    }\n",
       "\n",
       "    .dataframe thead th {\n",
       "        text-align: right;\n",
       "    }\n",
       "</style>\n",
       "<table border=\"1\" class=\"dataframe\">\n",
       "  <thead>\n",
       "    <tr style=\"text-align: right;\">\n",
       "      <th></th>\n",
       "      <th>date</th>\n",
       "      <th>abstract</th>\n",
       "      <th>lead_paragraph</th>\n",
       "      <th>headline</th>\n",
       "    </tr>\n",
       "  </thead>\n",
       "  <tbody>\n",
       "    <tr>\n",
       "      <th>0</th>\n",
       "      <td>2000-01-01 05:00:00+00:00</td>\n",
       "      <td>Article on upcoming New York Giants-Dallas Cowboys game; photo (M)</td>\n",
       "      <td>Waiting in the visiting locker room at Texas Stadium late tomorrow afternoon, the Giants will know whether the Green Bay Packers, who play earlier against Arizona, have won or are comfortably ahead.</td>\n",
       "      <td>{'main': 'Playoffs or No, Dallas Provides The Motivation', 'kicker': 'PRO FOOTBALL', 'content_kicker': None, 'print_headline': 'PRO FOOTBALL; Playoffs or No, Dallas Provides The Motivation', 'name': None, 'seo': None, 'sub': None}</td>\n",
       "    </tr>\n",
       "    <tr>\n",
       "      <th>1</th>\n",
       "      <td>2000-01-01 05:00:00+00:00</td>\n",
       "      <td>Jeanne C Pond letter expresses hope that spiritual development, artistic knowledge and skills and self-esteem flourish in new century; drawing</td>\n",
       "      <td>To the Editor:</td>\n",
       "      <td>{'main': 'On This First Day, a Fanfare for the New Era; Knowing the World', 'kicker': None, 'content_kicker': None, 'print_headline': 'On This First Day, a Fanfare for the New Era; Knowing the World', 'name': None, 'seo': None, 'sub': None}</td>\n",
       "    </tr>\n",
       "    <tr>\n",
       "      <th>2</th>\n",
       "      <td>2000-01-01 05:00:00+00:00</td>\n",
       "      <td>Many experts on Y2K computer problem report that Internet performed impressively through rollover from 1999 to 2000 even if it did sag at times in isolated sites as users turned to e-mail messages, Web sites, newsgroups and electronic chat rooms to track arrival of Year 2000 in more and more time zones (M)</td>\n",
       "      <td>As the world slid nervously yesterday through the shadow of its first global technology challenge, many year 2000 experts took special comfort in the relatively stable behavior of one of their principal tools in dealing with the problem: the not-always-reliable Internet.</td>\n",
       "      <td>{'main': \"Internet's Cheering Squad Nervously Watches Clock\", 'kicker': '1/1/00: TECHNOLOGY AND 2000 -- MOMENTOUS RELIEF', 'content_kicker': None, 'print_headline': \"1/1/00: TECHNOLOGY AND 2000 -- MOMENTOUS RELIEF; Internet's Cheering Squad Nervously Watches Clock\", 'name': None, 'seo': None, 'sub': None}</td>\n",
       "    </tr>\n",
       "    <tr>\n",
       "      <th>3</th>\n",
       "      <td>2000-01-01 05:00:00+00:00</td>\n",
       "      <td>WILL the forces of globalism continue to push the world toward American-style capitalism?    As the 21st century begins, advocates of the free market have no doubt that they have won the economic argument. Socialism is dead. Moreover, as a means of creating wealth and material progress, American capitalism seems to be clearly superior to the Asian variety, with its greater level of government planning, or the European version, with its emphasis on social welfare and protection of workers from losing their jobs.</td>\n",
       "      <td>WILL the forces of globalism continue to push the world toward American-style capitalism?</td>\n",
       "      <td>{'main': 'Economic Thinking Finds a Free Market', 'kicker': 'VISIONS: POWER', 'content_kicker': None, 'print_headline': 'VISIONS: POWER; Economic Thinking Finds a Free Market', 'name': None, 'seo': None, 'sub': None}</td>\n",
       "    </tr>\n",
       "    <tr>\n",
       "      <th>4</th>\n",
       "      <td>2000-01-01 05:00:00+00:00</td>\n",
       "      <td>SPECIAL TODAY  The Millennium  Envisioning the future of politics, people, cities and machines -- even the front page of The Times -- and reflecting on the past.  SECTION E</td>\n",
       "      <td>SPECIAL TODAY</td>\n",
       "      <td>{'main': 'INSIDE', 'kicker': None, 'content_kicker': None, 'print_headline': 'INSIDE', 'name': None, 'seo': None, 'sub': None}</td>\n",
       "    </tr>\n",
       "  </tbody>\n",
       "</table>\n",
       "</div>"
      ],
      "text/plain": [
       "                        date  \\\n",
       "0  2000-01-01 05:00:00+00:00   \n",
       "1  2000-01-01 05:00:00+00:00   \n",
       "2  2000-01-01 05:00:00+00:00   \n",
       "3  2000-01-01 05:00:00+00:00   \n",
       "4  2000-01-01 05:00:00+00:00   \n",
       "\n",
       "                                                                                                                                                                                                                                                                                                                                                                                                                                                                                                                                 abstract  \\\n",
       "0                                                                                                                                                                                                                                                                                                                                                                                                                                                                      Article on upcoming New York Giants-Dallas Cowboys game; photo (M)   \n",
       "1                                                                                                                                                                                                                                                                                                                                                                                          Jeanne C Pond letter expresses hope that spiritual development, artistic knowledge and skills and self-esteem flourish in new century; drawing   \n",
       "2                                                                                                                                                                                                                     Many experts on Y2K computer problem report that Internet performed impressively through rollover from 1999 to 2000 even if it did sag at times in isolated sites as users turned to e-mail messages, Web sites, newsgroups and electronic chat rooms to track arrival of Year 2000 in more and more time zones (M)   \n",
       "3  WILL the forces of globalism continue to push the world toward American-style capitalism?    As the 21st century begins, advocates of the free market have no doubt that they have won the economic argument. Socialism is dead. Moreover, as a means of creating wealth and material progress, American capitalism seems to be clearly superior to the Asian variety, with its greater level of government planning, or the European version, with its emphasis on social welfare and protection of workers from losing their jobs.     \n",
       "4                                                                                                                                                                                                                                                                                                                                                            SPECIAL TODAY  The Millennium  Envisioning the future of politics, people, cities and machines -- even the front page of The Times -- and reflecting on the past.  SECTION E   \n",
       "\n",
       "                                                                                                                                                                                                                                                                    lead_paragraph  \\\n",
       "0                                                                           Waiting in the visiting locker room at Texas Stadium late tomorrow afternoon, the Giants will know whether the Green Bay Packers, who play earlier against Arizona, have won or are comfortably ahead.   \n",
       "1                                                                                                                                                                                                                                                                   To the Editor:   \n",
       "2  As the world slid nervously yesterday through the shadow of its first global technology challenge, many year 2000 experts took special comfort in the relatively stable behavior of one of their principal tools in dealing with the problem: the not-always-reliable Internet.   \n",
       "3                                                                                                                                                                                        WILL the forces of globalism continue to push the world toward American-style capitalism?   \n",
       "4                                                                                                                                                                                                                                                                    SPECIAL TODAY   \n",
       "\n",
       "                                                                                                                                                                                                                                                                                                             headline  \n",
       "0                                                                              {'main': 'Playoffs or No, Dallas Provides The Motivation', 'kicker': 'PRO FOOTBALL', 'content_kicker': None, 'print_headline': 'PRO FOOTBALL; Playoffs or No, Dallas Provides The Motivation', 'name': None, 'seo': None, 'sub': None}  \n",
       "1                                                                    {'main': 'On This First Day, a Fanfare for the New Era; Knowing the World', 'kicker': None, 'content_kicker': None, 'print_headline': 'On This First Day, a Fanfare for the New Era; Knowing the World', 'name': None, 'seo': None, 'sub': None}  \n",
       "2  {'main': \"Internet's Cheering Squad Nervously Watches Clock\", 'kicker': '1/1/00: TECHNOLOGY AND 2000 -- MOMENTOUS RELIEF', 'content_kicker': None, 'print_headline': \"1/1/00: TECHNOLOGY AND 2000 -- MOMENTOUS RELIEF; Internet's Cheering Squad Nervously Watches Clock\", 'name': None, 'seo': None, 'sub': None}  \n",
       "3                                                                                            {'main': 'Economic Thinking Finds a Free Market', 'kicker': 'VISIONS: POWER', 'content_kicker': None, 'print_headline': 'VISIONS: POWER; Economic Thinking Finds a Free Market', 'name': None, 'seo': None, 'sub': None}  \n",
       "4                                                                                                                                                                                      {'main': 'INSIDE', 'kicker': None, 'content_kicker': None, 'print_headline': 'INSIDE', 'name': None, 'seo': None, 'sub': None}  "
      ]
     },
     "execution_count": 5,
     "metadata": {},
     "output_type": "execute_result"
    }
   ],
   "source": [
    "clean_nyt_df = pd.DataFrame()\n",
    "\n",
    "clean_nyt_df['date'] = nyt_df['pub_date']\n",
    "clean_nyt_df['abstract'] = nyt_df['abstract']\n",
    "clean_nyt_df['lead_paragraph'] = nyt_df['lead_paragraph']\n",
    "clean_nyt_df['headline'] = nyt_df['headline']\n",
    "\n",
    "clean_nyt_df.head()"
   ]
  },
  {
   "cell_type": "code",
   "execution_count": 6,
   "id": "c26e352e-5f53-4866-86af-ef8d8f1cf2d7",
   "metadata": {},
   "outputs": [],
   "source": [
    "#Get just with main sector of column headline\n",
    "import re\n",
    "\n",
    "pattern = r\"'main'\\s*:\\s*'((?:[^'\\\\]|\\\\.)*)'|\" + \\\n",
    "           r\"'main'\\s*:\\s*\\\"((?:[^\\\"\\\\]|\\\\.)*)\\\"\"\n",
    "\n",
    "clean_nyt_df['headline_clean'] = nyt_df['headline'].str.extract(pattern, flags=re.IGNORECASE)[0].fillna(\n",
    "    nyt_df['headline'].str.extract(pattern, flags=re.IGNORECASE)[1]\n",
    ")"
   ]
  },
  {
   "cell_type": "code",
   "execution_count": 7,
   "id": "df3a9ce4-895a-4fc1-81ec-5c991f8defce",
   "metadata": {},
   "outputs": [
    {
     "data": {
      "text/html": [
       "<div>\n",
       "<style scoped>\n",
       "    .dataframe tbody tr th:only-of-type {\n",
       "        vertical-align: middle;\n",
       "    }\n",
       "\n",
       "    .dataframe tbody tr th {\n",
       "        vertical-align: top;\n",
       "    }\n",
       "\n",
       "    .dataframe thead th {\n",
       "        text-align: right;\n",
       "    }\n",
       "</style>\n",
       "<table border=\"1\" class=\"dataframe\">\n",
       "  <thead>\n",
       "    <tr style=\"text-align: right;\">\n",
       "      <th></th>\n",
       "      <th>date</th>\n",
       "      <th>abstract</th>\n",
       "      <th>lead_paragraph</th>\n",
       "      <th>headline</th>\n",
       "      <th>headline_clean</th>\n",
       "    </tr>\n",
       "  </thead>\n",
       "  <tbody>\n",
       "    <tr>\n",
       "      <th>0</th>\n",
       "      <td>2000-01-01 05:00:00+00:00</td>\n",
       "      <td>Article on upcoming New York Giants-Dallas Cowboys game; photo (M)</td>\n",
       "      <td>Waiting in the visiting locker room at Texas Stadium late tomorrow afternoon, the Giants will know whether the Green Bay Packers, who play earlier against Arizona, have won or are comfortably ahead.</td>\n",
       "      <td>{'main': 'Playoffs or No, Dallas Provides The Motivation', 'kicker': 'PRO FOOTBALL', 'content_kicker': None, 'print_headline': 'PRO FOOTBALL; Playoffs or No, Dallas Provides The Motivation', 'name': None, 'seo': None, 'sub': None}</td>\n",
       "      <td>Playoffs or No, Dallas Provides The Motivation</td>\n",
       "    </tr>\n",
       "    <tr>\n",
       "      <th>1</th>\n",
       "      <td>2000-01-01 05:00:00+00:00</td>\n",
       "      <td>Jeanne C Pond letter expresses hope that spiritual development, artistic knowledge and skills and self-esteem flourish in new century; drawing</td>\n",
       "      <td>To the Editor:</td>\n",
       "      <td>{'main': 'On This First Day, a Fanfare for the New Era; Knowing the World', 'kicker': None, 'content_kicker': None, 'print_headline': 'On This First Day, a Fanfare for the New Era; Knowing the World', 'name': None, 'seo': None, 'sub': None}</td>\n",
       "      <td>On This First Day, a Fanfare for the New Era; Knowing the World</td>\n",
       "    </tr>\n",
       "    <tr>\n",
       "      <th>2</th>\n",
       "      <td>2000-01-01 05:00:00+00:00</td>\n",
       "      <td>Many experts on Y2K computer problem report that Internet performed impressively through rollover from 1999 to 2000 even if it did sag at times in isolated sites as users turned to e-mail messages, Web sites, newsgroups and electronic chat rooms to track arrival of Year 2000 in more and more time zones (M)</td>\n",
       "      <td>As the world slid nervously yesterday through the shadow of its first global technology challenge, many year 2000 experts took special comfort in the relatively stable behavior of one of their principal tools in dealing with the problem: the not-always-reliable Internet.</td>\n",
       "      <td>{'main': \"Internet's Cheering Squad Nervously Watches Clock\", 'kicker': '1/1/00: TECHNOLOGY AND 2000 -- MOMENTOUS RELIEF', 'content_kicker': None, 'print_headline': \"1/1/00: TECHNOLOGY AND 2000 -- MOMENTOUS RELIEF; Internet's Cheering Squad Nervously Watches Clock\", 'name': None, 'seo': None, 'sub': None}</td>\n",
       "      <td>Internet's Cheering Squad Nervously Watches Clock</td>\n",
       "    </tr>\n",
       "  </tbody>\n",
       "</table>\n",
       "</div>"
      ],
      "text/plain": [
       "                        date  \\\n",
       "0  2000-01-01 05:00:00+00:00   \n",
       "1  2000-01-01 05:00:00+00:00   \n",
       "2  2000-01-01 05:00:00+00:00   \n",
       "\n",
       "                                                                                                                                                                                                                                                                                                              abstract  \\\n",
       "0                                                                                                                                                                                                                                                   Article on upcoming New York Giants-Dallas Cowboys game; photo (M)   \n",
       "1                                                                                                                                                                       Jeanne C Pond letter expresses hope that spiritual development, artistic knowledge and skills and self-esteem flourish in new century; drawing   \n",
       "2  Many experts on Y2K computer problem report that Internet performed impressively through rollover from 1999 to 2000 even if it did sag at times in isolated sites as users turned to e-mail messages, Web sites, newsgroups and electronic chat rooms to track arrival of Year 2000 in more and more time zones (M)   \n",
       "\n",
       "                                                                                                                                                                                                                                                                    lead_paragraph  \\\n",
       "0                                                                           Waiting in the visiting locker room at Texas Stadium late tomorrow afternoon, the Giants will know whether the Green Bay Packers, who play earlier against Arizona, have won or are comfortably ahead.   \n",
       "1                                                                                                                                                                                                                                                                   To the Editor:   \n",
       "2  As the world slid nervously yesterday through the shadow of its first global technology challenge, many year 2000 experts took special comfort in the relatively stable behavior of one of their principal tools in dealing with the problem: the not-always-reliable Internet.   \n",
       "\n",
       "                                                                                                                                                                                                                                                                                                             headline  \\\n",
       "0                                                                              {'main': 'Playoffs or No, Dallas Provides The Motivation', 'kicker': 'PRO FOOTBALL', 'content_kicker': None, 'print_headline': 'PRO FOOTBALL; Playoffs or No, Dallas Provides The Motivation', 'name': None, 'seo': None, 'sub': None}   \n",
       "1                                                                    {'main': 'On This First Day, a Fanfare for the New Era; Knowing the World', 'kicker': None, 'content_kicker': None, 'print_headline': 'On This First Day, a Fanfare for the New Era; Knowing the World', 'name': None, 'seo': None, 'sub': None}   \n",
       "2  {'main': \"Internet's Cheering Squad Nervously Watches Clock\", 'kicker': '1/1/00: TECHNOLOGY AND 2000 -- MOMENTOUS RELIEF', 'content_kicker': None, 'print_headline': \"1/1/00: TECHNOLOGY AND 2000 -- MOMENTOUS RELIEF; Internet's Cheering Squad Nervously Watches Clock\", 'name': None, 'seo': None, 'sub': None}   \n",
       "\n",
       "                                                    headline_clean  \n",
       "0                   Playoffs or No, Dallas Provides The Motivation  \n",
       "1  On This First Day, a Fanfare for the New Era; Knowing the World  \n",
       "2                Internet's Cheering Squad Nervously Watches Clock  "
      ]
     },
     "execution_count": 7,
     "metadata": {},
     "output_type": "execute_result"
    }
   ],
   "source": [
    "clean_nyt_df.head(3)"
   ]
  },
  {
   "cell_type": "code",
   "execution_count": 8,
   "id": "6de72cc0-c34d-4348-8859-5859665f6e9d",
   "metadata": {},
   "outputs": [
    {
     "data": {
      "text/html": [
       "<div>\n",
       "<style scoped>\n",
       "    .dataframe tbody tr th:only-of-type {\n",
       "        vertical-align: middle;\n",
       "    }\n",
       "\n",
       "    .dataframe tbody tr th {\n",
       "        vertical-align: top;\n",
       "    }\n",
       "\n",
       "    .dataframe thead th {\n",
       "        text-align: right;\n",
       "    }\n",
       "</style>\n",
       "<table border=\"1\" class=\"dataframe\">\n",
       "  <thead>\n",
       "    <tr style=\"text-align: right;\">\n",
       "      <th></th>\n",
       "      <th>date</th>\n",
       "      <th>abstract</th>\n",
       "      <th>lead_paragraph</th>\n",
       "      <th>headline</th>\n",
       "      <th>headline_clean</th>\n",
       "      <th>all_text</th>\n",
       "    </tr>\n",
       "  </thead>\n",
       "  <tbody>\n",
       "    <tr>\n",
       "      <th>0</th>\n",
       "      <td>2000-01-01 05:00:00+00:00</td>\n",
       "      <td>Article on upcoming New York Giants-Dallas Cowboys game; photo (M)</td>\n",
       "      <td>Waiting in the visiting locker room at Texas Stadium late tomorrow afternoon, the Giants will know whether the Green Bay Packers, who play earlier against Arizona, have won or are comfortably ahead.</td>\n",
       "      <td>{'main': 'Playoffs or No, Dallas Provides The Motivation', 'kicker': 'PRO FOOTBALL', 'content_kicker': None, 'print_headline': 'PRO FOOTBALL; Playoffs or No, Dallas Provides The Motivation', 'name': None, 'seo': None, 'sub': None}</td>\n",
       "      <td>Playoffs or No, Dallas Provides The Motivation</td>\n",
       "      <td>Playoffs or No, Dallas Provides The Motivation Waiting in the visiting locker room at Texas Stadium late tomorrow afternoon, the Giants will know whether the Green Bay Packers, who play earlier against Arizona, have won or are comfortably ahead. Article on upcoming New York Giants-Dallas Cowboys game; photo (M)</td>\n",
       "    </tr>\n",
       "    <tr>\n",
       "      <th>1</th>\n",
       "      <td>2000-01-01 05:00:00+00:00</td>\n",
       "      <td>Jeanne C Pond letter expresses hope that spiritual development, artistic knowledge and skills and self-esteem flourish in new century; drawing</td>\n",
       "      <td>To the Editor:</td>\n",
       "      <td>{'main': 'On This First Day, a Fanfare for the New Era; Knowing the World', 'kicker': None, 'content_kicker': None, 'print_headline': 'On This First Day, a Fanfare for the New Era; Knowing the World', 'name': None, 'seo': None, 'sub': None}</td>\n",
       "      <td>On This First Day, a Fanfare for the New Era; Knowing the World</td>\n",
       "      <td>On This First Day, a Fanfare for the New Era; Knowing the World To the Editor: Jeanne C Pond letter expresses hope that spiritual development, artistic knowledge and skills and self-esteem flourish in new century; drawing</td>\n",
       "    </tr>\n",
       "    <tr>\n",
       "      <th>2</th>\n",
       "      <td>2000-01-01 05:00:00+00:00</td>\n",
       "      <td>Many experts on Y2K computer problem report that Internet performed impressively through rollover from 1999 to 2000 even if it did sag at times in isolated sites as users turned to e-mail messages, Web sites, newsgroups and electronic chat rooms to track arrival of Year 2000 in more and more time zones (M)</td>\n",
       "      <td>As the world slid nervously yesterday through the shadow of its first global technology challenge, many year 2000 experts took special comfort in the relatively stable behavior of one of their principal tools in dealing with the problem: the not-always-reliable Internet.</td>\n",
       "      <td>{'main': \"Internet's Cheering Squad Nervously Watches Clock\", 'kicker': '1/1/00: TECHNOLOGY AND 2000 -- MOMENTOUS RELIEF', 'content_kicker': None, 'print_headline': \"1/1/00: TECHNOLOGY AND 2000 -- MOMENTOUS RELIEF; Internet's Cheering Squad Nervously Watches Clock\", 'name': None, 'seo': None, 'sub': None}</td>\n",
       "      <td>Internet's Cheering Squad Nervously Watches Clock</td>\n",
       "      <td>Internet's Cheering Squad Nervously Watches Clock As the world slid nervously yesterday through the shadow of its first global technology challenge, many year 2000 experts took special comfort in the relatively stable behavior of one of their principal tools in dealing with the problem: the not-always-reliable Internet. Many experts on Y2K computer problem report that Internet performed impressively through rollover from 1999 to 2000 even if it did sag at times in isolated sites as users turned to e-mail messages, Web sites, newsgroups and electronic chat rooms to track arrival of Year 2000 in more and more time zones (M)</td>\n",
       "    </tr>\n",
       "  </tbody>\n",
       "</table>\n",
       "</div>"
      ],
      "text/plain": [
       "                        date  \\\n",
       "0  2000-01-01 05:00:00+00:00   \n",
       "1  2000-01-01 05:00:00+00:00   \n",
       "2  2000-01-01 05:00:00+00:00   \n",
       "\n",
       "                                                                                                                                                                                                                                                                                                              abstract  \\\n",
       "0                                                                                                                                                                                                                                                   Article on upcoming New York Giants-Dallas Cowboys game; photo (M)   \n",
       "1                                                                                                                                                                       Jeanne C Pond letter expresses hope that spiritual development, artistic knowledge and skills and self-esteem flourish in new century; drawing   \n",
       "2  Many experts on Y2K computer problem report that Internet performed impressively through rollover from 1999 to 2000 even if it did sag at times in isolated sites as users turned to e-mail messages, Web sites, newsgroups and electronic chat rooms to track arrival of Year 2000 in more and more time zones (M)   \n",
       "\n",
       "                                                                                                                                                                                                                                                                    lead_paragraph  \\\n",
       "0                                                                           Waiting in the visiting locker room at Texas Stadium late tomorrow afternoon, the Giants will know whether the Green Bay Packers, who play earlier against Arizona, have won or are comfortably ahead.   \n",
       "1                                                                                                                                                                                                                                                                   To the Editor:   \n",
       "2  As the world slid nervously yesterday through the shadow of its first global technology challenge, many year 2000 experts took special comfort in the relatively stable behavior of one of their principal tools in dealing with the problem: the not-always-reliable Internet.   \n",
       "\n",
       "                                                                                                                                                                                                                                                                                                             headline  \\\n",
       "0                                                                              {'main': 'Playoffs or No, Dallas Provides The Motivation', 'kicker': 'PRO FOOTBALL', 'content_kicker': None, 'print_headline': 'PRO FOOTBALL; Playoffs or No, Dallas Provides The Motivation', 'name': None, 'seo': None, 'sub': None}   \n",
       "1                                                                    {'main': 'On This First Day, a Fanfare for the New Era; Knowing the World', 'kicker': None, 'content_kicker': None, 'print_headline': 'On This First Day, a Fanfare for the New Era; Knowing the World', 'name': None, 'seo': None, 'sub': None}   \n",
       "2  {'main': \"Internet's Cheering Squad Nervously Watches Clock\", 'kicker': '1/1/00: TECHNOLOGY AND 2000 -- MOMENTOUS RELIEF', 'content_kicker': None, 'print_headline': \"1/1/00: TECHNOLOGY AND 2000 -- MOMENTOUS RELIEF; Internet's Cheering Squad Nervously Watches Clock\", 'name': None, 'seo': None, 'sub': None}   \n",
       "\n",
       "                                                    headline_clean  \\\n",
       "0                   Playoffs or No, Dallas Provides The Motivation   \n",
       "1  On This First Day, a Fanfare for the New Era; Knowing the World   \n",
       "2                Internet's Cheering Squad Nervously Watches Clock   \n",
       "\n",
       "                                                                                                                                                                                                                                                                                                                                                                                                                                                                                                                                                                                                                                                all_text  \n",
       "0                                                                                                                                                                                                                                                                                                                               Playoffs or No, Dallas Provides The Motivation Waiting in the visiting locker room at Texas Stadium late tomorrow afternoon, the Giants will know whether the Green Bay Packers, who play earlier against Arizona, have won or are comfortably ahead. Article on upcoming New York Giants-Dallas Cowboys game; photo (M)  \n",
       "1                                                                                                                                                                                                                                                                                                                                                                                                                          On This First Day, a Fanfare for the New Era; Knowing the World To the Editor: Jeanne C Pond letter expresses hope that spiritual development, artistic knowledge and skills and self-esteem flourish in new century; drawing  \n",
       "2  Internet's Cheering Squad Nervously Watches Clock As the world slid nervously yesterday through the shadow of its first global technology challenge, many year 2000 experts took special comfort in the relatively stable behavior of one of their principal tools in dealing with the problem: the not-always-reliable Internet. Many experts on Y2K computer problem report that Internet performed impressively through rollover from 1999 to 2000 even if it did sag at times in isolated sites as users turned to e-mail messages, Web sites, newsgroups and electronic chat rooms to track arrival of Year 2000 in more and more time zones (M)  "
      ]
     },
     "execution_count": 8,
     "metadata": {},
     "output_type": "execute_result"
    }
   ],
   "source": [
    "#Put all important text togheter\n",
    "clean_nyt_df['all_text'] = (clean_nyt_df['headline_clean'] + \n",
    "                              \" \" + clean_nyt_df['lead_paragraph'] + \n",
    "                              \" \" + clean_nyt_df['abstract']\n",
    "                             ).str.strip()\n",
    "\n",
    "clean_nyt_df.head(3)"
   ]
  },
  {
   "cell_type": "code",
   "execution_count": 9,
   "id": "5f8c9950-eebb-4988-a151-9616d652f7ed",
   "metadata": {},
   "outputs": [
    {
     "data": {
      "text/html": [
       "<div>\n",
       "<style scoped>\n",
       "    .dataframe tbody tr th:only-of-type {\n",
       "        vertical-align: middle;\n",
       "    }\n",
       "\n",
       "    .dataframe tbody tr th {\n",
       "        vertical-align: top;\n",
       "    }\n",
       "\n",
       "    .dataframe thead th {\n",
       "        text-align: right;\n",
       "    }\n",
       "</style>\n",
       "<table border=\"1\" class=\"dataframe\">\n",
       "  <thead>\n",
       "    <tr style=\"text-align: right;\">\n",
       "      <th></th>\n",
       "      <th>date</th>\n",
       "      <th>abstract</th>\n",
       "      <th>lead_paragraph</th>\n",
       "      <th>headline</th>\n",
       "      <th>headline_clean</th>\n",
       "      <th>all_text</th>\n",
       "    </tr>\n",
       "  </thead>\n",
       "  <tbody>\n",
       "    <tr>\n",
       "      <th>0</th>\n",
       "      <td>2000-01-01</td>\n",
       "      <td>Article on upcoming New York Giants-Dallas Cowboys game; photo (M)</td>\n",
       "      <td>Waiting in the visiting locker room at Texas Stadium late tomorrow afternoon, the Giants will know whether the Green Bay Packers, who play earlier against Arizona, have won or are comfortably ahead.</td>\n",
       "      <td>{'main': 'Playoffs or No, Dallas Provides The Motivation', 'kicker': 'PRO FOOTBALL', 'content_kicker': None, 'print_headline': 'PRO FOOTBALL; Playoffs or No, Dallas Provides The Motivation', 'name': None, 'seo': None, 'sub': None}</td>\n",
       "      <td>Playoffs or No, Dallas Provides The Motivation</td>\n",
       "      <td>Playoffs or No, Dallas Provides The Motivation Waiting in the visiting locker room at Texas Stadium late tomorrow afternoon, the Giants will know whether the Green Bay Packers, who play earlier against Arizona, have won or are comfortably ahead. Article on upcoming New York Giants-Dallas Cowboys game; photo (M)</td>\n",
       "    </tr>\n",
       "    <tr>\n",
       "      <th>1</th>\n",
       "      <td>2000-01-01</td>\n",
       "      <td>Jeanne C Pond letter expresses hope that spiritual development, artistic knowledge and skills and self-esteem flourish in new century; drawing</td>\n",
       "      <td>To the Editor:</td>\n",
       "      <td>{'main': 'On This First Day, a Fanfare for the New Era; Knowing the World', 'kicker': None, 'content_kicker': None, 'print_headline': 'On This First Day, a Fanfare for the New Era; Knowing the World', 'name': None, 'seo': None, 'sub': None}</td>\n",
       "      <td>On This First Day, a Fanfare for the New Era; Knowing the World</td>\n",
       "      <td>On This First Day, a Fanfare for the New Era; Knowing the World To the Editor: Jeanne C Pond letter expresses hope that spiritual development, artistic knowledge and skills and self-esteem flourish in new century; drawing</td>\n",
       "    </tr>\n",
       "    <tr>\n",
       "      <th>2</th>\n",
       "      <td>2000-01-01</td>\n",
       "      <td>Many experts on Y2K computer problem report that Internet performed impressively through rollover from 1999 to 2000 even if it did sag at times in isolated sites as users turned to e-mail messages, Web sites, newsgroups and electronic chat rooms to track arrival of Year 2000 in more and more time zones (M)</td>\n",
       "      <td>As the world slid nervously yesterday through the shadow of its first global technology challenge, many year 2000 experts took special comfort in the relatively stable behavior of one of their principal tools in dealing with the problem: the not-always-reliable Internet.</td>\n",
       "      <td>{'main': \"Internet's Cheering Squad Nervously Watches Clock\", 'kicker': '1/1/00: TECHNOLOGY AND 2000 -- MOMENTOUS RELIEF', 'content_kicker': None, 'print_headline': \"1/1/00: TECHNOLOGY AND 2000 -- MOMENTOUS RELIEF; Internet's Cheering Squad Nervously Watches Clock\", 'name': None, 'seo': None, 'sub': None}</td>\n",
       "      <td>Internet's Cheering Squad Nervously Watches Clock</td>\n",
       "      <td>Internet's Cheering Squad Nervously Watches Clock As the world slid nervously yesterday through the shadow of its first global technology challenge, many year 2000 experts took special comfort in the relatively stable behavior of one of their principal tools in dealing with the problem: the not-always-reliable Internet. Many experts on Y2K computer problem report that Internet performed impressively through rollover from 1999 to 2000 even if it did sag at times in isolated sites as users turned to e-mail messages, Web sites, newsgroups and electronic chat rooms to track arrival of Year 2000 in more and more time zones (M)</td>\n",
       "    </tr>\n",
       "  </tbody>\n",
       "</table>\n",
       "</div>"
      ],
      "text/plain": [
       "         date  \\\n",
       "0  2000-01-01   \n",
       "1  2000-01-01   \n",
       "2  2000-01-01   \n",
       "\n",
       "                                                                                                                                                                                                                                                                                                              abstract  \\\n",
       "0                                                                                                                                                                                                                                                   Article on upcoming New York Giants-Dallas Cowboys game; photo (M)   \n",
       "1                                                                                                                                                                       Jeanne C Pond letter expresses hope that spiritual development, artistic knowledge and skills and self-esteem flourish in new century; drawing   \n",
       "2  Many experts on Y2K computer problem report that Internet performed impressively through rollover from 1999 to 2000 even if it did sag at times in isolated sites as users turned to e-mail messages, Web sites, newsgroups and electronic chat rooms to track arrival of Year 2000 in more and more time zones (M)   \n",
       "\n",
       "                                                                                                                                                                                                                                                                    lead_paragraph  \\\n",
       "0                                                                           Waiting in the visiting locker room at Texas Stadium late tomorrow afternoon, the Giants will know whether the Green Bay Packers, who play earlier against Arizona, have won or are comfortably ahead.   \n",
       "1                                                                                                                                                                                                                                                                   To the Editor:   \n",
       "2  As the world slid nervously yesterday through the shadow of its first global technology challenge, many year 2000 experts took special comfort in the relatively stable behavior of one of their principal tools in dealing with the problem: the not-always-reliable Internet.   \n",
       "\n",
       "                                                                                                                                                                                                                                                                                                             headline  \\\n",
       "0                                                                              {'main': 'Playoffs or No, Dallas Provides The Motivation', 'kicker': 'PRO FOOTBALL', 'content_kicker': None, 'print_headline': 'PRO FOOTBALL; Playoffs or No, Dallas Provides The Motivation', 'name': None, 'seo': None, 'sub': None}   \n",
       "1                                                                    {'main': 'On This First Day, a Fanfare for the New Era; Knowing the World', 'kicker': None, 'content_kicker': None, 'print_headline': 'On This First Day, a Fanfare for the New Era; Knowing the World', 'name': None, 'seo': None, 'sub': None}   \n",
       "2  {'main': \"Internet's Cheering Squad Nervously Watches Clock\", 'kicker': '1/1/00: TECHNOLOGY AND 2000 -- MOMENTOUS RELIEF', 'content_kicker': None, 'print_headline': \"1/1/00: TECHNOLOGY AND 2000 -- MOMENTOUS RELIEF; Internet's Cheering Squad Nervously Watches Clock\", 'name': None, 'seo': None, 'sub': None}   \n",
       "\n",
       "                                                    headline_clean  \\\n",
       "0                   Playoffs or No, Dallas Provides The Motivation   \n",
       "1  On This First Day, a Fanfare for the New Era; Knowing the World   \n",
       "2                Internet's Cheering Squad Nervously Watches Clock   \n",
       "\n",
       "                                                                                                                                                                                                                                                                                                                                                                                                                                                                                                                                                                                                                                                all_text  \n",
       "0                                                                                                                                                                                                                                                                                                                               Playoffs or No, Dallas Provides The Motivation Waiting in the visiting locker room at Texas Stadium late tomorrow afternoon, the Giants will know whether the Green Bay Packers, who play earlier against Arizona, have won or are comfortably ahead. Article on upcoming New York Giants-Dallas Cowboys game; photo (M)  \n",
       "1                                                                                                                                                                                                                                                                                                                                                                                                                          On This First Day, a Fanfare for the New Era; Knowing the World To the Editor: Jeanne C Pond letter expresses hope that spiritual development, artistic knowledge and skills and self-esteem flourish in new century; drawing  \n",
       "2  Internet's Cheering Squad Nervously Watches Clock As the world slid nervously yesterday through the shadow of its first global technology challenge, many year 2000 experts took special comfort in the relatively stable behavior of one of their principal tools in dealing with the problem: the not-always-reliable Internet. Many experts on Y2K computer problem report that Internet performed impressively through rollover from 1999 to 2000 even if it did sag at times in isolated sites as users turned to e-mail messages, Web sites, newsgroups and electronic chat rooms to track arrival of Year 2000 in more and more time zones (M)  "
      ]
     },
     "execution_count": 9,
     "metadata": {},
     "output_type": "execute_result"
    }
   ],
   "source": [
    "#Clean Date format\n",
    "clean_nyt_df['date'] = clean_nyt_df['date'].apply(\n",
    "                            lambda x: str(x).split()[0] if pd.notnull(x) else None\n",
    "                        )\n",
    "\n",
    "clean_nyt_df.head(3)"
   ]
  },
  {
   "cell_type": "code",
   "execution_count": 10,
   "id": "1b41f3e2-0251-4288-b1a6-51ae90570f2a",
   "metadata": {},
   "outputs": [
    {
     "data": {
      "text/html": [
       "<div>\n",
       "<style scoped>\n",
       "    .dataframe tbody tr th:only-of-type {\n",
       "        vertical-align: middle;\n",
       "    }\n",
       "\n",
       "    .dataframe tbody tr th {\n",
       "        vertical-align: top;\n",
       "    }\n",
       "\n",
       "    .dataframe thead th {\n",
       "        text-align: right;\n",
       "    }\n",
       "</style>\n",
       "<table border=\"1\" class=\"dataframe\">\n",
       "  <thead>\n",
       "    <tr style=\"text-align: right;\">\n",
       "      <th></th>\n",
       "      <th>date</th>\n",
       "      <th>all_text</th>\n",
       "    </tr>\n",
       "  </thead>\n",
       "  <tbody>\n",
       "    <tr>\n",
       "      <th>0</th>\n",
       "      <td>2000-01-01</td>\n",
       "      <td>Playoffs or No, Dallas Provides The Motivation Waiting in the visiting locker room at Texas Stadium late tomorrow afternoon, the Giants will know whether the Green Bay Packers, who play earlier against Arizona, have won or are comfortably ahead. Article on upcoming New York Giants-Dallas Cowboys game; photo (M)</td>\n",
       "    </tr>\n",
       "    <tr>\n",
       "      <th>1</th>\n",
       "      <td>2000-01-01</td>\n",
       "      <td>On This First Day, a Fanfare for the New Era; Knowing the World To the Editor: Jeanne C Pond letter expresses hope that spiritual development, artistic knowledge and skills and self-esteem flourish in new century; drawing</td>\n",
       "    </tr>\n",
       "    <tr>\n",
       "      <th>2</th>\n",
       "      <td>2000-01-01</td>\n",
       "      <td>Internet's Cheering Squad Nervously Watches Clock As the world slid nervously yesterday through the shadow of its first global technology challenge, many year 2000 experts took special comfort in the relatively stable behavior of one of their principal tools in dealing with the problem: the not-always-reliable Internet. Many experts on Y2K computer problem report that Internet performed impressively through rollover from 1999 to 2000 even if it did sag at times in isolated sites as users turned to e-mail messages, Web sites, newsgroups and electronic chat rooms to track arrival of Year 2000 in more and more time zones (M)</td>\n",
       "    </tr>\n",
       "    <tr>\n",
       "      <th>3</th>\n",
       "      <td>2000-01-01</td>\n",
       "      <td>Economic Thinking Finds a Free Market WILL the forces of globalism continue to push the world toward American-style capitalism? WILL the forces of globalism continue to push the world toward American-style capitalism?    As the 21st century begins, advocates of the free market have no doubt that they have won the economic argument. Socialism is dead. Moreover, as a means of creating wealth and material progress, American capitalism seems to be clearly superior to the Asian variety, with its greater level of government planning, or the European version, with its emphasis on social welfare and protection of workers from losing their jobs.</td>\n",
       "    </tr>\n",
       "    <tr>\n",
       "      <th>4</th>\n",
       "      <td>2000-01-01</td>\n",
       "      <td>INSIDE SPECIAL TODAY  SPECIAL TODAY  The Millennium  Envisioning the future of politics, people, cities and machines -- even the front page of The Times -- and reflecting on the past.  SECTION E</td>\n",
       "    </tr>\n",
       "  </tbody>\n",
       "</table>\n",
       "</div>"
      ],
      "text/plain": [
       "         date  \\\n",
       "0  2000-01-01   \n",
       "1  2000-01-01   \n",
       "2  2000-01-01   \n",
       "3  2000-01-01   \n",
       "4  2000-01-01   \n",
       "\n",
       "                                                                                                                                                                                                                                                                                                                                                                                                                                                                                                                                                                                                                                                               all_text  \n",
       "0                                                                                                                                                                                                                                                                                                                                              Playoffs or No, Dallas Provides The Motivation Waiting in the visiting locker room at Texas Stadium late tomorrow afternoon, the Giants will know whether the Green Bay Packers, who play earlier against Arizona, have won or are comfortably ahead. Article on upcoming New York Giants-Dallas Cowboys game; photo (M)  \n",
       "1                                                                                                                                                                                                                                                                                                                                                                                                                                         On This First Day, a Fanfare for the New Era; Knowing the World To the Editor: Jeanne C Pond letter expresses hope that spiritual development, artistic knowledge and skills and self-esteem flourish in new century; drawing  \n",
       "2                 Internet's Cheering Squad Nervously Watches Clock As the world slid nervously yesterday through the shadow of its first global technology challenge, many year 2000 experts took special comfort in the relatively stable behavior of one of their principal tools in dealing with the problem: the not-always-reliable Internet. Many experts on Y2K computer problem report that Internet performed impressively through rollover from 1999 to 2000 even if it did sag at times in isolated sites as users turned to e-mail messages, Web sites, newsgroups and electronic chat rooms to track arrival of Year 2000 in more and more time zones (M)  \n",
       "3  Economic Thinking Finds a Free Market WILL the forces of globalism continue to push the world toward American-style capitalism? WILL the forces of globalism continue to push the world toward American-style capitalism?    As the 21st century begins, advocates of the free market have no doubt that they have won the economic argument. Socialism is dead. Moreover, as a means of creating wealth and material progress, American capitalism seems to be clearly superior to the Asian variety, with its greater level of government planning, or the European version, with its emphasis on social welfare and protection of workers from losing their jobs.  \n",
       "4                                                                                                                                                                                                                                                                                                                                                                                                                                                                    INSIDE SPECIAL TODAY  SPECIAL TODAY  The Millennium  Envisioning the future of politics, people, cities and machines -- even the front page of The Times -- and reflecting on the past.  SECTION E  "
      ]
     },
     "execution_count": 10,
     "metadata": {},
     "output_type": "execute_result"
    }
   ],
   "source": [
    "#Get just relevant columns\n",
    "nyt_news = clean_nyt_df[['date', 'all_text']].copy()\n",
    "nyt_news.head()"
   ]
  },
  {
   "cell_type": "markdown",
   "id": "9f0995d2-0a82-4d9e-88e5-a29b351b9cae",
   "metadata": {},
   "source": [
    "### NLP Cleaning"
   ]
  },
  {
   "cell_type": "code",
   "execution_count": 11,
   "id": "4be04d9d-ee2d-4c6a-a088-50b2b639ea22",
   "metadata": {},
   "outputs": [
    {
     "data": {
      "text/html": [
       "<div>\n",
       "<style scoped>\n",
       "    .dataframe tbody tr th:only-of-type {\n",
       "        vertical-align: middle;\n",
       "    }\n",
       "\n",
       "    .dataframe tbody tr th {\n",
       "        vertical-align: top;\n",
       "    }\n",
       "\n",
       "    .dataframe thead th {\n",
       "        text-align: right;\n",
       "    }\n",
       "</style>\n",
       "<table border=\"1\" class=\"dataframe\">\n",
       "  <thead>\n",
       "    <tr style=\"text-align: right;\">\n",
       "      <th></th>\n",
       "      <th>date</th>\n",
       "      <th>all_text</th>\n",
       "      <th>clean_text</th>\n",
       "    </tr>\n",
       "  </thead>\n",
       "  <tbody>\n",
       "    <tr>\n",
       "      <th>0</th>\n",
       "      <td>2000-01-01</td>\n",
       "      <td>Playoffs or No, Dallas Provides The Motivation Waiting in the visiting locker room at Texas Stadium late tomorrow afternoon, the Giants will know whether the Green Bay Packers, who play earlier against Arizona, have won or are comfortably ahead. Article on upcoming New York Giants-Dallas Cowboys game; photo (M)</td>\n",
       "      <td>playoffs or no, dallas provides the motivation waiting in the visiting locker room at texas stadium late tomorrow afternoon, the giants will know whether the green bay packers, who play earlier against arizona, have won or are comfortably ahead. article on upcoming new york giants-dallas cowboys game; photo (m)</td>\n",
       "    </tr>\n",
       "    <tr>\n",
       "      <th>1</th>\n",
       "      <td>2000-01-01</td>\n",
       "      <td>On This First Day, a Fanfare for the New Era; Knowing the World To the Editor: Jeanne C Pond letter expresses hope that spiritual development, artistic knowledge and skills and self-esteem flourish in new century; drawing</td>\n",
       "      <td>on this first day, a fanfare for the new era; knowing the world to the editor: jeanne c pond letter expresses hope that spiritual development, artistic knowledge and skills and self-esteem flourish in new century; drawing</td>\n",
       "    </tr>\n",
       "  </tbody>\n",
       "</table>\n",
       "</div>"
      ],
      "text/plain": [
       "         date  \\\n",
       "0  2000-01-01   \n",
       "1  2000-01-01   \n",
       "\n",
       "                                                                                                                                                                                                                                                                                                                   all_text  \\\n",
       "0  Playoffs or No, Dallas Provides The Motivation Waiting in the visiting locker room at Texas Stadium late tomorrow afternoon, the Giants will know whether the Green Bay Packers, who play earlier against Arizona, have won or are comfortably ahead. Article on upcoming New York Giants-Dallas Cowboys game; photo (M)   \n",
       "1                                                                                             On This First Day, a Fanfare for the New Era; Knowing the World To the Editor: Jeanne C Pond letter expresses hope that spiritual development, artistic knowledge and skills and self-esteem flourish in new century; drawing   \n",
       "\n",
       "                                                                                                                                                                                                                                                                                                                 clean_text  \n",
       "0  playoffs or no, dallas provides the motivation waiting in the visiting locker room at texas stadium late tomorrow afternoon, the giants will know whether the green bay packers, who play earlier against arizona, have won or are comfortably ahead. article on upcoming new york giants-dallas cowboys game; photo (m)  \n",
       "1                                                                                             on this first day, a fanfare for the new era; knowing the world to the editor: jeanne c pond letter expresses hope that spiritual development, artistic knowledge and skills and self-esteem flourish in new century; drawing  "
      ]
     },
     "execution_count": 11,
     "metadata": {},
     "output_type": "execute_result"
    }
   ],
   "source": [
    "#Get lowercase\n",
    "nyt_news['clean_text'] = nyt_news['all_text'].str.lower()\n",
    "nyt_news.head(2)"
   ]
  },
  {
   "cell_type": "code",
   "execution_count": 12,
   "id": "d8972422-4edb-458c-8b69-15cdae1c2c9b",
   "metadata": {},
   "outputs": [
    {
     "data": {
      "text/html": [
       "<div>\n",
       "<style scoped>\n",
       "    .dataframe tbody tr th:only-of-type {\n",
       "        vertical-align: middle;\n",
       "    }\n",
       "\n",
       "    .dataframe tbody tr th {\n",
       "        vertical-align: top;\n",
       "    }\n",
       "\n",
       "    .dataframe thead th {\n",
       "        text-align: right;\n",
       "    }\n",
       "</style>\n",
       "<table border=\"1\" class=\"dataframe\">\n",
       "  <thead>\n",
       "    <tr style=\"text-align: right;\">\n",
       "      <th></th>\n",
       "      <th>date</th>\n",
       "      <th>all_text</th>\n",
       "      <th>clean_text</th>\n",
       "    </tr>\n",
       "  </thead>\n",
       "  <tbody>\n",
       "    <tr>\n",
       "      <th>0</th>\n",
       "      <td>2000-01-01</td>\n",
       "      <td>Playoffs or No, Dallas Provides The Motivation Waiting in the visiting locker room at Texas Stadium late tomorrow afternoon, the Giants will know whether the Green Bay Packers, who play earlier against Arizona, have won or are comfortably ahead. Article on upcoming New York Giants-Dallas Cowboys game; photo (M)</td>\n",
       "      <td>playoffs or no  dallas provides the motivation waiting in the visiting locker room at texas stadium late tomorrow afternoon  the giants will know whether the green bay packers  who play earlier against arizona  have won or are comfortably ahead  article on upcoming new york giants dallas cowboys game  photo  m</td>\n",
       "    </tr>\n",
       "    <tr>\n",
       "      <th>1</th>\n",
       "      <td>2000-01-01</td>\n",
       "      <td>On This First Day, a Fanfare for the New Era; Knowing the World To the Editor: Jeanne C Pond letter expresses hope that spiritual development, artistic knowledge and skills and self-esteem flourish in new century; drawing</td>\n",
       "      <td>on this first day  a fanfare for the new era  knowing the world to the editor  jeanne c pond letter expresses hope that spiritual development  artistic knowledge and skills and self esteem flourish in new century  drawing</td>\n",
       "    </tr>\n",
       "  </tbody>\n",
       "</table>\n",
       "</div>"
      ],
      "text/plain": [
       "         date  \\\n",
       "0  2000-01-01   \n",
       "1  2000-01-01   \n",
       "\n",
       "                                                                                                                                                                                                                                                                                                                   all_text  \\\n",
       "0  Playoffs or No, Dallas Provides The Motivation Waiting in the visiting locker room at Texas Stadium late tomorrow afternoon, the Giants will know whether the Green Bay Packers, who play earlier against Arizona, have won or are comfortably ahead. Article on upcoming New York Giants-Dallas Cowboys game; photo (M)   \n",
       "1                                                                                             On This First Day, a Fanfare for the New Era; Knowing the World To the Editor: Jeanne C Pond letter expresses hope that spiritual development, artistic knowledge and skills and self-esteem flourish in new century; drawing   \n",
       "\n",
       "                                                                                                                                                                                                                                                                                                                 clean_text  \n",
       "0  playoffs or no  dallas provides the motivation waiting in the visiting locker room at texas stadium late tomorrow afternoon  the giants will know whether the green bay packers  who play earlier against arizona  have won or are comfortably ahead  article on upcoming new york giants dallas cowboys game  photo  m   \n",
       "1                                                                                             on this first day  a fanfare for the new era  knowing the world to the editor  jeanne c pond letter expresses hope that spiritual development  artistic knowledge and skills and self esteem flourish in new century  drawing  "
      ]
     },
     "execution_count": 12,
     "metadata": {},
     "output_type": "execute_result"
    }
   ],
   "source": [
    "#Remove special characters\n",
    "nyt_news['clean_text'] = nyt_news['clean_text'].str.replace(r'[^\\w]', ' ', regex=True)\n",
    "nyt_news.head(2)"
   ]
  },
  {
   "cell_type": "code",
   "execution_count": 13,
   "id": "7aaa338d-a105-4fda-b8bb-bafc116c1803",
   "metadata": {
    "scrolled": true
   },
   "outputs": [
    {
     "name": "stderr",
     "output_type": "stream",
     "text": [
      "Python(24850) MallocStackLogging: can't turn off malloc stack logging because it was not enabled.\n"
     ]
    },
    {
     "name": "stdout",
     "output_type": "stream",
     "text": [
      "Requirement already satisfied: spacy in /Users/rodrigoesparza/Documents/NCI/Tesis/nci_tesis/lib/python3.13/site-packages (3.8.7)\n",
      "Requirement already satisfied: spacy-legacy<3.1.0,>=3.0.11 in /Users/rodrigoesparza/Documents/NCI/Tesis/nci_tesis/lib/python3.13/site-packages (from spacy) (3.0.12)\n",
      "Requirement already satisfied: spacy-loggers<2.0.0,>=1.0.0 in /Users/rodrigoesparza/Documents/NCI/Tesis/nci_tesis/lib/python3.13/site-packages (from spacy) (1.0.5)\n",
      "Requirement already satisfied: murmurhash<1.1.0,>=0.28.0 in /Users/rodrigoesparza/Documents/NCI/Tesis/nci_tesis/lib/python3.13/site-packages (from spacy) (1.0.13)\n",
      "Requirement already satisfied: cymem<2.1.0,>=2.0.2 in /Users/rodrigoesparza/Documents/NCI/Tesis/nci_tesis/lib/python3.13/site-packages (from spacy) (2.0.11)\n",
      "Requirement already satisfied: preshed<3.1.0,>=3.0.2 in /Users/rodrigoesparza/Documents/NCI/Tesis/nci_tesis/lib/python3.13/site-packages (from spacy) (3.0.10)\n",
      "Requirement already satisfied: thinc<8.4.0,>=8.3.4 in /Users/rodrigoesparza/Documents/NCI/Tesis/nci_tesis/lib/python3.13/site-packages (from spacy) (8.3.6)\n",
      "Requirement already satisfied: wasabi<1.2.0,>=0.9.1 in /Users/rodrigoesparza/Documents/NCI/Tesis/nci_tesis/lib/python3.13/site-packages (from spacy) (1.1.3)\n",
      "Requirement already satisfied: srsly<3.0.0,>=2.4.3 in /Users/rodrigoesparza/Documents/NCI/Tesis/nci_tesis/lib/python3.13/site-packages (from spacy) (2.5.1)\n",
      "Requirement already satisfied: catalogue<2.1.0,>=2.0.6 in /Users/rodrigoesparza/Documents/NCI/Tesis/nci_tesis/lib/python3.13/site-packages (from spacy) (2.0.10)\n",
      "Requirement already satisfied: weasel<0.5.0,>=0.1.0 in /Users/rodrigoesparza/Documents/NCI/Tesis/nci_tesis/lib/python3.13/site-packages (from spacy) (0.4.1)\n",
      "Requirement already satisfied: typer<1.0.0,>=0.3.0 in /Users/rodrigoesparza/Documents/NCI/Tesis/nci_tesis/lib/python3.13/site-packages (from spacy) (0.16.0)\n",
      "Requirement already satisfied: tqdm<5.0.0,>=4.38.0 in /Users/rodrigoesparza/Documents/NCI/Tesis/nci_tesis/lib/python3.13/site-packages (from spacy) (4.67.1)\n",
      "Requirement already satisfied: numpy>=1.19.0 in /Users/rodrigoesparza/Documents/NCI/Tesis/nci_tesis/lib/python3.13/site-packages (from spacy) (2.2.6)\n",
      "Requirement already satisfied: requests<3.0.0,>=2.13.0 in /Users/rodrigoesparza/Documents/NCI/Tesis/nci_tesis/lib/python3.13/site-packages (from spacy) (2.32.3)\n",
      "Requirement already satisfied: pydantic!=1.8,!=1.8.1,<3.0.0,>=1.7.4 in /Users/rodrigoesparza/Documents/NCI/Tesis/nci_tesis/lib/python3.13/site-packages (from spacy) (2.11.5)\n",
      "Requirement already satisfied: jinja2 in /Users/rodrigoesparza/Documents/NCI/Tesis/nci_tesis/lib/python3.13/site-packages (from spacy) (3.1.6)\n",
      "Requirement already satisfied: setuptools in /Users/rodrigoesparza/Documents/NCI/Tesis/nci_tesis/lib/python3.13/site-packages (from spacy) (80.9.0)\n",
      "Requirement already satisfied: packaging>=20.0 in /Users/rodrigoesparza/Documents/NCI/Tesis/nci_tesis/lib/python3.13/site-packages (from spacy) (25.0)\n",
      "Requirement already satisfied: langcodes<4.0.0,>=3.2.0 in /Users/rodrigoesparza/Documents/NCI/Tesis/nci_tesis/lib/python3.13/site-packages (from spacy) (3.5.0)\n",
      "Requirement already satisfied: language-data>=1.2 in /Users/rodrigoesparza/Documents/NCI/Tesis/nci_tesis/lib/python3.13/site-packages (from langcodes<4.0.0,>=3.2.0->spacy) (1.3.0)\n",
      "Requirement already satisfied: annotated-types>=0.6.0 in /Users/rodrigoesparza/Documents/NCI/Tesis/nci_tesis/lib/python3.13/site-packages (from pydantic!=1.8,!=1.8.1,<3.0.0,>=1.7.4->spacy) (0.7.0)\n",
      "Requirement already satisfied: pydantic-core==2.33.2 in /Users/rodrigoesparza/Documents/NCI/Tesis/nci_tesis/lib/python3.13/site-packages (from pydantic!=1.8,!=1.8.1,<3.0.0,>=1.7.4->spacy) (2.33.2)\n",
      "Requirement already satisfied: typing-extensions>=4.12.2 in /Users/rodrigoesparza/Documents/NCI/Tesis/nci_tesis/lib/python3.13/site-packages (from pydantic!=1.8,!=1.8.1,<3.0.0,>=1.7.4->spacy) (4.14.0)\n",
      "Requirement already satisfied: typing-inspection>=0.4.0 in /Users/rodrigoesparza/Documents/NCI/Tesis/nci_tesis/lib/python3.13/site-packages (from pydantic!=1.8,!=1.8.1,<3.0.0,>=1.7.4->spacy) (0.4.1)\n",
      "Requirement already satisfied: charset-normalizer<4,>=2 in /Users/rodrigoesparza/Documents/NCI/Tesis/nci_tesis/lib/python3.13/site-packages (from requests<3.0.0,>=2.13.0->spacy) (3.4.2)\n",
      "Requirement already satisfied: idna<4,>=2.5 in /Users/rodrigoesparza/Documents/NCI/Tesis/nci_tesis/lib/python3.13/site-packages (from requests<3.0.0,>=2.13.0->spacy) (3.10)\n",
      "Requirement already satisfied: urllib3<3,>=1.21.1 in /Users/rodrigoesparza/Documents/NCI/Tesis/nci_tesis/lib/python3.13/site-packages (from requests<3.0.0,>=2.13.0->spacy) (2.4.0)\n",
      "Requirement already satisfied: certifi>=2017.4.17 in /Users/rodrigoesparza/Documents/NCI/Tesis/nci_tesis/lib/python3.13/site-packages (from requests<3.0.0,>=2.13.0->spacy) (2025.4.26)\n",
      "Requirement already satisfied: blis<1.4.0,>=1.3.0 in /Users/rodrigoesparza/Documents/NCI/Tesis/nci_tesis/lib/python3.13/site-packages (from thinc<8.4.0,>=8.3.4->spacy) (1.3.0)\n",
      "Requirement already satisfied: confection<1.0.0,>=0.0.1 in /Users/rodrigoesparza/Documents/NCI/Tesis/nci_tesis/lib/python3.13/site-packages (from thinc<8.4.0,>=8.3.4->spacy) (0.1.5)\n",
      "Requirement already satisfied: click>=8.0.0 in /Users/rodrigoesparza/Documents/NCI/Tesis/nci_tesis/lib/python3.13/site-packages (from typer<1.0.0,>=0.3.0->spacy) (8.2.1)\n",
      "Requirement already satisfied: shellingham>=1.3.0 in /Users/rodrigoesparza/Documents/NCI/Tesis/nci_tesis/lib/python3.13/site-packages (from typer<1.0.0,>=0.3.0->spacy) (1.5.4)\n",
      "Requirement already satisfied: rich>=10.11.0 in /Users/rodrigoesparza/Documents/NCI/Tesis/nci_tesis/lib/python3.13/site-packages (from typer<1.0.0,>=0.3.0->spacy) (14.0.0)\n",
      "Requirement already satisfied: cloudpathlib<1.0.0,>=0.7.0 in /Users/rodrigoesparza/Documents/NCI/Tesis/nci_tesis/lib/python3.13/site-packages (from weasel<0.5.0,>=0.1.0->spacy) (0.21.1)\n",
      "Requirement already satisfied: smart-open<8.0.0,>=5.2.1 in /Users/rodrigoesparza/Documents/NCI/Tesis/nci_tesis/lib/python3.13/site-packages (from weasel<0.5.0,>=0.1.0->spacy) (7.1.0)\n",
      "Requirement already satisfied: wrapt in /Users/rodrigoesparza/Documents/NCI/Tesis/nci_tesis/lib/python3.13/site-packages (from smart-open<8.0.0,>=5.2.1->weasel<0.5.0,>=0.1.0->spacy) (1.17.2)\n",
      "Requirement already satisfied: marisa-trie>=1.1.0 in /Users/rodrigoesparza/Documents/NCI/Tesis/nci_tesis/lib/python3.13/site-packages (from language-data>=1.2->langcodes<4.0.0,>=3.2.0->spacy) (1.2.1)\n",
      "Requirement already satisfied: markdown-it-py>=2.2.0 in /Users/rodrigoesparza/Documents/NCI/Tesis/nci_tesis/lib/python3.13/site-packages (from rich>=10.11.0->typer<1.0.0,>=0.3.0->spacy) (3.0.0)\n",
      "Requirement already satisfied: pygments<3.0.0,>=2.13.0 in /Users/rodrigoesparza/Documents/NCI/Tesis/nci_tesis/lib/python3.13/site-packages (from rich>=10.11.0->typer<1.0.0,>=0.3.0->spacy) (2.19.1)\n",
      "Requirement already satisfied: mdurl~=0.1 in /Users/rodrigoesparza/Documents/NCI/Tesis/nci_tesis/lib/python3.13/site-packages (from markdown-it-py>=2.2.0->rich>=10.11.0->typer<1.0.0,>=0.3.0->spacy) (0.1.2)\n",
      "Requirement already satisfied: MarkupSafe>=2.0 in /Users/rodrigoesparza/Documents/NCI/Tesis/nci_tesis/lib/python3.13/site-packages (from jinja2->spacy) (3.0.2)\n"
     ]
    },
    {
     "name": "stderr",
     "output_type": "stream",
     "text": [
      "Python(24873) MallocStackLogging: can't turn off malloc stack logging because it was not enabled.\n"
     ]
    },
    {
     "name": "stdout",
     "output_type": "stream",
     "text": [
      "Collecting en-core-web-sm==3.8.0\n",
      "  Downloading https://github.com/explosion/spacy-models/releases/download/en_core_web_sm-3.8.0/en_core_web_sm-3.8.0-py3-none-any.whl (12.8 MB)\n",
      "\u001b[2K     \u001b[90m━━━━━━━━━━━━━━━━━━━━━━━━━━━━━━━━━━━━━━━━\u001b[0m \u001b[32m12.8/12.8 MB\u001b[0m \u001b[31m27.4 MB/s\u001b[0m eta \u001b[36m0:00:00\u001b[0m00:01\u001b[0m0:01\u001b[0m\n",
      "\u001b[?25h\u001b[38;5;2m✔ Download and installation successful\u001b[0m\n",
      "You can now load the package via spacy.load('en_core_web_sm')\n"
     ]
    }
   ],
   "source": [
    "#tokenize, lemmatize and remove stop words\n",
    "import sys\n",
    "!{sys.executable} -m pip install spacy\n",
    "!{sys.executable} -m spacy download en_core_web_sm"
   ]
  },
  {
   "cell_type": "code",
   "execution_count": 14,
   "id": "855ef085-74ae-48e4-8350-0fc9d8aa3ea3",
   "metadata": {},
   "outputs": [],
   "source": [
    "import spacy\n",
    "nlp = spacy.load('en_core_web_sm')"
   ]
  },
  {
   "cell_type": "code",
   "execution_count": 15,
   "id": "3bfb947f-eae4-4c6f-9468-84cee8c75a21",
   "metadata": {},
   "outputs": [],
   "source": [
    "def token_lemma_nonstops(text):\n",
    "    doc = nlp(text)\n",
    "    output = [token.lemma_ for token in doc if not token.is_stop]\n",
    "    output = ' '.join(output)\n",
    "    return output"
   ]
  },
  {
   "cell_type": "code",
   "execution_count": 16,
   "id": "84b35c31-c2f3-4c3a-a6fb-27c7eb0b0662",
   "metadata": {},
   "outputs": [],
   "source": [
    "nyt_news['clean_text'] = nyt_news['clean_text'].astype(str)"
   ]
  },
  {
   "cell_type": "code",
   "execution_count": 17,
   "id": "470c1552-8cc4-41e1-8178-59985c40ec51",
   "metadata": {},
   "outputs": [
    {
     "name": "stderr",
     "output_type": "stream",
     "text": [
      "/Users/rodrigoesparza/Documents/NCI/Tesis/nci_tesis/lib/python3.13/site-packages/numpy/_core/fromnumeric.py:57: FutureWarning: 'DataFrame.swapaxes' is deprecated and will be removed in a future version. Please use 'DataFrame.transpose' instead.\n",
      "  return bound(*args, **kwds)\n"
     ]
    },
    {
     "name": "stdout",
     "output_type": "stream",
     "text": [
      "Processing chunk 1, rows: 2192\n",
      "Processing chunk 101, rows: 2192\n",
      "Processing chunk 201, rows: 2192\n",
      "Processing chunk 301, rows: 2192\n",
      "Processing chunk 401, rows: 2192\n",
      "Processing chunk 501, rows: 2192\n",
      "Processing chunk 601, rows: 2192\n",
      "Processing chunk 701, rows: 2192\n",
      "Processing chunk 801, rows: 2192\n",
      "Processing chunk 901, rows: 2191\n"
     ]
    }
   ],
   "source": [
    "import numpy as np\n",
    "\n",
    "# Split into 1000 chunks\n",
    "chunks = np.array_split(nyt_news, 1000)\n",
    "\n",
    "for i, chunk in enumerate(chunks):\n",
    "    if i % 100 == 0:\n",
    "        print(f\"Processing chunk {i + 1}, rows: {len(chunk)}\")"
   ]
  },
  {
   "cell_type": "code",
   "execution_count": 18,
   "id": "a8f5c71f-dc3f-4477-8d6a-24344fe13ec5",
   "metadata": {},
   "outputs": [],
   "source": [
    "chunks1 = chunks[:100].copy()\n",
    "chunks2 = chunks[100:200].copy()\n",
    "chunks3 = chunks[200:300].copy()\n",
    "chunks4 = chunks[300:400].copy()\n",
    "chunks5 = chunks[400:500].copy()\n",
    "chunks6 = chunks[500:600].copy()\n",
    "chunks7 = chunks[600:700].copy()\n",
    "chunks8 = chunks[700:800].copy()\n",
    "chunks9 = chunks[800:900].copy()\n",
    "chunks10 = chunks[900:999].copy()"
   ]
  },
  {
   "cell_type": "code",
   "execution_count": 21,
   "id": "5a1dda1e-e2a0-4335-a752-e9bf2b322a21",
   "metadata": {
    "scrolled": true
   },
   "outputs": [
    {
     "name": "stdout",
     "output_type": "stream",
     "text": [
      "---------- Set Chunk 1  -----------\n",
      "Chunk 0 DONEEE!!!\n",
      "Chunk 10 DONEEE!!!\n",
      "Chunk 20 DONEEE!!!\n",
      "Chunk 30 DONEEE!!!\n",
      "Chunk 40 DONEEE!!!\n",
      "Chunk 50 DONEEE!!!\n",
      "Chunk 60 DONEEE!!!\n",
      "Chunk 70 DONEEE!!!\n",
      "Chunk 80 DONEEE!!!\n",
      "Chunk 90 DONEEE!!!\n",
      "---------- Set Chunk 2  -----------\n",
      "Chunk 0 DONEEE!!!\n",
      "Chunk 10 DONEEE!!!\n",
      "Chunk 20 DONEEE!!!\n",
      "Chunk 30 DONEEE!!!\n",
      "Error in chunk: 33\n",
      "[E088] Text of length 1008193 exceeds maximum of 1000000. The parser and NER models require roughly 1GB of temporary memory per 100,000 characters in the input. This means long texts may cause memory allocation errors. If you're not using the parser or NER, it's probably safe to increase the `nlp.max_length` limit. The limit is in number of characters, so you can check whether your inputs are too long by checking `len(text)`.\n",
      "Chunk 40 DONEEE!!!\n",
      "Chunk 50 DONEEE!!!\n",
      "Chunk 60 DONEEE!!!\n",
      "Chunk 70 DONEEE!!!\n",
      "Chunk 80 DONEEE!!!\n",
      "Chunk 90 DONEEE!!!\n",
      "---------- Set Chunk 3  -----------\n",
      "Chunk 0 DONEEE!!!\n",
      "Chunk 10 DONEEE!!!\n",
      "Chunk 20 DONEEE!!!\n",
      "Chunk 30 DONEEE!!!\n",
      "Chunk 40 DONEEE!!!\n",
      "Chunk 50 DONEEE!!!\n",
      "Chunk 60 DONEEE!!!\n",
      "Chunk 70 DONEEE!!!\n",
      "Chunk 80 DONEEE!!!\n",
      "Chunk 90 DONEEE!!!\n",
      "---------- Set Chunk 4  -----------\n",
      "Chunk 0 DONEEE!!!\n",
      "Chunk 10 DONEEE!!!\n",
      "Chunk 20 DONEEE!!!\n",
      "Chunk 30 DONEEE!!!\n",
      "Chunk 40 DONEEE!!!\n",
      "Chunk 50 DONEEE!!!\n",
      "Chunk 60 DONEEE!!!\n",
      "Chunk 70 DONEEE!!!\n",
      "Chunk 80 DONEEE!!!\n",
      "Chunk 90 DONEEE!!!\n",
      "---------- Set Chunk 5  -----------\n",
      "Chunk 0 DONEEE!!!\n",
      "Chunk 10 DONEEE!!!\n",
      "Chunk 20 DONEEE!!!\n",
      "Chunk 30 DONEEE!!!\n",
      "Chunk 40 DONEEE!!!\n",
      "Chunk 50 DONEEE!!!\n",
      "Chunk 60 DONEEE!!!\n",
      "Chunk 70 DONEEE!!!\n",
      "Chunk 80 DONEEE!!!\n",
      "Chunk 90 DONEEE!!!\n",
      "---------- Set Chunk 6  -----------\n",
      "Chunk 0 DONEEE!!!\n",
      "Chunk 10 DONEEE!!!\n",
      "Chunk 20 DONEEE!!!\n",
      "Chunk 30 DONEEE!!!\n",
      "Chunk 40 DONEEE!!!\n",
      "Chunk 50 DONEEE!!!\n",
      "Chunk 60 DONEEE!!!\n",
      "Chunk 70 DONEEE!!!\n",
      "Chunk 80 DONEEE!!!\n",
      "Chunk 90 DONEEE!!!\n",
      "---------- Set Chunk 7  -----------\n",
      "Chunk 0 DONEEE!!!\n",
      "Chunk 10 DONEEE!!!\n",
      "Chunk 20 DONEEE!!!\n",
      "Chunk 30 DONEEE!!!\n",
      "Chunk 40 DONEEE!!!\n",
      "Chunk 50 DONEEE!!!\n",
      "Chunk 60 DONEEE!!!\n",
      "Chunk 70 DONEEE!!!\n",
      "Chunk 80 DONEEE!!!\n",
      "Chunk 90 DONEEE!!!\n",
      "---------- Set Chunk 8  -----------\n",
      "Chunk 0 DONEEE!!!\n",
      "Chunk 10 DONEEE!!!\n",
      "Chunk 20 DONEEE!!!\n",
      "Chunk 30 DONEEE!!!\n",
      "Chunk 40 DONEEE!!!\n",
      "Chunk 50 DONEEE!!!\n",
      "Chunk 60 DONEEE!!!\n",
      "Chunk 70 DONEEE!!!\n",
      "Chunk 80 DONEEE!!!\n",
      "Chunk 90 DONEEE!!!\n",
      "---------- Set Chunk 9  -----------\n",
      "Chunk 0 DONEEE!!!\n",
      "Chunk 10 DONEEE!!!\n",
      "Chunk 20 DONEEE!!!\n",
      "Chunk 30 DONEEE!!!\n",
      "Chunk 40 DONEEE!!!\n",
      "Chunk 50 DONEEE!!!\n",
      "Chunk 60 DONEEE!!!\n",
      "Chunk 70 DONEEE!!!\n",
      "Chunk 80 DONEEE!!!\n",
      "Chunk 90 DONEEE!!!\n",
      "---------- Set Chunk 10  -----------\n",
      "Chunk 0 DONEEE!!!\n",
      "Chunk 10 DONEEE!!!\n",
      "Chunk 20 DONEEE!!!\n",
      "Chunk 30 DONEEE!!!\n",
      "Chunk 40 DONEEE!!!\n",
      "Chunk 50 DONEEE!!!\n",
      "Chunk 60 DONEEE!!!\n",
      "Chunk 70 DONEEE!!!\n",
      "Chunk 80 DONEEE!!!\n",
      "Chunk 90 DONEEE!!!\n"
     ]
    }
   ],
   "source": [
    "chunk_list = [chunks1, chunks2, chunks3, chunks4, chunks5, chunks6, chunks7, chunks8, chunks9, chunks10]\n",
    "cont = 1\n",
    "\n",
    "for set_chunk in chunk_list:\n",
    "    print(\"---------- Set Chunk\", str(cont), \" -----------\")\n",
    "    for i, chunk in enumerate(set_chunk):\n",
    "        try: \n",
    "            chunk['clean_text'] = chunk['clean_text'].apply(token_lemma_nonstops)\n",
    "            if i % 10 == 0:\n",
    "                print(f\"Chunk {i} DONEEE!!!\")\n",
    "        except Exception as e:\n",
    "            print(\"Error in chunk:\", i )\n",
    "            print(e)\n",
    "            \n",
    "    df_chunk1 = pd.concat(set_chunk, ignore_index=True) \n",
    "    filname = \"../Data/Preprocessed/df_chunk\" + str(cont) + \".csv\"\n",
    "    df_chunk1.to_csv(filname)\n",
    "    cont += 1"
   ]
  },
  {
   "cell_type": "code",
   "execution_count": 19,
   "id": "9b4926e2-91a3-4c43-82aa-f858883fd4f3",
   "metadata": {},
   "outputs": [
    {
     "data": {
      "text/html": [
       "<div>\n",
       "<style scoped>\n",
       "    .dataframe tbody tr th:only-of-type {\n",
       "        vertical-align: middle;\n",
       "    }\n",
       "\n",
       "    .dataframe tbody tr th {\n",
       "        vertical-align: top;\n",
       "    }\n",
       "\n",
       "    .dataframe thead th {\n",
       "        text-align: right;\n",
       "    }\n",
       "</style>\n",
       "<table border=\"1\" class=\"dataframe\">\n",
       "  <thead>\n",
       "    <tr style=\"text-align: right;\">\n",
       "      <th></th>\n",
       "      <th>date</th>\n",
       "      <th>all_text</th>\n",
       "      <th>clean_text</th>\n",
       "    </tr>\n",
       "  </thead>\n",
       "  <tbody>\n",
       "    <tr>\n",
       "      <th>291536</th>\n",
       "      <td>2002-09-15</td>\n",
       "      <td>Nascar-Lovin Lincoln Davis is running for Congress in central Tennessee, in the district where they've been distilling Jack Daniel's whiskey since 1866. Davis is a Democrat, and he knew from the start that if he was going to win the race for an open seat, he was going to have to get past the wine-and-cheese stereotype that Democrats carry in rural America. Democrats running in 50 or so close House and Senate races in November, many of them in rural districts and states, are running away from their own party's traditional ideology in effort to overcome perception that they are in league with effete urban liberals; 2000 election map highlighted deep cultural tension between cities (blue states) and sticks (red states), and some Democrats in Washington have been calling on party to concentrate its efforts on rural voters; photos (L)</td>\n",
       "      <td>nascar lovin lincoln davis is running for congress in central tennessee  in the district where they ve been distilling jack daniel s whiskey since 1866  davis is a democrat  and he knew from the start that if he was going to win the race for an open seat  he was going to have to get past the wine and cheese stereotype that democrats carry in rural america  democrats running in 50 or so close house and senate races in november  many of them in rural districts and states  are running away from their own party s traditional ideology in effort to overcome perception that they are in league with effete urban liberals  2000 election map highlighted deep cultural tension between cities  blue states  and sticks  red states   and some democrats in washington have been calling on party to concentrate its efforts on rural voters  photos  l</td>\n",
       "    </tr>\n",
       "    <tr>\n",
       "      <th>291537</th>\n",
       "      <td>2002-09-15</td>\n",
       "      <td>'Sharon'  Ariel Sharon was born on February 27, 1928, son of Samuil and Dvora Scheinerman, in Kfar Malal, a small agricultural community, or moshav , in central Palestine, some fifteen miles northeast of Tel Aviv on the coastal Plain of Sharon.  \"Sharon grew up during the time when the Yishuv (as the Palestine Jewish community was called prior to the establishment of the State of Israel) was literally fighting for its survival.\"</td>\n",
       "      <td>sharon   ariel sharon was born on february 27  1928  son of samuil and dvora scheinerman  in kfar malal  a small agricultural community  or moshav   in central palestine  some fifteen miles northeast of tel aviv on the coastal plain of sharon    sharon grew up during the time when the yishuv  as the palestine jewish community was called prior to the establishment of the state of israel  was literally fighting for its survival</td>\n",
       "    </tr>\n",
       "    <tr>\n",
       "      <th>291538</th>\n",
       "      <td>2002-09-15</td>\n",
       "      <td>Fordham Shows Colgate It Has Come A Long Way From 0-11 In the week leading up to Fordham's Patriot League opener against perennial power Colgate, Rams Coach Dave Clawson stressed to his team that the league title would not be won or lost in one game. But his players could be forgiven if they had this game circled on the schedule. Fordham University defeats Colgate University, 40-31; Pittsburgh University defeats Alabama-Birmingham University, 26-20; West Virginia University defeats Cincinnati University, 35-32; Hofstra University defeats New Hampshire University, 52-28; Nevada University defeats Brigham Young University, 31-28; Alabama University defeats North Texas University, 33-7 (M)</td>\n",
       "      <td>fordham shows colgate it has come a long way from 0 11 in the week leading up to fordham s patriot league opener against perennial power colgate  rams coach dave clawson stressed to his team that the league title would not be won or lost in one game  but his players could be forgiven if they had this game circled on the schedule  fordham university defeats colgate university  40 31  pittsburgh university defeats alabama birmingham university  26 20  west virginia university defeats cincinnati university  35 32  hofstra university defeats new hampshire university  52 28  nevada university defeats brigham young university  31 28  alabama university defeats north texas university  33 7  m</td>\n",
       "    </tr>\n",
       "    <tr>\n",
       "      <th>291539</th>\n",
       "      <td>2002-09-15</td>\n",
       "      <td>Sept. 8-14  NATIONAL  ONE YEAR LATER Americans commemorated the Sept. 11, 2001 terror attacks by attending patriotic ceremonies, joining interfaith prayer services and spending quiet moments with friends and relatives.</td>\n",
       "      <td>sept  8 14  national  one year later americans commemorated the sept  11  2001 terror attacks by attending patriotic ceremonies  joining interfaith prayer services and spending quiet moments with friends and relatives</td>\n",
       "    </tr>\n",
       "    <tr>\n",
       "      <th>291540</th>\n",
       "      <td>2002-09-15</td>\n",
       "      <td>Saying Kaddish To the Editor: Michael Bernet letter disputes Judith Shulevitz's comment about Leon Wieseltier's book Kaddish in August 25 article on books about religion and faith</td>\n",
       "      <td>saying kaddish to the editor  michael bernet letter disputes judith shulevitz s comment about leon wieseltier s book kaddish in august 25 article on books about religion and faith</td>\n",
       "    </tr>\n",
       "  </tbody>\n",
       "</table>\n",
       "</div>"
      ],
      "text/plain": [
       "              date  \\\n",
       "291536  2002-09-15   \n",
       "291537  2002-09-15   \n",
       "291538  2002-09-15   \n",
       "291539  2002-09-15   \n",
       "291540  2002-09-15   \n",
       "\n",
       "                                                                                                                                                                                                                                                                                                                                                                                                                                                                                                                                                                                                                                                                                                                                                                                                                                                                         all_text  \\\n",
       "291536  Nascar-Lovin Lincoln Davis is running for Congress in central Tennessee, in the district where they've been distilling Jack Daniel's whiskey since 1866. Davis is a Democrat, and he knew from the start that if he was going to win the race for an open seat, he was going to have to get past the wine-and-cheese stereotype that Democrats carry in rural America. Democrats running in 50 or so close House and Senate races in November, many of them in rural districts and states, are running away from their own party's traditional ideology in effort to overcome perception that they are in league with effete urban liberals; 2000 election map highlighted deep cultural tension between cities (blue states) and sticks (red states), and some Democrats in Washington have been calling on party to concentrate its efforts on rural voters; photos (L)   \n",
       "291537                                                                                                                                                                                                                                                                                                                                                                                                                           'Sharon'  Ariel Sharon was born on February 27, 1928, son of Samuil and Dvora Scheinerman, in Kfar Malal, a small agricultural community, or moshav , in central Palestine, some fifteen miles northeast of Tel Aviv on the coastal Plain of Sharon.  \"Sharon grew up during the time when the Yishuv (as the Palestine Jewish community was called prior to the establishment of the State of Israel) was literally fighting for its survival.\"   \n",
       "291538                                                                                                                                                    Fordham Shows Colgate It Has Come A Long Way From 0-11 In the week leading up to Fordham's Patriot League opener against perennial power Colgate, Rams Coach Dave Clawson stressed to his team that the league title would not be won or lost in one game. But his players could be forgiven if they had this game circled on the schedule. Fordham University defeats Colgate University, 40-31; Pittsburgh University defeats Alabama-Birmingham University, 26-20; West Virginia University defeats Cincinnati University, 35-32; Hofstra University defeats New Hampshire University, 52-28; Nevada University defeats Brigham Young University, 31-28; Alabama University defeats North Texas University, 33-7 (M)   \n",
       "291539                                                                                                                                                                                                                                                                                                                                                                                                                                                                                                                                                                                                                                                 Sept. 8-14  NATIONAL  ONE YEAR LATER Americans commemorated the Sept. 11, 2001 terror attacks by attending patriotic ceremonies, joining interfaith prayer services and spending quiet moments with friends and relatives.   \n",
       "291540                                                                                                                                                                                                                                                                                                                                                                                                                                                                                                                                                                                                                                                                                        Saying Kaddish To the Editor: Michael Bernet letter disputes Judith Shulevitz's comment about Leon Wieseltier's book Kaddish in August 25 article on books about religion and faith   \n",
       "\n",
       "                                                                                                                                                                                                                                                                                                                                                                                                                                                                                                                                                                                                                                                                                                                                                                                                                                                                       clean_text  \n",
       "291536  nascar lovin lincoln davis is running for congress in central tennessee  in the district where they ve been distilling jack daniel s whiskey since 1866  davis is a democrat  and he knew from the start that if he was going to win the race for an open seat  he was going to have to get past the wine and cheese stereotype that democrats carry in rural america  democrats running in 50 or so close house and senate races in november  many of them in rural districts and states  are running away from their own party s traditional ideology in effort to overcome perception that they are in league with effete urban liberals  2000 election map highlighted deep cultural tension between cities  blue states  and sticks  red states   and some democrats in washington have been calling on party to concentrate its efforts on rural voters  photos  l   \n",
       "291537                                                                                                                                                                                                                                                                                                                                                                                                                            sharon   ariel sharon was born on february 27  1928  son of samuil and dvora scheinerman  in kfar malal  a small agricultural community  or moshav   in central palestine  some fifteen miles northeast of tel aviv on the coastal plain of sharon    sharon grew up during the time when the yishuv  as the palestine jewish community was called prior to the establishment of the state of israel  was literally fighting for its survival    \n",
       "291538                                                                                                                                                    fordham shows colgate it has come a long way from 0 11 in the week leading up to fordham s patriot league opener against perennial power colgate  rams coach dave clawson stressed to his team that the league title would not be won or lost in one game  but his players could be forgiven if they had this game circled on the schedule  fordham university defeats colgate university  40 31  pittsburgh university defeats alabama birmingham university  26 20  west virginia university defeats cincinnati university  35 32  hofstra university defeats new hampshire university  52 28  nevada university defeats brigham young university  31 28  alabama university defeats north texas university  33 7  m   \n",
       "291539                                                                                                                                                                                                                                                                                                                                                                                                                                                                                                                                                                                                                                                 sept  8 14  national  one year later americans commemorated the sept  11  2001 terror attacks by attending patriotic ceremonies  joining interfaith prayer services and spending quiet moments with friends and relatives   \n",
       "291540                                                                                                                                                                                                                                                                                                                                                                                                                                                                                                                                                                                                                                                                                        saying kaddish to the editor  michael bernet letter disputes judith shulevitz s comment about leon wieseltier s book kaddish in august 25 article on books about religion and faith  "
      ]
     },
     "execution_count": 19,
     "metadata": {},
     "output_type": "execute_result"
    }
   ],
   "source": [
    "chunks2[33].head()"
   ]
  },
  {
   "cell_type": "code",
   "execution_count": 20,
   "id": "4606941c-b713-43f7-bb5d-aaeaa47d42b3",
   "metadata": {},
   "outputs": [
    {
     "name": "stdout",
     "output_type": "stream",
     "text": [
      "Processing chunk 1, rows: 22\n",
      "Processing chunk 11, rows: 22\n",
      "Processing chunk 21, rows: 22\n",
      "Processing chunk 31, rows: 22\n",
      "Processing chunk 41, rows: 22\n",
      "Processing chunk 51, rows: 22\n",
      "Processing chunk 61, rows: 22\n",
      "Processing chunk 71, rows: 22\n",
      "Processing chunk 81, rows: 22\n",
      "Processing chunk 91, rows: 22\n"
     ]
    },
    {
     "name": "stderr",
     "output_type": "stream",
     "text": [
      "/Users/rodrigoesparza/Documents/NCI/Tesis/nci_tesis/lib/python3.13/site-packages/numpy/_core/fromnumeric.py:57: FutureWarning: 'DataFrame.swapaxes' is deprecated and will be removed in a future version. Please use 'DataFrame.transpose' instead.\n",
      "  return bound(*args, **kwds)\n"
     ]
    }
   ],
   "source": [
    "error_chunks = np.array_split(chunks2[33], 100)\n",
    "\n",
    "for i, chunk in enumerate(error_chunks):\n",
    "    if i % 10 == 0:\n",
    "        print(f\"Processing chunk {i + 1}, rows: {len(chunk)}\")"
   ]
  },
  {
   "cell_type": "code",
   "execution_count": 21,
   "id": "764a812a-a589-4e97-8143-bb31e4564c3f",
   "metadata": {},
   "outputs": [
    {
     "name": "stdout",
     "output_type": "stream",
     "text": [
      "Chunk 0 DONEEE!!!\n",
      "Chunk 10 DONEEE!!!\n",
      "Chunk 20 DONEEE!!!\n",
      "Chunk 30 DONEEE!!!\n",
      "Error in chunk: 33\n",
      "[E088] Text of length 1008193 exceeds maximum of 1000000. The parser and NER models require roughly 1GB of temporary memory per 100,000 characters in the input. This means long texts may cause memory allocation errors. If you're not using the parser or NER, it's probably safe to increase the `nlp.max_length` limit. The limit is in number of characters, so you can check whether your inputs are too long by checking `len(text)`.\n",
      "Chunk 40 DONEEE!!!\n",
      "Chunk 50 DONEEE!!!\n",
      "Chunk 60 DONEEE!!!\n",
      "Chunk 70 DONEEE!!!\n",
      "Chunk 80 DONEEE!!!\n",
      "Chunk 90 DONEEE!!!\n"
     ]
    }
   ],
   "source": [
    "for i, chunk in enumerate(error_chunks):\n",
    "    try: \n",
    "        chunk['clean_text'] = chunk['clean_text'].apply(token_lemma_nonstops)\n",
    "        if i % 10 == 0:\n",
    "            print(f\"Chunk {i} DONEEE!!!\")\n",
    "    except Exception as e:\n",
    "        print(\"Error in chunk:\", i )\n",
    "        print(e)\n",
    "        \n",
    "    df_chunk = pd.concat(error_chunks, ignore_index=True) \n",
    "    filname = \"../Data/Preprocessed/df_chunk_error.csv\"\n",
    "    df_chunk.to_csv(filname)"
   ]
  },
  {
   "cell_type": "code",
   "execution_count": 22,
   "id": "fa925c53-b2be-4c5a-879a-779ec07ada93",
   "metadata": {},
   "outputs": [
    {
     "name": "stdout",
     "output_type": "stream",
     "text": [
      "Processing chunk 1, rows: 1\n",
      "Processing chunk 2, rows: 1\n",
      "Processing chunk 3, rows: 1\n",
      "Processing chunk 4, rows: 1\n",
      "Processing chunk 5, rows: 1\n",
      "Processing chunk 6, rows: 1\n",
      "Processing chunk 7, rows: 1\n",
      "Processing chunk 8, rows: 1\n",
      "Processing chunk 9, rows: 1\n",
      "Processing chunk 10, rows: 1\n",
      "Processing chunk 11, rows: 1\n",
      "Processing chunk 12, rows: 1\n",
      "Processing chunk 13, rows: 1\n",
      "Processing chunk 14, rows: 1\n",
      "Processing chunk 15, rows: 1\n",
      "Processing chunk 16, rows: 1\n",
      "Processing chunk 17, rows: 1\n",
      "Processing chunk 18, rows: 1\n",
      "Processing chunk 19, rows: 1\n",
      "Processing chunk 20, rows: 1\n",
      "Processing chunk 21, rows: 1\n",
      "Processing chunk 22, rows: 1\n"
     ]
    }
   ],
   "source": [
    "error_chunks_2 = np.array_split(error_chunks[33], 22)\n",
    "\n",
    "for i, chunk in enumerate(error_chunks_2):\n",
    "    print(f\"Processing chunk {i + 1}, rows: {len(chunk)}\")"
   ]
  },
  {
   "cell_type": "code",
   "execution_count": 23,
   "id": "d05d5579-8674-492f-a8a8-72fb3f4c99ff",
   "metadata": {},
   "outputs": [
    {
     "name": "stdout",
     "output_type": "stream",
     "text": [
      "Chunk 0 DONEEE!!!\n",
      "Chunk 4 DONEEE!!!\n",
      "Chunk 8 DONEEE!!!\n",
      "Chunk 12 DONEEE!!!\n",
      "Error in chunk: 15\n",
      "[E088] Text of length 1008193 exceeds maximum of 1000000. The parser and NER models require roughly 1GB of temporary memory per 100,000 characters in the input. This means long texts may cause memory allocation errors. If you're not using the parser or NER, it's probably safe to increase the `nlp.max_length` limit. The limit is in number of characters, so you can check whether your inputs are too long by checking `len(text)`.\n",
      "Chunk 16 DONEEE!!!\n",
      "Chunk 20 DONEEE!!!\n"
     ]
    }
   ],
   "source": [
    "for i, chunk in enumerate(error_chunks_2):\n",
    "    try: \n",
    "        chunk['clean_text'] = chunk['clean_text'].apply(token_lemma_nonstops)\n",
    "        if i % 4 == 0:\n",
    "            print(f\"Chunk {i} DONEEE!!!\")\n",
    "    except Exception as e:\n",
    "        print(\"Error in chunk:\", i )\n",
    "        print(e)\n",
    "        \n",
    "    df_chunk = pd.concat(error_chunks, ignore_index=True) \n",
    "    filname = \"../Data/Preprocessed/df_chunk_error_2.csv\"\n",
    "    df_chunk.to_csv(filname)"
   ]
  },
  {
   "cell_type": "code",
   "execution_count": 24,
   "id": "e3cd7275-d50e-44c3-b8f2-490e2539d2c2",
   "metadata": {},
   "outputs": [
    {
     "name": "stdout",
     "output_type": "stream",
     "text": [
      "[E088] Text of length 1008193 exceeds maximum of 1000000. The parser and NER models require roughly 1GB of temporary memory per 100,000 characters in the input. This means long texts may cause memory allocation errors. If you're not using the parser or NER, it's probably safe to increase the `nlp.max_length` limit. The limit is in number of characters, so you can check whether your inputs are too long by checking `len(text)`.\n"
     ]
    }
   ],
   "source": [
    "error_chunks_3 = error_chunks_2[15]\n",
    "try: \n",
    "    error_chunks_3['clean_text'] = error_chunks_3['clean_text'].apply(token_lemma_nonstops)\n",
    "except Exception as e:\n",
    "    print(e)"
   ]
  },
  {
   "cell_type": "code",
   "execution_count": 25,
   "id": "e0cf5b9f-e109-4e22-97b5-347c53367ae7",
   "metadata": {},
   "outputs": [
    {
     "data": {
      "text/plain": [
       "1"
      ]
     },
     "execution_count": 25,
     "metadata": {},
     "output_type": "execute_result"
    }
   ],
   "source": [
    "len(error_chunks_3)"
   ]
  },
  {
   "cell_type": "code",
   "execution_count": 39,
   "id": "b5e44f22-be3a-43e4-84ac-5781097056bb",
   "metadata": {},
   "outputs": [
    {
     "data": {
      "text/plain": [
       "1008235"
      ]
     },
     "execution_count": 39,
     "metadata": {},
     "output_type": "execute_result"
    }
   ],
   "source": [
    "len(str(error_chunks_3['clean_text']))"
   ]
  },
  {
   "cell_type": "code",
   "execution_count": 29,
   "id": "1718b728-1aa8-4ff3-bbd7-5920741fdd10",
   "metadata": {},
   "outputs": [
    {
     "data": {
      "text/plain": [
       "2192"
      ]
     },
     "execution_count": 29,
     "metadata": {},
     "output_type": "execute_result"
    }
   ],
   "source": [
    "len(chunks2[33])"
   ]
  },
  {
   "cell_type": "code",
   "execution_count": 51,
   "id": "3b681807-2e0e-48b2-8386-1a27489c1007",
   "metadata": {},
   "outputs": [
    {
     "name": "stderr",
     "output_type": "stream",
     "text": [
      "/var/folders/gt/_n6gk0zn66v7tnqb9xpcyk_c0000gn/T/ipykernel_22629/1372871497.py:1: FutureWarning: Calling int on a single element Series is deprecated and will raise a TypeError in the future. Use int(ser.iloc[0]) instead\n",
      "  error_long = int(error_chunks_3['clean_text'].astype(str).str.len())\n"
     ]
    }
   ],
   "source": [
    "error_long = int(error_chunks_3['clean_text'].astype(str).str.len())\n",
    "chunks2[33] = chunks2[33][chunks2[33]['clean_text'].astype(str).str.len() < error_long]"
   ]
  },
  {
   "cell_type": "code",
   "execution_count": 52,
   "id": "a42785df-7112-4b43-878f-b3aad85ae436",
   "metadata": {},
   "outputs": [
    {
     "data": {
      "text/plain": [
       "2191"
      ]
     },
     "execution_count": 52,
     "metadata": {},
     "output_type": "execute_result"
    }
   ],
   "source": [
    "len(chunks2[33])"
   ]
  },
  {
   "cell_type": "code",
   "execution_count": 55,
   "id": "869ffbad-a927-414e-8ea3-0495a2486180",
   "metadata": {},
   "outputs": [
    {
     "name": "stdout",
     "output_type": "stream",
     "text": [
      "Chunk 0 DONEEE!!!\n",
      "Chunk 10 DONEEE!!!\n",
      "Chunk 20 DONEEE!!!\n",
      "Chunk 30 DONEEE!!!\n",
      "Chunk 40 DONEEE!!!\n",
      "Chunk 50 DONEEE!!!\n",
      "Chunk 60 DONEEE!!!\n",
      "Chunk 70 DONEEE!!!\n",
      "Chunk 80 DONEEE!!!\n",
      "Chunk 90 DONEEE!!!\n"
     ]
    }
   ],
   "source": [
    "for i, chunk in enumerate(chunks2):\n",
    "    try: \n",
    "        chunk['clean_text'] = chunk['clean_text'].apply(token_lemma_nonstops)\n",
    "        if i % 10 == 0:\n",
    "            print(f\"Chunk {i} DONEEE!!!\")\n",
    "    except Exception as e:\n",
    "        print(\"Error in chunk:\", i )\n",
    "        print(e)\n",
    "            \n",
    "    df_chunk2 = pd.concat(chunks2, ignore_index=True) \n",
    "    filname = \"../Data/Preprocessed/df_chunk2.csv\"\n",
    "    df_chunk2.to_csv(filname)"
   ]
  },
  {
   "cell_type": "code",
   "execution_count": 3,
   "id": "de6b1510-d352-44e9-94ba-1c99ee3faa1b",
   "metadata": {},
   "outputs": [],
   "source": [
    "#pd.read_csv('../Data/Original/nyt-metadata.csv')\n",
    "df_chunk1 = pd.read_csv('../Data/Preprocessed/df_chunk1.csv')\n",
    "df_chunk2 = pd.read_csv('../Data/Preprocessed/df_chunk2.csv')\n",
    "df_chunk3 = pd.read_csv('../Data/Preprocessed/df_chunk3.csv')\n",
    "df_chunk4 = pd.read_csv('../Data/Preprocessed/df_chunk4.csv')\n",
    "df_chunk5 = pd.read_csv('../Data/Preprocessed/df_chunk5.csv')\n",
    "df_chunk6 = pd.read_csv('../Data/Preprocessed/df_chunk6.csv')\n",
    "df_chunk7 = pd.read_csv('../Data/Preprocessed/df_chunk7.csv')\n",
    "df_chunk8 = pd.read_csv('../Data/Preprocessed/df_chunk8.csv')\n",
    "df_chunk9 = pd.read_csv('../Data/Preprocessed/df_chunk9.csv')\n",
    "df_chunk10 = pd.read_csv('../Data/Preprocessed/df_chunk10.csv')"
   ]
  },
  {
   "cell_type": "code",
   "execution_count": 4,
   "id": "6076afc1-927a-4de0-9af1-3fdbbe6bedc2",
   "metadata": {},
   "outputs": [],
   "source": [
    "nyt_news_clean = pd.concat([df_chunk1,df_chunk2,df_chunk3,df_chunk4,df_chunk5,df_chunk6,df_chunk7,df_chunk8,df_chunk9,df_chunk10])"
   ]
  },
  {
   "cell_type": "code",
   "execution_count": 17,
   "id": "a2dbf910-cf6d-44b3-a618-615d90698d2b",
   "metadata": {},
   "outputs": [
    {
     "data": {
      "text/plain": [
       "(2189675, 4)"
      ]
     },
     "execution_count": 17,
     "metadata": {},
     "output_type": "execute_result"
    }
   ],
   "source": [
    "nyt_news_clean.shape"
   ]
  },
  {
   "cell_type": "code",
   "execution_count": 19,
   "id": "26e11727-b628-4885-8cd9-f5bc684dc1bc",
   "metadata": {},
   "outputs": [
    {
     "data": {
      "text/plain": [
       "(2189674, 4)"
      ]
     },
     "execution_count": 19,
     "metadata": {},
     "output_type": "execute_result"
    }
   ],
   "source": [
    "nyt_news_clean = nyt_news_clean[nyt_news_clean['date'] != 'Sports']\n",
    "nyt_news_clean.shape"
   ]
  },
  {
   "cell_type": "code",
   "execution_count": 20,
   "id": "70def916-da3a-4c9b-b308-cbc1f976f66c",
   "metadata": {},
   "outputs": [],
   "source": [
    "nyt_news_clean['date'] = pd.to_datetime(nyt_news_clean['date'], format='%Y-%m-%d')"
   ]
  },
  {
   "cell_type": "code",
   "execution_count": 21,
   "id": "243c55fc-07f9-4d25-afc5-0f61478d6358",
   "metadata": {},
   "outputs": [
    {
     "name": "stdout",
     "output_type": "stream",
     "text": [
      "Oldst Date:  2000-01-01 00:00:00\n",
      "Recent Date:  2024-12-14 00:00:00\n"
     ]
    }
   ],
   "source": [
    "print(\"Oldst Date: \", nyt_news_clean['date'].min())\n",
    "print(\"Recent Date: \", nyt_news_clean['date'].max())"
   ]
  },
  {
   "cell_type": "code",
   "execution_count": 22,
   "id": "6312fd54-7081-4054-8d1e-8842f10d5b2d",
   "metadata": {},
   "outputs": [],
   "source": [
    "nyt_news_clean.to_csv('../Data/Preprocessed/clean-nyt-news.csv')"
   ]
  }
 ],
 "metadata": {
  "kernelspec": {
   "display_name": "nci_tesis",
   "language": "python",
   "name": "nci_tesis"
  },
  "language_info": {
   "codemirror_mode": {
    "name": "ipython",
    "version": 3
   },
   "file_extension": ".py",
   "mimetype": "text/x-python",
   "name": "python",
   "nbconvert_exporter": "python",
   "pygments_lexer": "ipython3",
   "version": "3.13.5"
  }
 },
 "nbformat": 4,
 "nbformat_minor": 5
}
