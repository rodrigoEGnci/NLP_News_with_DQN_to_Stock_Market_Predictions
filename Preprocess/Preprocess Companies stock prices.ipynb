{
 "cells": [
  {
   "cell_type": "markdown",
   "id": "a722f60e-7baa-4c5d-88ef-7874875e7a9f",
   "metadata": {},
   "source": [
    "# Preprocess of Companies Stock Proces DataSets"
   ]
  },
  {
   "cell_type": "code",
   "execution_count": 1,
   "id": "b8fd9ff8-1558-471e-9b98-7c601edbc135",
   "metadata": {},
   "outputs": [],
   "source": [
    "import pandas as pd\n",
    "import numpy as np\n",
    "from datetime import datetime, timedelta"
   ]
  },
  {
   "cell_type": "code",
   "execution_count": 48,
   "id": "8146e40f-db32-4ad2-9dc7-66ae8ecf506c",
   "metadata": {},
   "outputs": [
    {
     "data": {
      "text/html": [
       "<div>\n",
       "<style scoped>\n",
       "    .dataframe tbody tr th:only-of-type {\n",
       "        vertical-align: middle;\n",
       "    }\n",
       "\n",
       "    .dataframe tbody tr th {\n",
       "        vertical-align: top;\n",
       "    }\n",
       "\n",
       "    .dataframe thead th {\n",
       "        text-align: right;\n",
       "    }\n",
       "</style>\n",
       "<table border=\"1\" class=\"dataframe\">\n",
       "  <thead>\n",
       "    <tr style=\"text-align: right;\">\n",
       "      <th></th>\n",
       "      <th>Date</th>\n",
       "      <th>Open</th>\n",
       "      <th>High</th>\n",
       "      <th>Low</th>\n",
       "      <th>Close</th>\n",
       "      <th>Volume</th>\n",
       "      <th>Dividends</th>\n",
       "      <th>Stock Splits</th>\n",
       "      <th>Ticker</th>\n",
       "      <th>Capital Gains</th>\n",
       "    </tr>\n",
       "  </thead>\n",
       "  <tbody>\n",
       "    <tr>\n",
       "      <th>0</th>\n",
       "      <td>1999-07-26 00:00:00-04:00</td>\n",
       "      <td>27.240422</td>\n",
       "      <td>27.527769</td>\n",
       "      <td>26.857294</td>\n",
       "      <td>26.857294</td>\n",
       "      <td>50885000</td>\n",
       "      <td>0.0</td>\n",
       "      <td>0.0</td>\n",
       "      <td>MSFT</td>\n",
       "      <td>NaN</td>\n",
       "    </tr>\n",
       "    <tr>\n",
       "      <th>1</th>\n",
       "      <td>1999-07-27 00:00:00-04:00</td>\n",
       "      <td>27.221262</td>\n",
       "      <td>27.508608</td>\n",
       "      <td>26.972229</td>\n",
       "      <td>27.221262</td>\n",
       "      <td>65513000</td>\n",
       "      <td>0.0</td>\n",
       "      <td>0.0</td>\n",
       "      <td>MSFT</td>\n",
       "      <td>NaN</td>\n",
       "    </tr>\n",
       "    <tr>\n",
       "      <th>2</th>\n",
       "      <td>1999-07-28 00:00:00-04:00</td>\n",
       "      <td>27.336208</td>\n",
       "      <td>27.738493</td>\n",
       "      <td>27.087174</td>\n",
       "      <td>27.585241</td>\n",
       "      <td>62215200</td>\n",
       "      <td>0.0</td>\n",
       "      <td>0.0</td>\n",
       "      <td>MSFT</td>\n",
       "      <td>NaN</td>\n",
       "    </tr>\n",
       "    <tr>\n",
       "      <th>3</th>\n",
       "      <td>1999-07-29 00:00:00-04:00</td>\n",
       "      <td>27.182956</td>\n",
       "      <td>27.221268</td>\n",
       "      <td>26.455012</td>\n",
       "      <td>26.646576</td>\n",
       "      <td>57968200</td>\n",
       "      <td>0.0</td>\n",
       "      <td>0.0</td>\n",
       "      <td>MSFT</td>\n",
       "      <td>NaN</td>\n",
       "    </tr>\n",
       "    <tr>\n",
       "      <th>4</th>\n",
       "      <td>1999-07-30 00:00:00-04:00</td>\n",
       "      <td>26.857304</td>\n",
       "      <td>27.163806</td>\n",
       "      <td>26.205985</td>\n",
       "      <td>26.301767</td>\n",
       "      <td>51127400</td>\n",
       "      <td>0.0</td>\n",
       "      <td>0.0</td>\n",
       "      <td>MSFT</td>\n",
       "      <td>NaN</td>\n",
       "    </tr>\n",
       "  </tbody>\n",
       "</table>\n",
       "</div>"
      ],
      "text/plain": [
       "                        Date       Open       High        Low      Close  \\\n",
       "0  1999-07-26 00:00:00-04:00  27.240422  27.527769  26.857294  26.857294   \n",
       "1  1999-07-27 00:00:00-04:00  27.221262  27.508608  26.972229  27.221262   \n",
       "2  1999-07-28 00:00:00-04:00  27.336208  27.738493  27.087174  27.585241   \n",
       "3  1999-07-29 00:00:00-04:00  27.182956  27.221268  26.455012  26.646576   \n",
       "4  1999-07-30 00:00:00-04:00  26.857304  27.163806  26.205985  26.301767   \n",
       "\n",
       "     Volume  Dividends  Stock Splits Ticker  Capital Gains  \n",
       "0  50885000        0.0           0.0   MSFT            NaN  \n",
       "1  65513000        0.0           0.0   MSFT            NaN  \n",
       "2  62215200        0.0           0.0   MSFT            NaN  \n",
       "3  57968200        0.0           0.0   MSFT            NaN  \n",
       "4  51127400        0.0           0.0   MSFT            NaN  "
      ]
     },
     "execution_count": 48,
     "metadata": {},
     "output_type": "execute_result"
    }
   ],
   "source": [
    "stocks_df = pd.read_csv('../Data/Original/companies_stock_prices.csv')\n",
    "stocks_df.head()"
   ]
  },
  {
   "cell_type": "code",
   "execution_count": 49,
   "id": "077e4a0f-10b8-4778-9028-7541dc00c4c3",
   "metadata": {},
   "outputs": [],
   "source": [
    "#Modify date to Analysis\n",
    "stocks_df['Date'] = pd.to_datetime(stocks_df['Date'], utc=True)\n",
    "#stocks_df['Date'] = stocks_df['Date'].dt.date"
   ]
  },
  {
   "cell_type": "code",
   "execution_count": 50,
   "id": "bfb1ff42-89ec-42d9-9777-16b3fd8881f8",
   "metadata": {},
   "outputs": [
    {
     "data": {
      "text/plain": [
       "0    1999-07-26\n",
       "1    1999-07-27\n",
       "Name: Date, dtype: object"
      ]
     },
     "execution_count": 50,
     "metadata": {},
     "output_type": "execute_result"
    }
   ],
   "source": [
    "stocks_df['Date'] = stocks_df['Date'].dt.date\n",
    "stocks_df['Date'].head(2)"
   ]
  },
  {
   "cell_type": "markdown",
   "id": "514447f2-67f5-43bb-b378-f3955ce6faea",
   "metadata": {},
   "source": [
    "### Clean Dataset"
   ]
  },
  {
   "cell_type": "code",
   "execution_count": 51,
   "id": "8db16499-b2ee-42f0-b788-a83f90661a26",
   "metadata": {},
   "outputs": [
    {
     "data": {
      "text/plain": [
       "0    1999-07-26\n",
       "1    1999-07-27\n",
       "Name: Date, dtype: object"
      ]
     },
     "execution_count": 51,
     "metadata": {},
     "output_type": "execute_result"
    }
   ],
   "source": [
    "#Set Date Format\n",
    "stocks_df['Date'] = pd.to_datetime(stocks_df['Date'], errors='coerce')\n",
    "stocks_df['Date'] = stocks_df['Date'].dt.date\n",
    "stocks_df['Date'].head(2)"
   ]
  },
  {
   "cell_type": "code",
   "execution_count": 52,
   "id": "2542912b-565a-442e-bb17-1075bc7026f6",
   "metadata": {},
   "outputs": [
    {
     "data": {
      "text/html": [
       "<div>\n",
       "<style scoped>\n",
       "    .dataframe tbody tr th:only-of-type {\n",
       "        vertical-align: middle;\n",
       "    }\n",
       "\n",
       "    .dataframe tbody tr th {\n",
       "        vertical-align: top;\n",
       "    }\n",
       "\n",
       "    .dataframe thead th {\n",
       "        text-align: right;\n",
       "    }\n",
       "</style>\n",
       "<table border=\"1\" class=\"dataframe\">\n",
       "  <thead>\n",
       "    <tr style=\"text-align: right;\">\n",
       "      <th></th>\n",
       "      <th>Close_JNJ</th>\n",
       "      <th>Close_JPM</th>\n",
       "      <th>Close_MSFT</th>\n",
       "      <th>Close_PG</th>\n",
       "      <th>Close_SPY</th>\n",
       "      <th>Close_XOM</th>\n",
       "      <th>High_JNJ</th>\n",
       "      <th>High_JPM</th>\n",
       "      <th>High_MSFT</th>\n",
       "      <th>High_PG</th>\n",
       "      <th>High_SPY</th>\n",
       "      <th>High_XOM</th>\n",
       "      <th>Low_JNJ</th>\n",
       "      <th>Low_JPM</th>\n",
       "      <th>Low_MSFT</th>\n",
       "      <th>Low_PG</th>\n",
       "      <th>Low_SPY</th>\n",
       "      <th>Low_XOM</th>\n",
       "    </tr>\n",
       "    <tr>\n",
       "      <th>Date</th>\n",
       "      <th></th>\n",
       "      <th></th>\n",
       "      <th></th>\n",
       "      <th></th>\n",
       "      <th></th>\n",
       "      <th></th>\n",
       "      <th></th>\n",
       "      <th></th>\n",
       "      <th></th>\n",
       "      <th></th>\n",
       "      <th></th>\n",
       "      <th></th>\n",
       "      <th></th>\n",
       "      <th></th>\n",
       "      <th></th>\n",
       "      <th></th>\n",
       "      <th></th>\n",
       "      <th></th>\n",
       "    </tr>\n",
       "  </thead>\n",
       "  <tbody>\n",
       "    <tr>\n",
       "      <th>1999-07-26</th>\n",
       "      <td>24.889208</td>\n",
       "      <td>26.153475</td>\n",
       "      <td>26.857294</td>\n",
       "      <td>22.246281</td>\n",
       "      <td>84.923210</td>\n",
       "      <td>17.306868</td>\n",
       "      <td>25.017173</td>\n",
       "      <td>26.252092</td>\n",
       "      <td>27.527769</td>\n",
       "      <td>22.485146</td>\n",
       "      <td>85.789774</td>\n",
       "      <td>17.889310</td>\n",
       "      <td>24.777238</td>\n",
       "      <td>25.325084</td>\n",
       "      <td>26.857294</td>\n",
       "      <td>22.166659</td>\n",
       "      <td>84.844432</td>\n",
       "      <td>17.265265</td>\n",
       "    </tr>\n",
       "    <tr>\n",
       "      <th>1999-07-27</th>\n",
       "      <td>24.761236</td>\n",
       "      <td>26.429611</td>\n",
       "      <td>27.221262</td>\n",
       "      <td>22.453300</td>\n",
       "      <td>85.632195</td>\n",
       "      <td>17.209791</td>\n",
       "      <td>25.065153</td>\n",
       "      <td>26.626848</td>\n",
       "      <td>27.508608</td>\n",
       "      <td>22.660317</td>\n",
       "      <td>86.469216</td>\n",
       "      <td>17.445542</td>\n",
       "      <td>24.681258</td>\n",
       "      <td>26.114035</td>\n",
       "      <td>26.972229</td>\n",
       "      <td>22.134814</td>\n",
       "      <td>85.317081</td>\n",
       "      <td>17.112717</td>\n",
       "    </tr>\n",
       "    <tr>\n",
       "      <th>1999-07-28</th>\n",
       "      <td>24.505304</td>\n",
       "      <td>26.173203</td>\n",
       "      <td>27.585241</td>\n",
       "      <td>21.943720</td>\n",
       "      <td>85.907906</td>\n",
       "      <td>17.514881</td>\n",
       "      <td>24.633269</td>\n",
       "      <td>26.607120</td>\n",
       "      <td>27.738493</td>\n",
       "      <td>22.389601</td>\n",
       "      <td>86.538133</td>\n",
       "      <td>17.695161</td>\n",
       "      <td>24.409331</td>\n",
       "      <td>26.133754</td>\n",
       "      <td>27.087174</td>\n",
       "      <td>21.943720</td>\n",
       "      <td>85.454929</td>\n",
       "      <td>17.112718</td>\n",
       "    </tr>\n",
       "    <tr>\n",
       "      <th>1999-07-29</th>\n",
       "      <td>23.865486</td>\n",
       "      <td>25.325098</td>\n",
       "      <td>26.646576</td>\n",
       "      <td>22.453300</td>\n",
       "      <td>84.706596</td>\n",
       "      <td>17.279131</td>\n",
       "      <td>24.169403</td>\n",
       "      <td>25.956253</td>\n",
       "      <td>27.221268</td>\n",
       "      <td>22.580695</td>\n",
       "      <td>85.238351</td>\n",
       "      <td>17.390072</td>\n",
       "      <td>23.705530</td>\n",
       "      <td>25.167310</td>\n",
       "      <td>26.455012</td>\n",
       "      <td>21.943722</td>\n",
       "      <td>84.017284</td>\n",
       "      <td>17.182057</td>\n",
       "    </tr>\n",
       "    <tr>\n",
       "      <th>1999-07-30</th>\n",
       "      <td>23.305645</td>\n",
       "      <td>24.319199</td>\n",
       "      <td>26.301767</td>\n",
       "      <td>23.074371</td>\n",
       "      <td>83.662720</td>\n",
       "      <td>17.611959</td>\n",
       "      <td>23.897484</td>\n",
       "      <td>25.048972</td>\n",
       "      <td>27.163806</td>\n",
       "      <td>23.552102</td>\n",
       "      <td>85.297373</td>\n",
       "      <td>17.736769</td>\n",
       "      <td>23.305645</td>\n",
       "      <td>24.062791</td>\n",
       "      <td>26.205985</td>\n",
       "      <td>22.548868</td>\n",
       "      <td>83.544552</td>\n",
       "      <td>17.403944</td>\n",
       "    </tr>\n",
       "  </tbody>\n",
       "</table>\n",
       "</div>"
      ],
      "text/plain": [
       "            Close_JNJ  Close_JPM  Close_MSFT   Close_PG  Close_SPY  Close_XOM  \\\n",
       "Date                                                                            \n",
       "1999-07-26  24.889208  26.153475   26.857294  22.246281  84.923210  17.306868   \n",
       "1999-07-27  24.761236  26.429611   27.221262  22.453300  85.632195  17.209791   \n",
       "1999-07-28  24.505304  26.173203   27.585241  21.943720  85.907906  17.514881   \n",
       "1999-07-29  23.865486  25.325098   26.646576  22.453300  84.706596  17.279131   \n",
       "1999-07-30  23.305645  24.319199   26.301767  23.074371  83.662720  17.611959   \n",
       "\n",
       "             High_JNJ   High_JPM  High_MSFT    High_PG   High_SPY   High_XOM  \\\n",
       "Date                                                                           \n",
       "1999-07-26  25.017173  26.252092  27.527769  22.485146  85.789774  17.889310   \n",
       "1999-07-27  25.065153  26.626848  27.508608  22.660317  86.469216  17.445542   \n",
       "1999-07-28  24.633269  26.607120  27.738493  22.389601  86.538133  17.695161   \n",
       "1999-07-29  24.169403  25.956253  27.221268  22.580695  85.238351  17.390072   \n",
       "1999-07-30  23.897484  25.048972  27.163806  23.552102  85.297373  17.736769   \n",
       "\n",
       "              Low_JNJ    Low_JPM   Low_MSFT     Low_PG    Low_SPY    Low_XOM  \n",
       "Date                                                                          \n",
       "1999-07-26  24.777238  25.325084  26.857294  22.166659  84.844432  17.265265  \n",
       "1999-07-27  24.681258  26.114035  26.972229  22.134814  85.317081  17.112717  \n",
       "1999-07-28  24.409331  26.133754  27.087174  21.943720  85.454929  17.112718  \n",
       "1999-07-29  23.705530  25.167310  26.455012  21.943722  84.017284  17.182057  \n",
       "1999-07-30  23.305645  24.062791  26.205985  22.548868  83.544552  17.403944  "
      ]
     },
     "execution_count": 52,
     "metadata": {},
     "output_type": "execute_result"
    }
   ],
   "source": [
    "clean_stocks_df = stocks_df.pivot_table(index='Date', columns='Ticker', values=['Close', 'High', 'Low'], aggfunc='mean')\n",
    "clean_stocks_df.columns = [f'{col[0]}_{col[1]}' for col in clean_stocks_df.columns]\n",
    "clean_stocks_df.head()"
   ]
  },
  {
   "cell_type": "code",
   "execution_count": 53,
   "id": "4a769955-7306-4c83-80eb-cd1fe7d20dc8",
   "metadata": {},
   "outputs": [],
   "source": [
    "clean_stocks_df.to_csv('../Data/Preprocessed/clean_stock_marcket.csv')"
   ]
  },
  {
   "cell_type": "markdown",
   "id": "3b9c388c-aad6-4242-ac27-fffd74f20403",
   "metadata": {},
   "source": [
    "### Independient DataSets"
   ]
  },
  {
   "cell_type": "markdown",
   "id": "9f5b36b7-f8b9-4804-adb6-cb4b9de8dbb6",
   "metadata": {},
   "source": [
    "### Microsoft"
   ]
  },
  {
   "cell_type": "code",
   "execution_count": 38,
   "id": "4f098830-3b55-4694-b848-aa244e225bd7",
   "metadata": {},
   "outputs": [
    {
     "data": {
      "text/html": [
       "<div>\n",
       "<style scoped>\n",
       "    .dataframe tbody tr th:only-of-type {\n",
       "        vertical-align: middle;\n",
       "    }\n",
       "\n",
       "    .dataframe tbody tr th {\n",
       "        vertical-align: top;\n",
       "    }\n",
       "\n",
       "    .dataframe thead th {\n",
       "        text-align: right;\n",
       "    }\n",
       "</style>\n",
       "<table border=\"1\" class=\"dataframe\">\n",
       "  <thead>\n",
       "    <tr style=\"text-align: right;\">\n",
       "      <th></th>\n",
       "      <th>Date</th>\n",
       "      <th>High</th>\n",
       "      <th>Low</th>\n",
       "      <th>Close</th>\n",
       "    </tr>\n",
       "  </thead>\n",
       "  <tbody>\n",
       "    <tr>\n",
       "      <th>0</th>\n",
       "      <td>1999-06-18</td>\n",
       "      <td>26.052731</td>\n",
       "      <td>25.171535</td>\n",
       "      <td>26.052731</td>\n",
       "    </tr>\n",
       "    <tr>\n",
       "      <th>1</th>\n",
       "      <td>1999-06-21</td>\n",
       "      <td>27.278731</td>\n",
       "      <td>26.014408</td>\n",
       "      <td>27.259575</td>\n",
       "    </tr>\n",
       "    <tr>\n",
       "      <th>2</th>\n",
       "      <td>1999-06-22</td>\n",
       "      <td>27.106340</td>\n",
       "      <td>26.435866</td>\n",
       "      <td>26.512491</td>\n",
       "    </tr>\n",
       "  </tbody>\n",
       "</table>\n",
       "</div>"
      ],
      "text/plain": [
       "         Date       High        Low      Close\n",
       "0  1999-06-18  26.052731  25.171535  26.052731\n",
       "1  1999-06-21  27.278731  26.014408  27.259575\n",
       "2  1999-06-22  27.106340  26.435866  26.512491"
      ]
     },
     "execution_count": 38,
     "metadata": {},
     "output_type": "execute_result"
    }
   ],
   "source": [
    "MSFT_df = stocks_df[stocks_df['Ticker'] == 'MSFT']\n",
    "MSFT_df = MSFT_df.drop(['Open', 'Volume', 'Dividends', 'Stock Splits', 'Ticker'], axis=1)\n",
    "MSFT_df.head(3)"
   ]
  },
  {
   "cell_type": "code",
   "execution_count": 39,
   "id": "a0b521e7-ee21-4ec5-9014-1b431669eaae",
   "metadata": {},
   "outputs": [],
   "source": [
    "MSFT_df.to_csv('../Data/Preprocessed/MSFT_Data.csv')"
   ]
  },
  {
   "cell_type": "markdown",
   "id": "f68156aa-6dc7-4dc1-9133-433e3be6bd0f",
   "metadata": {},
   "source": [
    "### XOM"
   ]
  },
  {
   "cell_type": "code",
   "execution_count": 40,
   "id": "fc60d054-f7dc-47cf-b444-7498941ed263",
   "metadata": {},
   "outputs": [
    {
     "data": {
      "text/html": [
       "<div>\n",
       "<style scoped>\n",
       "    .dataframe tbody tr th:only-of-type {\n",
       "        vertical-align: middle;\n",
       "    }\n",
       "\n",
       "    .dataframe tbody tr th {\n",
       "        vertical-align: top;\n",
       "    }\n",
       "\n",
       "    .dataframe thead th {\n",
       "        text-align: right;\n",
       "    }\n",
       "</style>\n",
       "<table border=\"1\" class=\"dataframe\">\n",
       "  <thead>\n",
       "    <tr style=\"text-align: right;\">\n",
       "      <th></th>\n",
       "      <th>Date</th>\n",
       "      <th>High</th>\n",
       "      <th>Low</th>\n",
       "      <th>Close</th>\n",
       "    </tr>\n",
       "  </thead>\n",
       "  <tbody>\n",
       "    <tr>\n",
       "      <th>6535</th>\n",
       "      <td>1999-06-18</td>\n",
       "      <td>18.222138</td>\n",
       "      <td>17.792240</td>\n",
       "      <td>17.833843</td>\n",
       "    </tr>\n",
       "    <tr>\n",
       "      <th>6536</th>\n",
       "      <td>1999-06-21</td>\n",
       "      <td>17.722897</td>\n",
       "      <td>17.168190</td>\n",
       "      <td>17.362337</td>\n",
       "    </tr>\n",
       "    <tr>\n",
       "      <th>6537</th>\n",
       "      <td>1999-06-22</td>\n",
       "      <td>17.279133</td>\n",
       "      <td>17.043383</td>\n",
       "      <td>17.084986</td>\n",
       "    </tr>\n",
       "  </tbody>\n",
       "</table>\n",
       "</div>"
      ],
      "text/plain": [
       "            Date       High        Low      Close\n",
       "6535  1999-06-18  18.222138  17.792240  17.833843\n",
       "6536  1999-06-21  17.722897  17.168190  17.362337\n",
       "6537  1999-06-22  17.279133  17.043383  17.084986"
      ]
     },
     "execution_count": 40,
     "metadata": {},
     "output_type": "execute_result"
    }
   ],
   "source": [
    "XOM_df = stocks_df[stocks_df['Ticker'] == 'XOM']\n",
    "XOM_df = XOM_df.drop(['Open', 'Volume', 'Dividends', 'Stock Splits', 'Ticker'], axis=1)\n",
    "XOM_df.head(3)"
   ]
  },
  {
   "cell_type": "code",
   "execution_count": 41,
   "id": "48af7093-02da-4518-94a7-df7c8d20bc10",
   "metadata": {},
   "outputs": [],
   "source": [
    "XOM_df.to_csv('../Data/Preprocessed/XOM_Data.csv')"
   ]
  },
  {
   "cell_type": "markdown",
   "id": "2563272f-a6d0-41b8-8fb2-ba0d5744a00a",
   "metadata": {},
   "source": [
    "### JPM"
   ]
  },
  {
   "cell_type": "code",
   "execution_count": 42,
   "id": "871a0245-3ec8-4aca-88b4-ebbb61574716",
   "metadata": {},
   "outputs": [
    {
     "data": {
      "text/html": [
       "<div>\n",
       "<style scoped>\n",
       "    .dataframe tbody tr th:only-of-type {\n",
       "        vertical-align: middle;\n",
       "    }\n",
       "\n",
       "    .dataframe tbody tr th {\n",
       "        vertical-align: top;\n",
       "    }\n",
       "\n",
       "    .dataframe thead th {\n",
       "        text-align: right;\n",
       "    }\n",
       "</style>\n",
       "<table border=\"1\" class=\"dataframe\">\n",
       "  <thead>\n",
       "    <tr style=\"text-align: right;\">\n",
       "      <th></th>\n",
       "      <th>Date</th>\n",
       "      <th>High</th>\n",
       "      <th>Low</th>\n",
       "      <th>Close</th>\n",
       "    </tr>\n",
       "  </thead>\n",
       "  <tbody>\n",
       "    <tr>\n",
       "      <th>13070</th>\n",
       "      <td>1999-06-18</td>\n",
       "      <td>25.543460</td>\n",
       "      <td>25.109519</td>\n",
       "      <td>25.287041</td>\n",
       "    </tr>\n",
       "    <tr>\n",
       "      <th>13071</th>\n",
       "      <td>1999-06-21</td>\n",
       "      <td>26.431068</td>\n",
       "      <td>25.563183</td>\n",
       "      <td>26.352171</td>\n",
       "    </tr>\n",
       "    <tr>\n",
       "      <th>13072</th>\n",
       "      <td>1999-06-22</td>\n",
       "      <td>26.431074</td>\n",
       "      <td>25.720985</td>\n",
       "      <td>25.799885</td>\n",
       "    </tr>\n",
       "  </tbody>\n",
       "</table>\n",
       "</div>"
      ],
      "text/plain": [
       "             Date       High        Low      Close\n",
       "13070  1999-06-18  25.543460  25.109519  25.287041\n",
       "13071  1999-06-21  26.431068  25.563183  26.352171\n",
       "13072  1999-06-22  26.431074  25.720985  25.799885"
      ]
     },
     "execution_count": 42,
     "metadata": {},
     "output_type": "execute_result"
    }
   ],
   "source": [
    "JPM_df = stocks_df[stocks_df['Ticker'] == 'JPM']\n",
    "JPM_df = JPM_df.drop(['Open', 'Volume', 'Dividends', 'Stock Splits', 'Ticker'], axis=1)\n",
    "JPM_df.head(3)"
   ]
  },
  {
   "cell_type": "code",
   "execution_count": 43,
   "id": "f7ddf777-126c-4172-91ad-eb4fbbf248d2",
   "metadata": {},
   "outputs": [],
   "source": [
    "JPM_df.to_csv('../Data/Preprocessed/JPM_Data.csv')"
   ]
  },
  {
   "cell_type": "markdown",
   "id": "a766a3cb-9658-47a7-8a36-2a0b1b349c71",
   "metadata": {},
   "source": [
    "### JNJ"
   ]
  },
  {
   "cell_type": "code",
   "execution_count": 44,
   "id": "a3571d28-0e7a-4159-9795-63fc39c762cc",
   "metadata": {},
   "outputs": [
    {
     "data": {
      "text/html": [
       "<div>\n",
       "<style scoped>\n",
       "    .dataframe tbody tr th:only-of-type {\n",
       "        vertical-align: middle;\n",
       "    }\n",
       "\n",
       "    .dataframe tbody tr th {\n",
       "        vertical-align: top;\n",
       "    }\n",
       "\n",
       "    .dataframe thead th {\n",
       "        text-align: right;\n",
       "    }\n",
       "</style>\n",
       "<table border=\"1\" class=\"dataframe\">\n",
       "  <thead>\n",
       "    <tr style=\"text-align: right;\">\n",
       "      <th></th>\n",
       "      <th>Date</th>\n",
       "      <th>High</th>\n",
       "      <th>Low</th>\n",
       "      <th>Close</th>\n",
       "    </tr>\n",
       "  </thead>\n",
       "  <tbody>\n",
       "    <tr>\n",
       "      <th>19605</th>\n",
       "      <td>1999-06-18</td>\n",
       "      <td>23.657540</td>\n",
       "      <td>23.161676</td>\n",
       "      <td>23.225658</td>\n",
       "    </tr>\n",
       "    <tr>\n",
       "      <th>19606</th>\n",
       "      <td>1999-06-21</td>\n",
       "      <td>23.225656</td>\n",
       "      <td>22.985721</td>\n",
       "      <td>23.049704</td>\n",
       "    </tr>\n",
       "    <tr>\n",
       "      <th>19607</th>\n",
       "      <td>1999-06-22</td>\n",
       "      <td>23.385614</td>\n",
       "      <td>23.065701</td>\n",
       "      <td>23.241653</td>\n",
       "    </tr>\n",
       "  </tbody>\n",
       "</table>\n",
       "</div>"
      ],
      "text/plain": [
       "             Date       High        Low      Close\n",
       "19605  1999-06-18  23.657540  23.161676  23.225658\n",
       "19606  1999-06-21  23.225656  22.985721  23.049704\n",
       "19607  1999-06-22  23.385614  23.065701  23.241653"
      ]
     },
     "execution_count": 44,
     "metadata": {},
     "output_type": "execute_result"
    }
   ],
   "source": [
    "JNJ_df = stocks_df[stocks_df['Ticker'] == 'JNJ']\n",
    "JNJ_df = JNJ_df.drop(['Open', 'Volume', 'Dividends', 'Stock Splits', 'Ticker'], axis=1)\n",
    "JNJ_df.head(3)"
   ]
  },
  {
   "cell_type": "code",
   "execution_count": 45,
   "id": "403675ca-005d-4aef-9628-9f9d638e2342",
   "metadata": {},
   "outputs": [],
   "source": [
    "JNJ_df.to_csv('../Data/Preprocessed/JNJ_Data.csv')"
   ]
  },
  {
   "cell_type": "markdown",
   "id": "5d5cae19-784a-49d4-848a-94d090d21dd9",
   "metadata": {},
   "source": [
    "### PG"
   ]
  },
  {
   "cell_type": "code",
   "execution_count": 46,
   "id": "aa21de39-ea1b-43b4-b7cd-3c9e629578a8",
   "metadata": {},
   "outputs": [
    {
     "data": {
      "text/html": [
       "<div>\n",
       "<style scoped>\n",
       "    .dataframe tbody tr th:only-of-type {\n",
       "        vertical-align: middle;\n",
       "    }\n",
       "\n",
       "    .dataframe tbody tr th {\n",
       "        vertical-align: top;\n",
       "    }\n",
       "\n",
       "    .dataframe thead th {\n",
       "        text-align: right;\n",
       "    }\n",
       "</style>\n",
       "<table border=\"1\" class=\"dataframe\">\n",
       "  <thead>\n",
       "    <tr style=\"text-align: right;\">\n",
       "      <th></th>\n",
       "      <th>Date</th>\n",
       "      <th>High</th>\n",
       "      <th>Low</th>\n",
       "      <th>Close</th>\n",
       "    </tr>\n",
       "  </thead>\n",
       "  <tbody>\n",
       "    <tr>\n",
       "      <th>26140</th>\n",
       "      <td>1999-06-18</td>\n",
       "      <td>22.770711</td>\n",
       "      <td>22.104251</td>\n",
       "      <td>22.318470</td>\n",
       "    </tr>\n",
       "    <tr>\n",
       "      <th>26141</th>\n",
       "      <td>1999-06-21</td>\n",
       "      <td>22.183596</td>\n",
       "      <td>21.786894</td>\n",
       "      <td>22.072519</td>\n",
       "    </tr>\n",
       "    <tr>\n",
       "      <th>26142</th>\n",
       "      <td>1999-06-22</td>\n",
       "      <td>22.183608</td>\n",
       "      <td>21.786905</td>\n",
       "      <td>21.993191</td>\n",
       "    </tr>\n",
       "  </tbody>\n",
       "</table>\n",
       "</div>"
      ],
      "text/plain": [
       "             Date       High        Low      Close\n",
       "26140  1999-06-18  22.770711  22.104251  22.318470\n",
       "26141  1999-06-21  22.183596  21.786894  22.072519\n",
       "26142  1999-06-22  22.183608  21.786905  21.993191"
      ]
     },
     "execution_count": 46,
     "metadata": {},
     "output_type": "execute_result"
    }
   ],
   "source": [
    "PG_df = stocks_df[stocks_df['Ticker'] == 'PG']\n",
    "PG_df = PG_df.drop(['Open', 'Volume', 'Dividends', 'Stock Splits', 'Ticker'], axis=1)\n",
    "PG_df.head(3)"
   ]
  },
  {
   "cell_type": "code",
   "execution_count": 47,
   "id": "621ebe8e-1ad8-4b26-991b-3a36753610b2",
   "metadata": {},
   "outputs": [],
   "source": [
    "PG_df.to_csv('../Data/Preprocessed/PG_Data.csv')"
   ]
  },
  {
   "cell_type": "markdown",
   "id": "1915df8c-9b90-43cf-8f6a-37c969aeff85",
   "metadata": {},
   "source": [
    "### S&P 500"
   ]
  },
  {
   "cell_type": "code",
   "execution_count": 55,
   "id": "255bbaaa-ec2f-47be-af51-76dd93307eb4",
   "metadata": {},
   "outputs": [
    {
     "data": {
      "text/html": [
       "<div>\n",
       "<style scoped>\n",
       "    .dataframe tbody tr th:only-of-type {\n",
       "        vertical-align: middle;\n",
       "    }\n",
       "\n",
       "    .dataframe tbody tr th {\n",
       "        vertical-align: top;\n",
       "    }\n",
       "\n",
       "    .dataframe thead th {\n",
       "        text-align: right;\n",
       "    }\n",
       "</style>\n",
       "<table border=\"1\" class=\"dataframe\">\n",
       "  <thead>\n",
       "    <tr style=\"text-align: right;\">\n",
       "      <th></th>\n",
       "      <th>Date</th>\n",
       "      <th>High</th>\n",
       "      <th>Low</th>\n",
       "      <th>Close</th>\n",
       "    </tr>\n",
       "  </thead>\n",
       "  <tbody>\n",
       "    <tr>\n",
       "      <th>32670</th>\n",
       "      <td>1999-07-26</td>\n",
       "      <td>85.789774</td>\n",
       "      <td>84.844432</td>\n",
       "      <td>84.923210</td>\n",
       "    </tr>\n",
       "    <tr>\n",
       "      <th>32671</th>\n",
       "      <td>1999-07-27</td>\n",
       "      <td>86.469216</td>\n",
       "      <td>85.317081</td>\n",
       "      <td>85.632195</td>\n",
       "    </tr>\n",
       "    <tr>\n",
       "      <th>32672</th>\n",
       "      <td>1999-07-28</td>\n",
       "      <td>86.538133</td>\n",
       "      <td>85.454929</td>\n",
       "      <td>85.907906</td>\n",
       "    </tr>\n",
       "  </tbody>\n",
       "</table>\n",
       "</div>"
      ],
      "text/plain": [
       "             Date       High        Low      Close\n",
       "32670  1999-07-26  85.789774  84.844432  84.923210\n",
       "32671  1999-07-27  86.469216  85.317081  85.632195\n",
       "32672  1999-07-28  86.538133  85.454929  85.907906"
      ]
     },
     "execution_count": 55,
     "metadata": {},
     "output_type": "execute_result"
    }
   ],
   "source": [
    "SPY_df = stocks_df[stocks_df['Ticker'] == 'SPY']\n",
    "SPY_df = SPY_df.drop(['Open', 'Volume', 'Dividends', 'Stock Splits', 'Ticker', 'Capital Gains'], axis=1)\n",
    "SPY_df.head(3)"
   ]
  },
  {
   "cell_type": "code",
   "execution_count": 56,
   "id": "42cffa3e-210e-430a-8c10-95359689ee1b",
   "metadata": {},
   "outputs": [],
   "source": [
    "SPY_df.to_csv('../Data/Preprocessed/SPY_Data.csv')"
   ]
  }
 ],
 "metadata": {
  "kernelspec": {
   "display_name": "nci_tesis",
   "language": "python",
   "name": "nci_tesis"
  },
  "language_info": {
   "codemirror_mode": {
    "name": "ipython",
    "version": 3
   },
   "file_extension": ".py",
   "mimetype": "text/x-python",
   "name": "python",
   "nbconvert_exporter": "python",
   "pygments_lexer": "ipython3",
   "version": "3.13.5"
  }
 },
 "nbformat": 4,
 "nbformat_minor": 5
}
