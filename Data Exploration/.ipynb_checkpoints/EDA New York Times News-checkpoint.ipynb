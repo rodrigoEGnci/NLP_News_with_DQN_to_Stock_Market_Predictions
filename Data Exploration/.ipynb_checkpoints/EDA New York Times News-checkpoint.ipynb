{
 "cells": [
  {
   "cell_type": "markdown",
   "id": "86221d6f-e5d2-4a2b-b387-a70d952e0c7a",
   "metadata": {},
   "source": [
    "# Exploratory Data Analyst of New York Times News Dataset"
   ]
  },
  {
   "cell_type": "markdown",
   "id": "c9f958cd-d708-4f3d-9e8d-f496ae4a97c1",
   "metadata": {},
   "source": [
    "As one of the most renowned online news platforms globally, The New York Times stands out for its exceptional ability to engage and connect with its readers. What sets this publication apart from others is its unique capacity to foster meaningful interactions with its audience. This dataset offers a wealth of information, presenting a valuable opportunity to analyze and gain insights from the extensive collection of news articles available through The New York Times."
   ]
  },
  {
   "cell_type": "markdown",
   "id": "4e77a396-0a77-4511-8619-0a17aae89f0a",
   "metadata": {},
   "source": [
    "### Columns:\n",
    "- **abstract:** A brief summary or description of the article's content.\n",
    "- **web_url:** The web address or URL of the article.\n",
    "- **snippet:** A short excerpt or snippet from the article.\n",
    "- **lead_paragraph:** The introductory paragraph of the article.\n",
    "- **print_section:** The section in the print version of the newspaper where the article was published.\n",
    "- **print_page:** The page number in the print version of the newspaper where the article was published.\n",
    "- **source:** The source or provider of the article\n",
    "- **multimedia:** Information about any multimedia content associated with the article, such as images or videos.\n",
    "- **headline:** The title or heading of the article.\n",
    "- **keywords:** Tags or keywords associated with the article, providing insights into its content."
   ]
  },
  {
   "cell_type": "code",
   "execution_count": 3,
   "id": "58f28b74-a9d1-4ba1-b5bc-27ee67661841",
   "metadata": {},
   "outputs": [],
   "source": [
    "import pandas as pd\n",
    "import numpy as np\n",
    "from datetime import datetime, timedelta"
   ]
  },
  {
   "cell_type": "code",
   "execution_count": 4,
   "id": "6553ce9e-a2af-4e17-8920-06fde1eaf80a",
   "metadata": {},
   "outputs": [
    {
     "name": "stderr",
     "output_type": "stream",
     "text": [
      "/var/folders/gt/_n6gk0zn66v7tnqb9xpcyk_c0000gn/T/ipykernel_6484/511978975.py:1: DtypeWarning: Columns (5) have mixed types. Specify dtype option on import or set low_memory=False.\n",
      "  nyt_df = pd.read_csv('../Data/Original/nyt-metadata.csv')\n"
     ]
    },
    {
     "data": {
      "text/html": [
       "<div>\n",
       "<style scoped>\n",
       "    .dataframe tbody tr th:only-of-type {\n",
       "        vertical-align: middle;\n",
       "    }\n",
       "\n",
       "    .dataframe tbody tr th {\n",
       "        vertical-align: top;\n",
       "    }\n",
       "\n",
       "    .dataframe thead th {\n",
       "        text-align: right;\n",
       "    }\n",
       "</style>\n",
       "<table border=\"1\" class=\"dataframe\">\n",
       "  <thead>\n",
       "    <tr style=\"text-align: right;\">\n",
       "      <th></th>\n",
       "      <th>abstract</th>\n",
       "      <th>web_url</th>\n",
       "      <th>snippet</th>\n",
       "      <th>lead_paragraph</th>\n",
       "      <th>print_section</th>\n",
       "      <th>print_page</th>\n",
       "      <th>source</th>\n",
       "      <th>multimedia</th>\n",
       "      <th>headline</th>\n",
       "      <th>keywords</th>\n",
       "      <th>pub_date</th>\n",
       "      <th>document_type</th>\n",
       "      <th>news_desk</th>\n",
       "      <th>section_name</th>\n",
       "      <th>byline</th>\n",
       "      <th>type_of_material</th>\n",
       "      <th>_id</th>\n",
       "      <th>word_count</th>\n",
       "      <th>uri</th>\n",
       "      <th>subsection_name</th>\n",
       "    </tr>\n",
       "  </thead>\n",
       "  <tbody>\n",
       "    <tr>\n",
       "      <th>0</th>\n",
       "      <td>Article on upcoming New York Giants-Dallas Cow...</td>\n",
       "      <td>https://www.nytimes.com/2000/01/01/sports/pro-...</td>\n",
       "      <td>Article on upcoming New York Giants-Dallas Cow...</td>\n",
       "      <td>Waiting in the visiting locker room at Texas S...</td>\n",
       "      <td>D</td>\n",
       "      <td>2.0</td>\n",
       "      <td>The New York Times</td>\n",
       "      <td>[]</td>\n",
       "      <td>{'main': 'Playoffs or No, Dallas Provides The ...</td>\n",
       "      <td>[{'name': 'organizations', 'value': 'New York ...</td>\n",
       "      <td>2000-01-01 05:00:00+00:00</td>\n",
       "      <td>article</td>\n",
       "      <td>Sports Desk</td>\n",
       "      <td>Sports</td>\n",
       "      <td>{'original': 'By Bill Pennington', 'person': [...</td>\n",
       "      <td>News</td>\n",
       "      <td>nyt://article/01111a48-3502-5021-8096-bc929379...</td>\n",
       "      <td>819.0</td>\n",
       "      <td>nyt://article/01111a48-3502-5021-8096-bc929379...</td>\n",
       "      <td>NaN</td>\n",
       "    </tr>\n",
       "    <tr>\n",
       "      <th>1</th>\n",
       "      <td>Jeanne C Pond letter expresses hope that spiri...</td>\n",
       "      <td>https://www.nytimes.com/2000/01/01/opinion/l-o...</td>\n",
       "      <td>Jeanne C Pond letter expresses hope that spiri...</td>\n",
       "      <td>To the Editor:</td>\n",
       "      <td>A</td>\n",
       "      <td>30.0</td>\n",
       "      <td>The New York Times</td>\n",
       "      <td>[]</td>\n",
       "      <td>{'main': 'On This First Day, a Fanfare for the...</td>\n",
       "      <td>[{'name': 'persons', 'value': 'Pond, Jeanne C'...</td>\n",
       "      <td>2000-01-01 05:00:00+00:00</td>\n",
       "      <td>article</td>\n",
       "      <td>Editorial Desk</td>\n",
       "      <td>Opinion</td>\n",
       "      <td>{'original': '', 'person': [], 'organization':...</td>\n",
       "      <td>Letter</td>\n",
       "      <td>nyt://article/02328edc-dad1-5eb0-900e-917162e4...</td>\n",
       "      <td>122.0</td>\n",
       "      <td>nyt://article/02328edc-dad1-5eb0-900e-917162e4...</td>\n",
       "      <td>NaN</td>\n",
       "    </tr>\n",
       "    <tr>\n",
       "      <th>2</th>\n",
       "      <td>Many experts on Y2K computer problem report th...</td>\n",
       "      <td>https://www.nytimes.com/2000/01/01/us/1-1-00-t...</td>\n",
       "      <td>Many experts on Y2K computer problem report th...</td>\n",
       "      <td>As the world slid nervously yesterday through ...</td>\n",
       "      <td>A</td>\n",
       "      <td>10.0</td>\n",
       "      <td>The New York Times</td>\n",
       "      <td>[]</td>\n",
       "      <td>{'main': \"Internet's Cheering Squad Nervously ...</td>\n",
       "      <td>[{'name': 'subject', 'value': 'Electronic Mail...</td>\n",
       "      <td>2000-01-01 05:00:00+00:00</td>\n",
       "      <td>article</td>\n",
       "      <td>National Desk</td>\n",
       "      <td>U.S.</td>\n",
       "      <td>{'original': 'By Barnaby J. Feder', 'person': ...</td>\n",
       "      <td>News</td>\n",
       "      <td>nyt://article/02a8f89b-153f-5b84-983c-e328de5b...</td>\n",
       "      <td>761.0</td>\n",
       "      <td>nyt://article/02a8f89b-153f-5b84-983c-e328de5b...</td>\n",
       "      <td>NaN</td>\n",
       "    </tr>\n",
       "    <tr>\n",
       "      <th>3</th>\n",
       "      <td>WILL the forces of globalism continue to push ...</td>\n",
       "      <td>https://www.nytimes.com/2000/01/01/news/vision...</td>\n",
       "      <td>NaN</td>\n",
       "      <td>WILL the forces of globalism continue to push ...</td>\n",
       "      <td>E</td>\n",
       "      <td>4.0</td>\n",
       "      <td>The New York Times</td>\n",
       "      <td>[]</td>\n",
       "      <td>{'main': 'Economic Thinking Finds a Free Marke...</td>\n",
       "      <td>[]</td>\n",
       "      <td>2000-01-01 05:00:00+00:00</td>\n",
       "      <td>article</td>\n",
       "      <td>The Millennium</td>\n",
       "      <td>Archives</td>\n",
       "      <td>{'original': 'By Floyd Norris', 'person': [{'f...</td>\n",
       "      <td>News</td>\n",
       "      <td>nyt://article/0634d837-97b8-59b5-aa17-f90d1a89...</td>\n",
       "      <td>916.0</td>\n",
       "      <td>nyt://article/0634d837-97b8-59b5-aa17-f90d1a89...</td>\n",
       "      <td>NaN</td>\n",
       "    </tr>\n",
       "    <tr>\n",
       "      <th>4</th>\n",
       "      <td>SPECIAL TODAY  The Millennium  Envisioning th...</td>\n",
       "      <td>https://www.nytimes.com/2000/01/01/nyregion/in...</td>\n",
       "      <td>NaN</td>\n",
       "      <td>SPECIAL TODAY</td>\n",
       "      <td>A</td>\n",
       "      <td>1.0</td>\n",
       "      <td>The New York Times</td>\n",
       "      <td>[]</td>\n",
       "      <td>{'main': 'INSIDE', 'kicker': None, 'content_ki...</td>\n",
       "      <td>[]</td>\n",
       "      <td>2000-01-01 05:00:00+00:00</td>\n",
       "      <td>article</td>\n",
       "      <td>Metropolitan Desk</td>\n",
       "      <td>New York</td>\n",
       "      <td>{'original': '', 'person': [], 'organization':...</td>\n",
       "      <td>Summary</td>\n",
       "      <td>nyt://article/0654cc64-c37f-594d-9290-1ce578cd...</td>\n",
       "      <td>102.0</td>\n",
       "      <td>nyt://article/0654cc64-c37f-594d-9290-1ce578cd...</td>\n",
       "      <td>NaN</td>\n",
       "    </tr>\n",
       "  </tbody>\n",
       "</table>\n",
       "</div>"
      ],
      "text/plain": [
       "                                            abstract  \\\n",
       "0  Article on upcoming New York Giants-Dallas Cow...   \n",
       "1  Jeanne C Pond letter expresses hope that spiri...   \n",
       "2  Many experts on Y2K computer problem report th...   \n",
       "3  WILL the forces of globalism continue to push ...   \n",
       "4   SPECIAL TODAY  The Millennium  Envisioning th...   \n",
       "\n",
       "                                             web_url  \\\n",
       "0  https://www.nytimes.com/2000/01/01/sports/pro-...   \n",
       "1  https://www.nytimes.com/2000/01/01/opinion/l-o...   \n",
       "2  https://www.nytimes.com/2000/01/01/us/1-1-00-t...   \n",
       "3  https://www.nytimes.com/2000/01/01/news/vision...   \n",
       "4  https://www.nytimes.com/2000/01/01/nyregion/in...   \n",
       "\n",
       "                                             snippet  \\\n",
       "0  Article on upcoming New York Giants-Dallas Cow...   \n",
       "1  Jeanne C Pond letter expresses hope that spiri...   \n",
       "2  Many experts on Y2K computer problem report th...   \n",
       "3                                                NaN   \n",
       "4                                                NaN   \n",
       "\n",
       "                                      lead_paragraph print_section print_page  \\\n",
       "0  Waiting in the visiting locker room at Texas S...             D        2.0   \n",
       "1                                     To the Editor:             A       30.0   \n",
       "2  As the world slid nervously yesterday through ...             A       10.0   \n",
       "3  WILL the forces of globalism continue to push ...             E        4.0   \n",
       "4                                      SPECIAL TODAY             A        1.0   \n",
       "\n",
       "               source multimedia  \\\n",
       "0  The New York Times         []   \n",
       "1  The New York Times         []   \n",
       "2  The New York Times         []   \n",
       "3  The New York Times         []   \n",
       "4  The New York Times         []   \n",
       "\n",
       "                                            headline  \\\n",
       "0  {'main': 'Playoffs or No, Dallas Provides The ...   \n",
       "1  {'main': 'On This First Day, a Fanfare for the...   \n",
       "2  {'main': \"Internet's Cheering Squad Nervously ...   \n",
       "3  {'main': 'Economic Thinking Finds a Free Marke...   \n",
       "4  {'main': 'INSIDE', 'kicker': None, 'content_ki...   \n",
       "\n",
       "                                            keywords  \\\n",
       "0  [{'name': 'organizations', 'value': 'New York ...   \n",
       "1  [{'name': 'persons', 'value': 'Pond, Jeanne C'...   \n",
       "2  [{'name': 'subject', 'value': 'Electronic Mail...   \n",
       "3                                                 []   \n",
       "4                                                 []   \n",
       "\n",
       "                    pub_date document_type          news_desk section_name  \\\n",
       "0  2000-01-01 05:00:00+00:00       article        Sports Desk       Sports   \n",
       "1  2000-01-01 05:00:00+00:00       article     Editorial Desk      Opinion   \n",
       "2  2000-01-01 05:00:00+00:00       article      National Desk         U.S.   \n",
       "3  2000-01-01 05:00:00+00:00       article     The Millennium     Archives   \n",
       "4  2000-01-01 05:00:00+00:00       article  Metropolitan Desk     New York   \n",
       "\n",
       "                                              byline type_of_material  \\\n",
       "0  {'original': 'By Bill Pennington', 'person': [...             News   \n",
       "1  {'original': '', 'person': [], 'organization':...           Letter   \n",
       "2  {'original': 'By Barnaby J. Feder', 'person': ...             News   \n",
       "3  {'original': 'By Floyd Norris', 'person': [{'f...             News   \n",
       "4  {'original': '', 'person': [], 'organization':...          Summary   \n",
       "\n",
       "                                                 _id  word_count  \\\n",
       "0  nyt://article/01111a48-3502-5021-8096-bc929379...       819.0   \n",
       "1  nyt://article/02328edc-dad1-5eb0-900e-917162e4...       122.0   \n",
       "2  nyt://article/02a8f89b-153f-5b84-983c-e328de5b...       761.0   \n",
       "3  nyt://article/0634d837-97b8-59b5-aa17-f90d1a89...       916.0   \n",
       "4  nyt://article/0654cc64-c37f-594d-9290-1ce578cd...       102.0   \n",
       "\n",
       "                                                 uri subsection_name  \n",
       "0  nyt://article/01111a48-3502-5021-8096-bc929379...             NaN  \n",
       "1  nyt://article/02328edc-dad1-5eb0-900e-917162e4...             NaN  \n",
       "2  nyt://article/02a8f89b-153f-5b84-983c-e328de5b...             NaN  \n",
       "3  nyt://article/0634d837-97b8-59b5-aa17-f90d1a89...             NaN  \n",
       "4  nyt://article/0654cc64-c37f-594d-9290-1ce578cd...             NaN  "
      ]
     },
     "execution_count": 4,
     "metadata": {},
     "output_type": "execute_result"
    }
   ],
   "source": [
    "nyt_df = pd.read_csv('../Data/Original/nyt-metadata.csv')\n",
    "nyt_df.head()"
   ]
  },
  {
   "cell_type": "code",
   "execution_count": null,
   "id": "14d058e9-2b11-4022-90ac-924c20ffae9f",
   "metadata": {},
   "outputs": [],
   "source": []
  },
  {
   "cell_type": "markdown",
   "id": "5650296e-f79e-40a6-8a5b-0e0774324982",
   "metadata": {},
   "source": [
    "### Structure of Dataset"
   ]
  },
  {
   "cell_type": "code",
   "execution_count": 6,
   "id": "80fac7fb-2577-4b8d-bae0-ae31646c55a9",
   "metadata": {},
   "outputs": [
    {
     "data": {
      "text/plain": [
       "(2191867, 20)"
      ]
     },
     "execution_count": 6,
     "metadata": {},
     "output_type": "execute_result"
    }
   ],
   "source": [
    "nyt_df.shape"
   ]
  },
  {
   "cell_type": "code",
   "execution_count": 9,
   "id": "29345249-c786-4517-a987-fbe8a8b80011",
   "metadata": {},
   "outputs": [
    {
     "name": "stdout",
     "output_type": "stream",
     "text": [
      "<class 'pandas.core.frame.DataFrame'>\n",
      "RangeIndex: 2191867 entries, 0 to 2191866\n",
      "Data columns (total 20 columns):\n",
      " #   Column            Dtype  \n",
      "---  ------            -----  \n",
      " 0   abstract          object \n",
      " 1   web_url           object \n",
      " 2   snippet           object \n",
      " 3   lead_paragraph    object \n",
      " 4   print_section     object \n",
      " 5   print_page        object \n",
      " 6   source            object \n",
      " 7   multimedia        object \n",
      " 8   headline          object \n",
      " 9   keywords          object \n",
      " 10  pub_date          object \n",
      " 11  document_type     object \n",
      " 12  news_desk         object \n",
      " 13  section_name      object \n",
      " 14  byline            object \n",
      " 15  type_of_material  object \n",
      " 16  _id               object \n",
      " 17  word_count        float64\n",
      " 18  uri               object \n",
      " 19  subsection_name   object \n",
      "dtypes: float64(1), object(19)\n",
      "memory usage: 334.5+ MB\n"
     ]
    }
   ],
   "source": [
    "nyt_df.info()"
   ]
  },
  {
   "cell_type": "code",
   "execution_count": 25,
   "id": "244b57d8-b73d-4062-95b4-6d9294d89be0",
   "metadata": {},
   "outputs": [
    {
     "data": {
      "text/plain": [
       "0    2000-01-01\n",
       "1    2000-01-01\n",
       "Name: pub_date, dtype: object"
      ]
     },
     "execution_count": 25,
     "metadata": {},
     "output_type": "execute_result"
    }
   ],
   "source": [
    "#Modify date to Analysis\n",
    "nyt_df['pub_date'] = pd.to_datetime(nyt_df['pub_date'], errors='coerce')\n",
    "nyt_df['pub_date'] = nyt_df['pub_date'].dt.date\n",
    "nyt_df['pub_date'].head(2)"
   ]
  },
  {
   "cell_type": "markdown",
   "id": "d0626aa8-21c5-4bd4-9537-f07f63ef20f3",
   "metadata": {},
   "source": [
    "### Summarize the Data"
   ]
  },
  {
   "cell_type": "code",
   "execution_count": 26,
   "id": "b12f1fcb-8b7d-4300-801b-a3769c23a050",
   "metadata": {},
   "outputs": [
    {
     "name": "stdout",
     "output_type": "stream",
     "text": [
      "abstract              31917\n",
      "web_url                   1\n",
      "snippet              196167\n",
      "lead_paragraph        41989\n",
      "print_section        746774\n",
      "print_page           748022\n",
      "source                    1\n",
      "multimedia                1\n",
      "headline                  1\n",
      "keywords                  1\n",
      "pub_date                  2\n",
      "document_type             1\n",
      "news_desk            301299\n",
      "section_name           2010\n",
      "byline                    1\n",
      "type_of_material      85290\n",
      "_id                       1\n",
      "word_count                2\n",
      "uri                       2\n",
      "subsection_name     1603587\n",
      "dtype: int64\n"
     ]
    }
   ],
   "source": [
    "#Get missing values \n",
    "missing_per_column = nyt_df.isnull().sum()\n",
    "print(missing_per_column)"
   ]
  },
  {
   "cell_type": "code",
   "execution_count": 29,
   "id": "b8da4db7-63a9-4124-812d-01d8bae3efdc",
   "metadata": {},
   "outputs": [
    {
     "name": "stdout",
     "output_type": "stream",
     "text": [
      "Oldst Date:  2000-01-01\n",
      "Recent Date:  2025-05-01\n"
     ]
    }
   ],
   "source": [
    "#Oldest and Newest days\n",
    "nyt_df = nyt_df.dropna(subset=['pub_date'])\n",
    "print(\"Oldst Date: \", nyt_df['pub_date'].min())\n",
    "print(\"Recent Date: \", nyt_df['pub_date'].max())"
   ]
  },
  {
   "cell_type": "code",
   "execution_count": 30,
   "id": "536d843a-0c99-4166-aa0c-b170f6914a65",
   "metadata": {},
   "outputs": [
    {
     "name": "stdout",
     "output_type": "stream",
     "text": [
      "pub_date\n",
      "2000-01-01    244\n",
      "2000-01-02    477\n",
      "2000-01-03    184\n",
      "2000-01-04    258\n",
      "2000-01-05    239\n",
      "2000-01-06    253\n",
      "2000-01-07    252\n",
      "2000-01-08    195\n",
      "2000-01-09    550\n",
      "2000-01-10    175\n",
      "2000-01-11    272\n",
      "2000-01-12    268\n",
      "2000-01-13    303\n",
      "2000-01-14    211\n",
      "2000-01-15    178\n",
      "2000-01-16    536\n",
      "2000-01-17    161\n",
      "2000-01-18    221\n",
      "2000-01-19    229\n",
      "2000-01-20    276\n",
      "Name: count, dtype: int64\n"
     ]
    }
   ],
   "source": [
    "#News by day of first days\n",
    "counts = nyt_df['pub_date'].value_counts().sort_index()\n",
    "print(counts.head(20))"
   ]
  },
  {
   "cell_type": "code",
   "execution_count": 31,
   "id": "eb5438bd-29a1-4a95-a20f-32ee65dfcdd5",
   "metadata": {},
   "outputs": [
    {
     "name": "stdout",
     "output_type": "stream",
     "text": [
      "pub_date\n",
      "2024-12-17    154\n",
      "2024-12-18    148\n",
      "2024-12-19    167\n",
      "2024-12-20    195\n",
      "2024-12-21     84\n",
      "2024-12-22     57\n",
      "2024-12-23    115\n",
      "2024-12-24     96\n",
      "2024-12-25     70\n",
      "2024-12-26     95\n",
      "2024-12-27    102\n",
      "2024-12-28     60\n",
      "2024-12-29     74\n",
      "2024-12-30    108\n",
      "2024-12-31     68\n",
      "2025-01-01      2\n",
      "2025-02-01     24\n",
      "2025-03-01      7\n",
      "2025-04-01    164\n",
      "2025-05-01    186\n",
      "Name: count, dtype: int64\n"
     ]
    }
   ],
   "source": [
    "#News by day of last days\n",
    "print(counts.tail(20))"
   ]
  },
  {
   "cell_type": "code",
   "execution_count": 32,
   "id": "a9a5ceac-c397-43f9-9de1-963054fda789",
   "metadata": {},
   "outputs": [
    {
     "data": {
      "text/plain": [
       "array(['News', 'Letter', 'Summary', 'Paid Death Notice', 'Chronology',\n",
       "       'Review', 'Op-Ed', 'Obituary; Biography', 'Correction', 'List',\n",
       "       'Interview', 'Biography', 'An Analysis; News Analysis',\n",
       "       'Editorial', 'Statistics', \"Editors' Note\", 'Schedule', 'Series',\n",
       "       'Question', 'Special Report', 'Text', 'Op-Ed; Caption',\n",
       "       'Transcript', 'Biography; Obituary', 'Interview; Text',\n",
       "       'Chronology; Special Report', 'Series; Interview', 'An Appraisal',\n",
       "       'Series; Text', 'Caption; Op-Ed', 'Special Report; Chronology',\n",
       "       'Text; Interview', 'An Analysis', nan, 'Series; Chronology',\n",
       "       'An Analysis; Military Analysis', 'Chronology; Series',\n",
       "       'Series; Biography', 'News Analysis', 'QandA', 'Results Listing',\n",
       "       'Profile', 'Slideshow', 'Obituary',\n",
       "       'An Analysis; Economic Analysis', 'Sidebar',\n",
       "       'Chronology; An Analysis; News Analysis', 'Interview; Series',\n",
       "       'Video', 'Quote', 'Biography; Series', 'Editorial; Series',\n",
       "       'Series; Editorial', 'An Analysis; News Analysis; Chronology',\n",
       "       'First Chapter', 'Op-Ed; Series', 'List; Chronology',\n",
       "       'Text; Review', 'Op-Ed; Text', 'Review; Text', 'Glossary',\n",
       "       'Review; List', 'Interview; Review', 'Editorial; List',\n",
       "       'List; Review', 'Obituary (Obit)', 'recipe', 'Review; Series',\n",
       "       'Editors Note', 'Caption; Editorial', 'Biography; Chronology',\n",
       "       'Correction; Biography', 'Correction; Series',\n",
       "       \"Correction; Editors' Note\", 'Interactive Feature', 'Brief',\n",
       "       'Military Analysis', 'Web Log', 'Caption', 'Postscript',\n",
       "       'Interactive Graphic', 'Premium', 'Audio Podcast', 'Addendum',\n",
       "       'Newsletter', 'Economic Analysis', 'briefing', 'NYT Cooking'],\n",
       "      dtype=object)"
      ]
     },
     "execution_count": 32,
     "metadata": {},
     "output_type": "execute_result"
    }
   ],
   "source": [
    "#All variables from type_of_material\n",
    "nyt_df['type_of_material'].unique()"
   ]
  },
  {
   "cell_type": "code",
   "execution_count": 41,
   "id": "d2c7a1c3-552e-4efd-957f-39691cac4a1b",
   "metadata": {},
   "outputs": [
    {
     "name": "stdout",
     "output_type": "stream",
     "text": [
      "type_of_material\n",
      "Addendum                                      3\n",
      "An Analysis                                  87\n",
      "An Analysis; Economic Analysis               19\n",
      "An Analysis; Military Analysis               68\n",
      "An Analysis; News Analysis                 1949\n",
      "An Analysis; News Analysis; Chronology        1\n",
      "An Appraisal                                235\n",
      "Audio Podcast                                 9\n",
      "Biography                                  2786\n",
      "Biography; Chronology                         1\n",
      "Biography; Obituary                          17\n",
      "Biography; Series                             1\n",
      "Brief                                     21527\n",
      "Caption                                      85\n",
      "Caption; Editorial                            1\n",
      "Caption; Op-Ed                               21\n",
      "Chronology                                  246\n",
      "Chronology; An Analysis; News Analysis        2\n",
      "Chronology; Series                            1\n",
      "Chronology; Special Report                    2\n",
      "Correction                                39528\n",
      "Correction; Biography                         1\n",
      "Correction; Editors' Note                     1\n",
      "Correction; Series                            2\n",
      "Economic Analysis                            23\n",
      "Editorial                                 27635\n",
      "Editorial; List                               4\n",
      "Editorial; Series                           114\n",
      "Editors Note                                  1\n",
      "Editors' Note                              1089\n",
      "Name: count, dtype: int64\n"
     ]
    }
   ],
   "source": [
    "counts_type_material = nyt_df['type_of_material'].value_counts().sort_index()\n",
    "print(counts_type_material.head(30))"
   ]
  },
  {
   "cell_type": "code",
   "execution_count": 38,
   "id": "eb1f50b6-f06e-4b52-9200-e3c382af262a",
   "metadata": {},
   "outputs": [
    {
     "name": "stdout",
     "output_type": "stream",
     "text": [
      "Most common type_of_material: News (1417125 times)\n"
     ]
    }
   ],
   "source": [
    "most_common = counts_type_material.idxmax()\n",
    "max_count = counts_type_material.max()\n",
    "\n",
    "print(f\"Most common type_of_material: {most_common} ({max_count} times)\")"
   ]
  },
  {
   "cell_type": "code",
   "execution_count": 40,
   "id": "40467997-3059-4110-942b-a65c4b1286c6",
   "metadata": {},
   "outputs": [
    {
     "name": "stdout",
     "output_type": "stream",
     "text": [
      "Most common type_of_material: An Analysis; News Analysis; Chronology (1 times)\n"
     ]
    }
   ],
   "source": [
    "less_common = counts_type_material.idxmin()\n",
    "min_count = counts_type_material.min()\n",
    "\n",
    "print(f\"Most common type_of_material: {less_common} ({min_count} times)\")"
   ]
  },
  {
   "cell_type": "code",
   "execution_count": null,
   "id": "e3300adf-c1c0-4e3b-af02-7d9f93087d7b",
   "metadata": {},
   "outputs": [],
   "source": []
  },
  {
   "cell_type": "code",
   "execution_count": null,
   "id": "f6fd01f2-d111-4075-8bb9-e28e087fdd3e",
   "metadata": {},
   "outputs": [],
   "source": []
  },
  {
   "cell_type": "code",
   "execution_count": null,
   "id": "12363308-cc9c-4d2a-9908-6ee416aff369",
   "metadata": {},
   "outputs": [],
   "source": []
  },
  {
   "cell_type": "code",
   "execution_count": null,
   "id": "0e4c19be-1c0e-4b4a-9fde-74b9a2f4fe91",
   "metadata": {},
   "outputs": [],
   "source": []
  },
  {
   "cell_type": "code",
   "execution_count": null,
   "id": "b8876e51-6430-4424-a50f-fcdab3b4adfb",
   "metadata": {},
   "outputs": [],
   "source": []
  },
  {
   "cell_type": "code",
   "execution_count": null,
   "id": "947abc70-ed5e-44b9-a0e2-4ae18573e252",
   "metadata": {},
   "outputs": [],
   "source": []
  },
  {
   "cell_type": "code",
   "execution_count": null,
   "id": "f7eecc16-8745-45a3-99b0-fd3f43e89cbe",
   "metadata": {},
   "outputs": [],
   "source": []
  }
 ],
 "metadata": {
  "kernelspec": {
   "display_name": "nci_tesis",
   "language": "python",
   "name": "nci_tesis"
  },
  "language_info": {
   "codemirror_mode": {
    "name": "ipython",
    "version": 3
   },
   "file_extension": ".py",
   "mimetype": "text/x-python",
   "name": "python",
   "nbconvert_exporter": "python",
   "pygments_lexer": "ipython3",
   "version": "3.13.5"
  }
 },
 "nbformat": 4,
 "nbformat_minor": 5
}
